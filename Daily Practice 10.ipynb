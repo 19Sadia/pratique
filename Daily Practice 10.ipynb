{
 "cells": [
  {
   "cell_type": "code",
   "execution_count": 1,
   "id": "43fdeb58",
   "metadata": {},
   "outputs": [
    {
     "name": "stdout",
     "output_type": "stream",
     "text": [
      "number starts from 100 to 1\n",
      "enter5\n",
      "5\n",
      "4\n",
      "3\n",
      "2\n",
      "1\n"
     ]
    }
   ],
   "source": [
    "# Display the numbers in reverse from 100 to 1\n",
    "\n",
    "print(\"number starts from 100 to 1\")\n",
    "num=int(input(\"enter\"))\n",
    "\n",
    "for x in range(num,0,-1):\n",
    "    \n",
    "    print(x)"
   ]
  },
  {
   "cell_type": "code",
   "execution_count": 2,
   "id": "beed3e22",
   "metadata": {},
   "outputs": [
    {
     "name": "stdout",
     "output_type": "stream",
     "text": [
      "enter8\n",
      "80\n",
      "88\n",
      "96\n",
      "104\n",
      "112\n",
      "120\n",
      "128\n",
      "136\n",
      "144\n",
      "152\n",
      "160\n",
      "168\n",
      "176\n",
      "184\n",
      "192\n",
      "200\n",
      "208\n",
      "216\n",
      "224\n",
      "232\n",
      "240\n",
      "248\n",
      "256\n",
      "264\n",
      "272\n",
      "280\n",
      "288\n",
      "296\n",
      "304\n",
      "312\n",
      "320\n",
      "328\n",
      "336\n",
      "344\n",
      "352\n",
      "360\n",
      "368\n",
      "376\n",
      "384\n",
      "392\n",
      "400\n"
     ]
    }
   ],
   "source": [
    "# Display multiples of 2 from 10 to 50 using range\n",
    "\n",
    "num=int(input(\"enter\"))\n",
    "for x in range(10,51):\n",
    "    print (x*num)"
   ]
  },
  {
   "cell_type": "code",
   "execution_count": 3,
   "id": "14066d37",
   "metadata": {},
   "outputs": [
    {
     "name": "stdout",
     "output_type": "stream",
     "text": [
      "Red\n",
      "Black\n"
     ]
    }
   ],
   "source": [
    "# Write a Python program to display the first and last colors from the following list.\n",
    "# color_list = [\"Red\",\"Green\",\"White\" ,\"Black\"]\n",
    "\n",
    "color_list = [\"Red\",\"Green\",\"White\" ,\"Black\"]\n",
    "print(color_list[0])\n",
    "print(color_list[3])"
   ]
  },
  {
   "cell_type": "code",
   "execution_count": 5,
   "id": "a1792dfc",
   "metadata": {},
   "outputs": [
    {
     "name": "stdout",
     "output_type": "stream",
     "text": [
      "417\n"
     ]
    }
   ],
   "source": [
    "# Write a Python program to calculate number of days between two dates.\n",
    "# Sample dates : (2014, 7, 2), (2013, 5, 11)\n",
    "    \n",
    "from datetime import date\n",
    "\n",
    "date1=date(2014, 7, 2)\n",
    "date2=date(2013, 5, 11)\n",
    "\n",
    "datex=date1-date2\n",
    "\n",
    "print(datex.days)"
   ]
  },
  {
   "cell_type": "code",
   "execution_count": 8,
   "id": "60c9d167",
   "metadata": {},
   "outputs": [
    {
     "name": "stdout",
     "output_type": "stream",
     "text": [
      "enter33\n",
      "26\n"
     ]
    }
   ],
   "source": [
    "# 14)Write a Python program to get the difference between a given number and 20,\n",
    "# if the number is greater than 20 return double the absolute difference\n",
    "\n",
    "num=int(input(\"enter\"))\n",
    "if num>=20:\n",
    "    print((num-20)*2)\n",
    "elif num<=20:\n",
    "    print(num-20)"
   ]
  },
  {
   "cell_type": "code",
   "execution_count": null,
   "id": "478488f7",
   "metadata": {},
   "outputs": [],
   "source": []
  }
 ],
 "metadata": {
  "kernelspec": {
   "display_name": "Python 3 (ipykernel)",
   "language": "python",
   "name": "python3"
  },
  "language_info": {
   "codemirror_mode": {
    "name": "ipython",
    "version": 3
   },
   "file_extension": ".py",
   "mimetype": "text/x-python",
   "name": "python",
   "nbconvert_exporter": "python",
   "pygments_lexer": "ipython3",
   "version": "3.11.5"
  }
 },
 "nbformat": 4,
 "nbformat_minor": 5
}
