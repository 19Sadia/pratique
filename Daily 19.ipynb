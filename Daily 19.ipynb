{
 "cells": [
  {
   "cell_type": "code",
   "execution_count": 3,
   "id": "d5af5890",
   "metadata": {},
   "outputs": [],
   "source": [
    "import pandas as pd"
   ]
  },
  {
   "cell_type": "code",
   "execution_count": 4,
   "id": "2a7e22aa",
   "metadata": {},
   "outputs": [
    {
     "name": "stdout",
     "output_type": "stream",
     "text": [
      "Add two Series:\n",
      "0     3\n",
      "1     7\n",
      "2    11\n",
      "3    15\n",
      "4    19\n",
      "dtype: int64\n",
      "Subtract two Series:\n",
      "0     3\n",
      "1     7\n",
      "2    11\n",
      "3    15\n",
      "4    19\n",
      "dtype: int64\n",
      "Multiply two Series:\n",
      "0     3\n",
      "1     7\n",
      "2    11\n",
      "3    15\n",
      "4    19\n",
      "dtype: int64\n",
      "Divide Series1 by Series2:\n",
      "0     3\n",
      "1     7\n",
      "2    11\n",
      "3    15\n",
      "4    19\n",
      "dtype: int64\n"
     ]
    }
   ],
   "source": [
    "# Write a Pandas program to add, subtract, multiple and divide two Pandas Series.\n",
    "\n",
    "\n",
    "d1 = pd.Series([2, 4, 6, 8, 10])\n",
    "d2 = pd.Series([1, 3, 5, 7, 9])\n",
    "d = d1 + d2\n",
    "print(\"Add two Series:\")\n",
    "print(d)\n",
    "print(\"Subtract two Series:\")\n",
    "ds = d1 - d2\n",
    "print(d)\n",
    "print(\"Multiply two Series:\")\n",
    "ds = d1 * d2\n",
    "print(d)\n",
    "print(\"Divide Series1 by Series2:\")\n",
    "ds = d1 / d2\n",
    "print(d)\n"
   ]
  },
  {
   "cell_type": "code",
   "execution_count": 5,
   "id": "0f3f5293",
   "metadata": {},
   "outputs": [
    {
     "name": "stdout",
     "output_type": "stream",
     "text": [
      "0    False\n",
      "1    False\n",
      "2    False\n",
      "3    False\n",
      "4     True\n",
      "dtype: bool\n",
      "Greater than:\n",
      "0     True\n",
      "1     True\n",
      "2     True\n",
      "3     True\n",
      "4    False\n",
      "dtype: bool\n",
      "Less than:\n",
      "0    False\n",
      "1    False\n",
      "2    False\n",
      "3    False\n",
      "4    False\n",
      "dtype: bool\n"
     ]
    }
   ],
   "source": [
    "# Write a Pandas program to compare the elements of the two Pandas Series.\n",
    "\n",
    "d1 = pd.Series([2, 4, 6, 8, 10])\n",
    "d2 = pd.Series([1, 3, 5, 7, 10])\n",
    "print(d1 == d2)\n",
    "print(\"Greater than:\")\n",
    "print(d1 > d2)\n",
    "print(\"Less than:\")\n",
    "print(d1 < d2)"
   ]
  },
  {
   "cell_type": "code",
   "execution_count": 8,
   "id": "f9c46593",
   "metadata": {},
   "outputs": [
    {
     "name": "stdout",
     "output_type": "stream",
     "text": [
      "Original DataFrame\n",
      "   column1  column2  column3\n",
      "0        1        6       11\n",
      "1        2        7       12\n",
      "2        3        8       13\n",
      "3        4        9       14\n",
      "4        5       10       15\n",
      "\n",
      "1st column as a Series:\n",
      "0    1\n",
      "1    2\n",
      "2    3\n",
      "3    4\n",
      "4    5\n",
      "Name: column1, dtype: int64\n",
      "<class 'pandas.core.series.Series'>\n"
     ]
    }
   ],
   "source": [
    "# Write a Pandas program to convert the first column of a DataFrame as a Series.\n",
    "\n",
    "d = {'column1': [1, 2, 3, 4, 5], 'column2': [6, 7, 8, 9, 10 ], 'column3': [11, 12, 13, 14, 15]}\n",
    "data = pd.DataFrame(data=d)\n",
    "\n",
    "print(\"Original DataFrame\")\n",
    "print(df)\n",
    "\n",
    "s = df.iloc[:, 0]\n",
    "\n",
    "print(\"\\n1st column as a Series:\")\n",
    "print(s)\n",
    "print(type(s)) "
   ]
  },
  {
   "cell_type": "code",
   "execution_count": 10,
   "id": "41f5beb7",
   "metadata": {},
   "outputs": [
    {
     "name": "stdout",
     "output_type": "stream",
     "text": [
      "One Series\n",
      "0       Red\n",
      "1     Green\n",
      "2     White\n",
      "3       Red\n",
      "4     Black\n",
      "5    Yellow\n",
      "dtype: object\n"
     ]
    }
   ],
   "source": [
    "# Write a Pandas program to convert Series of lists to one Series.\n",
    "\n",
    "s = pd.Series([\n",
    "    ['Red', 'Green', 'White'],\n",
    "    ['Red', 'Black'],\n",
    "    ['Yellow']])\n",
    "s = s.apply(pd.Series).stack().reset_index(drop=True)\n",
    "print(\"One Series\")\n",
    "print(s)"
   ]
  },
  {
   "cell_type": "code",
   "execution_count": 13,
   "id": "81fd520a",
   "metadata": {},
   "outputs": [
    {
     "name": "stdout",
     "output_type": "stream",
     "text": [
      "\n",
      "Difference of differences of consecutive numbers:\n",
      "[nan, 2.0, 2.0, 3.0, 2.0, 1.0, 4.0]\n",
      "[nan, nan, 0.0, 1.0, -1.0, -1.0, 3.0]\n"
     ]
    }
   ],
   "source": [
    "# Write a Pandas program to compute difference of differences between consecutive numbers of a given series.\n",
    "\n",
    "s = pd.Series([1, 3, 5, 8, 10, 11, 15])\n",
    "print(\"\\nDifference of differences of consecutive numbers:\")\n",
    "print(s.diff().tolist())\n",
    "print(s.diff().diff().tolist())"
   ]
  },
  {
   "cell_type": "code",
   "execution_count": null,
   "id": "f02a5386",
   "metadata": {},
   "outputs": [],
   "source": []
  }
 ],
 "metadata": {
  "kernelspec": {
   "display_name": "Python 3 (ipykernel)",
   "language": "python",
   "name": "python3"
  },
  "language_info": {
   "codemirror_mode": {
    "name": "ipython",
    "version": 3
   },
   "file_extension": ".py",
   "mimetype": "text/x-python",
   "name": "python",
   "nbconvert_exporter": "python",
   "pygments_lexer": "ipython3",
   "version": "3.11.5"
  }
 },
 "nbformat": 4,
 "nbformat_minor": 5
}
