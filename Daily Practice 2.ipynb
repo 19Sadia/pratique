{
 "cells": [
  {
   "cell_type": "code",
   "execution_count": 1,
   "id": "a5e10b87",
   "metadata": {},
   "outputs": [
    {
     "name": "stdout",
     "output_type": "stream",
     "text": [
      "sum: 1\n",
      "sum: 3\n",
      "sum: 6\n",
      "sum: 10\n",
      "sum: 15\n",
      "sum: 21\n",
      "sum: 28\n",
      "sum: 36\n",
      "sum: 45\n",
      "sum: 55\n",
      "sum: 66\n",
      "sum: 78\n",
      "sum: 91\n",
      "sum: 105\n",
      "sum: 120\n",
      "sum: 136\n",
      "sum: 153\n",
      "sum: 171\n",
      "sum: 190\n",
      "sum: 210\n"
     ]
    }
   ],
   "source": [
    "#WAP to print the sum of 1-20\n",
    "\n",
    "add=0\n",
    "for x in range(1,21):\n",
    "    if (x>0):\n",
    "        add=add+x\n",
    "        print(\"sum:\",add)\n",
    "        "
   ]
  },
  {
   "cell_type": "code",
   "execution_count": 2,
   "id": "0cadbec0",
   "metadata": {},
   "outputs": [
    {
     "name": "stdout",
     "output_type": "stream",
     "text": [
      "[1, 2, 3, 4, 5, 6, 7, 8, 9]\n",
      "[1, 2, 3, 4, 5, 6, 7, 8, 9]\n",
      "[1, 2, 3, 4, 5, 6, 7, 8, 9]\n",
      "[1, 2, 3, 4, 5, 6, 7, 8, 9]\n",
      "[1, 2, 3, 4, 5, 6, 7, 8, 9]\n",
      "[1, 2, 3, 4, 5, 6, 7, 8, 9]\n",
      "[1, 2, 3, 4, 5, 6, 7, 8, 9]\n",
      "[1, 2, 3, 4, 5, 6, 7, 8, 9]\n",
      "[1, 2, 3, 4, 5, 6, 7, 8, 9]\n",
      "[9, 8, 7, 6, 5, 4, 3, 2, 1]\n"
     ]
    }
   ],
   "source": [
    "#WAP to reverse a list while using loop\n",
    "\n",
    "lis1=[1,2,3,4,5,6,7,8,9]\n",
    "rev=[]\n",
    "for x in lis1:\n",
    "    rev=[x]+rev\n",
    "    \n",
    "    print(lis1)\n",
    "print(rev)"
   ]
  },
  {
   "cell_type": "code",
   "execution_count": 3,
   "id": "c2d0af1b",
   "metadata": {},
   "outputs": [
    {
     "name": "stdout",
     "output_type": "stream",
     "text": [
      "factorial: 1\n",
      "factorial: 2\n",
      "factorial: 6\n",
      "factorial: 24\n",
      "factorial: 120\n"
     ]
    }
   ],
   "source": [
    "#Python program to find the factorial of a given number.\n",
    "num=5\n",
    "fac=1\n",
    "for x in range(1,num+1):\n",
    "         fac=fac*x\n",
    "         print(\"factorial:\",fac)"
   ]
  },
  {
   "cell_type": "code",
   "execution_count": 4,
   "id": "134c55a5",
   "metadata": {},
   "outputs": [
    {
     "name": "stdout",
     "output_type": "stream",
     "text": [
      "sum: 1\n",
      "sum: 4\n",
      "sum: 9\n",
      "sum: 16\n",
      "sum: 25\n"
     ]
    }
   ],
   "source": [
    "# WAP to calculate the sum of all the odd numbers within the given range.\n",
    "o=0\n",
    "add=0\n",
    "for x in range(1,10):\n",
    "    if (x%2!=0):\n",
    "        o=o+1\n",
    "        add=add+x\n",
    "        print(\"sum:\",add)\n",
    "        "
   ]
  },
  {
   "cell_type": "code",
   "execution_count": 5,
   "id": "48660c4e",
   "metadata": {},
   "outputs": [
    {
     "name": "stdout",
     "output_type": "stream",
     "text": [
      "a is greater then b\n"
     ]
    }
   ],
   "source": [
    "# WAP and Take two int values from user and print greatest among them.\n",
    "\n",
    "a=90\n",
    "b=76\n",
    "if (a>b):\n",
    "    print('a is greater then b')\n",
    "elif (b>a):\n",
    "    print('b greater than a')\n",
    "else:\n",
    "    print('both equal')"
   ]
  },
  {
   "cell_type": "code",
   "execution_count": null,
   "id": "43d51dfa",
   "metadata": {},
   "outputs": [],
   "source": []
  }
 ],
 "metadata": {
  "kernelspec": {
   "display_name": "Python 3 (ipykernel)",
   "language": "python",
   "name": "python3"
  },
  "language_info": {
   "codemirror_mode": {
    "name": "ipython",
    "version": 3
   },
   "file_extension": ".py",
   "mimetype": "text/x-python",
   "name": "python",
   "nbconvert_exporter": "python",
   "pygments_lexer": "ipython3",
   "version": "3.11.5"
  }
 },
 "nbformat": 4,
 "nbformat_minor": 5
}
