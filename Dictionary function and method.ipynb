{
 "cells": [
  {
   "cell_type": "raw",
   "id": "cb8d9a53",
   "metadata": {},
   "source": [
    "Dictionaries are used to store data values in key:value pairs.\n",
    "\n",
    "A dictionary is a collection which is ordered*, changeable and do not allow duplicates."
   ]
  },
  {
   "cell_type": "raw",
   "id": "8f640ece",
   "metadata": {},
   "source": [
    "dict.key(): give all the keys\n",
    "dict.value(): give all value\n",
    "dict.items(): give combination of keys \n",
    "\n",
    "Json format is used to stored data"
   ]
  },
  {
   "cell_type": "code",
   "execution_count": 2,
   "id": "28f0c5bf",
   "metadata": {},
   "outputs": [
    {
     "name": "stdout",
     "output_type": "stream",
     "text": [
      "sadiya\n"
     ]
    }
   ],
   "source": [
    "dic={'name':\"sadiya\",'age':23,'location':\"pune\"}\n",
    "print(dic['name'])"
   ]
  },
  {
   "cell_type": "code",
   "execution_count": 3,
   "id": "b071c89b",
   "metadata": {},
   "outputs": [
    {
     "data": {
      "text/plain": [
       "dict_keys(['name', 'age', 'location'])"
      ]
     },
     "execution_count": 3,
     "metadata": {},
     "output_type": "execute_result"
    }
   ],
   "source": [
    "dic.keys()"
   ]
  },
  {
   "cell_type": "code",
   "execution_count": 5,
   "id": "34deedd2",
   "metadata": {},
   "outputs": [
    {
     "data": {
      "text/plain": [
       "dict_values(['sadiya', 23, 'pune'])"
      ]
     },
     "execution_count": 5,
     "metadata": {},
     "output_type": "execute_result"
    }
   ],
   "source": [
    "dic.values()"
   ]
  },
  {
   "cell_type": "code",
   "execution_count": 6,
   "id": "2ce8151d",
   "metadata": {},
   "outputs": [
    {
     "data": {
      "text/plain": [
       "dict_items([('name', 'sadiya'), ('age', 23), ('location', 'pune')])"
      ]
     },
     "execution_count": 6,
     "metadata": {},
     "output_type": "execute_result"
    }
   ],
   "source": [
    "dic.items()"
   ]
  },
  {
   "cell_type": "code",
   "execution_count": 11,
   "id": "93e0fdea",
   "metadata": {},
   "outputs": [
    {
     "name": "stdout",
     "output_type": "stream",
     "text": [
      "riya\n"
     ]
    }
   ],
   "source": [
    "dicti={'name':['sadia','diya','sam','riya'],\n",
    "      'id':[1,2,3,4],\n",
    "      'salary':[10,20,30,40]}\n",
    "\n",
    "print(dicti['name'][3])"
   ]
  },
  {
   "cell_type": "code",
   "execution_count": 12,
   "id": "322e55f9",
   "metadata": {},
   "outputs": [
    {
     "name": "stdout",
     "output_type": "stream",
     "text": [
      "{'name': ['sadia', 'diya', 'sam', 'riya'], 'id': [1, 2, 3, 4], 'salary': [10, 20, 30, 40]}\n"
     ]
    }
   ],
   "source": [
    "dicti={'name':['sadia','diya','sam','riya'],\n",
    "      'id':[1,2,3,4],\n",
    "      'salary':[10,20,30,40]}\n",
    "\n",
    "print(dicti)"
   ]
  },
  {
   "cell_type": "code",
   "execution_count": 13,
   "id": "97c64d43",
   "metadata": {},
   "outputs": [
    {
     "name": "stdout",
     "output_type": "stream",
     "text": [
      "{'name': {'diya', 'sam', 'sadia', 'riya'}, 'id': {1, 2, 3, 4}, 'salary': {40, 10, 20, 30}}\n"
     ]
    }
   ],
   "source": [
    "dicti={'name':{'sadia','diya','sam','riya'},\n",
    "      'id':{1,2,3,4},\n",
    "      'salary':{10,20,30,40}}\n",
    "\n",
    "print(dicti)"
   ]
  },
  {
   "cell_type": "markdown",
   "id": "b900a7de",
   "metadata": {},
   "source": [
    "### Function"
   ]
  },
  {
   "cell_type": "markdown",
   "id": "16e7b5d1",
   "metadata": {},
   "source": [
    "Change"
   ]
  },
  {
   "cell_type": "code",
   "execution_count": 14,
   "id": "23804eaa",
   "metadata": {},
   "outputs": [
    {
     "name": "stdout",
     "output_type": "stream",
     "text": [
      "{'name': 'sam', 'age': 23, 'location': 'pune'}\n"
     ]
    }
   ],
   "source": [
    "# change the value to the value which are needed.\n",
    "dic={'name':\"sadiya\",'age':23,'location':\"pune\"}\n",
    "dic['name']='sam'\n",
    "\n",
    "print(dic)"
   ]
  },
  {
   "cell_type": "markdown",
   "id": "f7bbeb19",
   "metadata": {},
   "source": [
    "clear()"
   ]
  },
  {
   "cell_type": "code",
   "execution_count": 16,
   "id": "6c465b65",
   "metadata": {},
   "outputs": [
    {
     "name": "stdout",
     "output_type": "stream",
     "text": [
      "{}\n"
     ]
    }
   ],
   "source": [
    "#he clear() method removes all the elements from a dictionary.\n",
    "\n",
    "car = {\"brand\": \"Ford\",\"model\": \"Mustang\",\"year\": 1969}\n",
    "\n",
    "car.clear()\n",
    "print(car)\n",
    "#outpit: clear all the elements from this dict."
   ]
  },
  {
   "cell_type": "markdown",
   "id": "7b2de806",
   "metadata": {},
   "source": [
    "copy()"
   ]
  },
  {
   "cell_type": "code",
   "execution_count": 17,
   "id": "5dd3780a",
   "metadata": {},
   "outputs": [
    {
     "name": "stdout",
     "output_type": "stream",
     "text": [
      "{'name': 'sadiya', 'age': 23, 'location': 'pune'}\n"
     ]
    }
   ],
   "source": [
    "# The copy() method returns a copy of the specified dictionary.\n",
    "\n",
    "dic={'name':\"sadiya\",'age':23,'location':\"pune\"}\n",
    "dic.copy()\n",
    "\n",
    "print(dic)\n",
    "#ouput: copied the elments from the dict."
   ]
  },
  {
   "cell_type": "markdown",
   "id": "ce21faab",
   "metadata": {},
   "source": [
    "fromkeys()"
   ]
  },
  {
   "cell_type": "code",
   "execution_count": 25,
   "id": "6d69bf7c",
   "metadata": {},
   "outputs": [
    {
     "name": "stdout",
     "output_type": "stream",
     "text": [
      "{'name': ('sadiya', '22', 'pune'), 'age': ('sadiya', '22', 'pune'), 'location': ('sadiya', '22', 'pune')}\n"
     ]
    }
   ],
   "source": [
    "#method returns a dictionary with the specified keys and the specified value.\n",
    "\n",
    "x = ('name', 'age', 'location')\n",
    "y = (\"sadiya\",'22','pune')\n",
    "\n",
    "a = dict.fromkeys(x, y)\n",
    "\n",
    "print(a)\n",
    "#output: connect both the tuple and the return came as dict."
   ]
  },
  {
   "cell_type": "markdown",
   "id": "6c788cec",
   "metadata": {},
   "source": [
    "get()"
   ]
  },
  {
   "cell_type": "code",
   "execution_count": 27,
   "id": "cee1739c",
   "metadata": {},
   "outputs": [
    {
     "data": {
      "text/plain": [
       "23"
      ]
     },
     "execution_count": 27,
     "metadata": {},
     "output_type": "execute_result"
    }
   ],
   "source": [
    "#method returns the value of the item with the specified key.\n",
    "dic={'name':\"sadiya\",'age':23,'location':\"pune\"}\n",
    "dic.get('age')\n",
    "#output: its give the value of the key which is needed."
   ]
  },
  {
   "cell_type": "markdown",
   "id": "9d36a753",
   "metadata": {},
   "source": [
    "pop()"
   ]
  },
  {
   "cell_type": "code",
   "execution_count": 29,
   "id": "17653ee8",
   "metadata": {},
   "outputs": [
    {
     "data": {
      "text/plain": [
       "'sadiya'"
      ]
     },
     "execution_count": 29,
     "metadata": {},
     "output_type": "execute_result"
    }
   ],
   "source": [
    "dic={'name':\"sadiya\",'age':23,'location':\"pune\"}\n",
    "dic.pop('name')"
   ]
  },
  {
   "cell_type": "code",
   "execution_count": 30,
   "id": "41d67804",
   "metadata": {},
   "outputs": [
    {
     "name": "stdout",
     "output_type": "stream",
     "text": [
      "{'age': 23, 'location': 'pune'}\n"
     ]
    }
   ],
   "source": [
    "print(dic)\n",
    "# output: removed the key name\"name \" from the dict."
   ]
  },
  {
   "cell_type": "markdown",
   "id": "29a7b449",
   "metadata": {},
   "source": [
    "popitem()\t"
   ]
  },
  {
   "cell_type": "raw",
   "id": "6db737a0",
   "metadata": {},
   "source": [
    "The popitem() method removes the item that was last inserted into the dictionary. In versions before 3.7, the popitem() method removes a random item.\n",
    "\n",
    "The removed item is the return value of the popitem() method, as a tuple, see example below."
   ]
  },
  {
   "cell_type": "code",
   "execution_count": 33,
   "id": "7f63df35",
   "metadata": {},
   "outputs": [
    {
     "data": {
      "text/plain": [
       "('location', 'pune')"
      ]
     },
     "execution_count": 33,
     "metadata": {},
     "output_type": "execute_result"
    }
   ],
   "source": [
    "dic={'name':\"sadiya\",'age':23,'location':\"pune\"}\n",
    "dic.popitem()\n",
    "# output: removed random items"
   ]
  },
  {
   "cell_type": "markdown",
   "id": "0caed03b",
   "metadata": {},
   "source": [
    "setdefault()"
   ]
  },
  {
   "cell_type": "raw",
   "id": "d6a6076d",
   "metadata": {},
   "source": [
    "method returns the value of the item with the specified key.\n",
    "\n",
    "If the key does not exist, insert the key, with the specified value, see example below."
   ]
  },
  {
   "cell_type": "code",
   "execution_count": 35,
   "id": "3f22619b",
   "metadata": {
    "scrolled": true
   },
   "outputs": [
    {
     "name": "stdout",
     "output_type": "stream",
     "text": [
      "sadiya\n"
     ]
    }
   ],
   "source": [
    "dic={'name':\"sadiya\",'age':23,'location':\"pune\"}\n",
    "x=dic.setdefault(\"name\",'sam')\n",
    "print(x)\n",
    "# output: change they value name of key\"name\""
   ]
  },
  {
   "cell_type": "code",
   "execution_count": 37,
   "id": "e47c912f",
   "metadata": {},
   "outputs": [
    {
     "name": "stdout",
     "output_type": "stream",
     "text": [
      "009\n"
     ]
    }
   ],
   "source": [
    "dic={'name':\"sadiya\",'age':23,'location':\"pune\"}\n",
    "x=dic.setdefault(\"id\",'009')\n",
    "print(x)"
   ]
  },
  {
   "cell_type": "markdown",
   "id": "4b85de16",
   "metadata": {},
   "source": [
    "update()"
   ]
  },
  {
   "cell_type": "code",
   "execution_count": 41,
   "id": "847f5f46",
   "metadata": {},
   "outputs": [
    {
     "name": "stdout",
     "output_type": "stream",
     "text": [
      "{'name': 'sadiya', 'age': 23, 'location': 'pune', 'id': '009'}\n"
     ]
    }
   ],
   "source": [
    "#  method inserts the specified items to the dictionary.\n",
    "# The specified items can be a dictionary, or an iterable object with key value pairs.\n",
    "dic={'name':\"sadiya\",'age':23,'location':\"pune\"}\n",
    "dic.update({\"id\":'009'})\n",
    "print(dic)\n",
    "#output: added the key \"id\" to the dict."
   ]
  }
 ],
 "metadata": {
  "kernelspec": {
   "display_name": "Python 3 (ipykernel)",
   "language": "python",
   "name": "python3"
  },
  "language_info": {
   "codemirror_mode": {
    "name": "ipython",
    "version": 3
   },
   "file_extension": ".py",
   "mimetype": "text/x-python",
   "name": "python",
   "nbconvert_exporter": "python",
   "pygments_lexer": "ipython3",
   "version": "3.11.5"
  }
 },
 "nbformat": 4,
 "nbformat_minor": 5
}
