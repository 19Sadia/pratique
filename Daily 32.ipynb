{
 "cells": [
  {
   "cell_type": "code",
   "execution_count": 6,
   "id": "28fb331b",
   "metadata": {},
   "outputs": [
    {
     "name": "stdout",
     "output_type": "stream",
     "text": [
      "enter:5\n",
      "Digit\n"
     ]
    }
   ],
   "source": [
    "# Python program to check given character is digit or not.\n",
    "\n",
    "stg=(input('enter:'))\n",
    "if (stg<='9') or (stg>='0'):\n",
    "    print('Digit')\n",
    "else:  \n",
    "    print('not a digit')"
   ]
  },
  {
   "cell_type": "code",
   "execution_count": 8,
   "id": "8da69ba0",
   "metadata": {},
   "outputs": [
    {
     "name": "stdout",
     "output_type": "stream",
     "text": [
      "enter:w\n",
      "not digit\n"
     ]
    }
   ],
   "source": [
    "# Python program to check given character is digit or not using isdigit() method.\n",
    "\n",
    "stg=(input('enter:'))\n",
    "if (stg.isdigit()):\n",
    "    print(\"Digit\")\n",
    "else:\n",
    "    print(\"not digit\")"
   ]
  },
  {
   "cell_type": "code",
   "execution_count": 6,
   "id": "b45e212b",
   "metadata": {},
   "outputs": [
    {
     "name": "stdout",
     "output_type": "stream",
     "text": [
      "enter:sadiya mankar\n",
      "enter:M\n",
      "sadiyaMmankar\n"
     ]
    }
   ],
   "source": [
    "# Python program to replace the string space with a given character.\n",
    "\n",
    "nam=(input('enter:'))\n",
    "re=''\n",
    "ca=input('enter:')\n",
    "for i in nam:\n",
    "    if i == \" \":\n",
    "        i=ca\n",
    "    re += i\n",
    "print(re)"
   ]
  },
  {
   "cell_type": "code",
   "execution_count": 8,
   "id": "e00b4b57",
   "metadata": {},
   "outputs": [
    {
     "name": "stdout",
     "output_type": "stream",
     "text": [
      "enter:Sadiya\n",
      "SADIYA\n"
     ]
    }
   ],
   "source": [
    "# Python program to convert lowercase char to uppercase of string.\n",
    "\n",
    "nam=(input('enter:'))\n",
    "re=''\n",
    "for i in nam:\n",
    "    if i.lower():\n",
    "        i=i.upper()\n",
    "    re += i\n",
    "print(re)"
   ]
  },
  {
   "cell_type": "code",
   "execution_count": 4,
   "id": "76b34f44",
   "metadata": {},
   "outputs": [
    {
     "name": "stdout",
     "output_type": "stream",
     "text": [
      "enter:sadiya\n",
      "sAdIyA\n"
     ]
    }
   ],
   "source": [
    "# Python program to convert lowercase vowel to uppercase in string.\n",
    "\n",
    "nam=(input('enter:'))\n",
    "re=''\n",
    "v='aeiou'\n",
    "for i in v:\n",
    "    if i in v:\n",
    "        upper_char = i.upper()\n",
    "        nam = nam.replace(i, upper_char)\n",
    "print(nam)"
   ]
  },
  {
   "cell_type": "code",
   "execution_count": null,
   "id": "db7cbe25",
   "metadata": {},
   "outputs": [],
   "source": []
  }
 ],
 "metadata": {
  "kernelspec": {
   "display_name": "Python 3 (ipykernel)",
   "language": "python",
   "name": "python3"
  },
  "language_info": {
   "codemirror_mode": {
    "name": "ipython",
    "version": 3
   },
   "file_extension": ".py",
   "mimetype": "text/x-python",
   "name": "python",
   "nbconvert_exporter": "python",
   "pygments_lexer": "ipython3",
   "version": "3.10.13"
  }
 },
 "nbformat": 4,
 "nbformat_minor": 5
}
