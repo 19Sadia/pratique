{
 "cells": [
  {
   "cell_type": "raw",
   "id": "7371fa26",
   "metadata": {},
   "source": [
    "# A function f is defined as follows :\n",
    "\n",
    "         f(x)   =    ax3 – bx2 + cx –d,                  if x > k\n",
    "\n",
    "                  =    0,                                             if x = k\n",
    "\n",
    "                  =    -ax3 + bx2 – cx +d,                 if x < k\n",
    "\n",
    "Write a program that reads a, b, c, d, k and x and prints the value of f(x)."
   ]
  },
  {
   "cell_type": "code",
   "execution_count": 4,
   "id": "05eee233",
   "metadata": {},
   "outputs": [
    {
     "name": "stdout",
     "output_type": "stream",
     "text": [
      "Enter a:1\n",
      "Enter b:2\n",
      "Enter c:3\n",
      "Enter d:4\n",
      "Enter x:4\n",
      "Enter k:4\n",
      "0\n"
     ]
    }
   ],
   "source": [
    "a=int(input('Enter a:'))\n",
    "b=int(input('Enter b:'))\n",
    "c=int(input('Enter c:'))\n",
    "d=int(input('Enter d:'))\n",
    "x=int(input('Enter x:'))\n",
    "k=int(input('Enter k:'))\n",
    "if x > k:\n",
    "    fx= a*(x**3)-b*(x**2)+c*x-d\n",
    "elif x==k:\n",
    "    fx=0\n",
    "elif x<k:\n",
    "    fx=-a*(x**3)+b*(x**2)-c*x+d\n",
    "print(fx)"
   ]
  },
  {
   "cell_type": "code",
   "execution_count": 7,
   "id": "ea946617",
   "metadata": {},
   "outputs": [
    {
     "name": "stdout",
     "output_type": "stream",
     "text": [
      "Enter a:1\n",
      "Enter b:2\n",
      "Enter c:3\n",
      "Cannot form a triangle\n"
     ]
    }
   ],
   "source": [
    "# Write a program that reads three positive numbers a, b, c and determines whether they can form the three sides of a triangle.\n",
    "\n",
    "a=int(input('Enter a:'))\n",
    "b=int(input('Enter b:'))\n",
    "c=int(input('Enter c:'))\n",
    "if a+b<=c or a+c<=b or b+c<=a:\n",
    "    print(\"Cannot form a triangle\")\n",
    "else:\n",
    "    print(\"Its can form a triangle\")"
   ]
  },
  {
   "cell_type": "code",
   "execution_count": 16,
   "id": "19cf3d7b",
   "metadata": {},
   "outputs": [
    {
     "name": "stdout",
     "output_type": "stream",
     "text": [
      "Enter:4\n",
      "4444\n",
      "333\n",
      "22\n",
      "1\n"
     ]
    }
   ],
   "source": [
    "# Inverted Pyramid of Descending Numbers\n",
    "\n",
    "n=int(input('Enter:'))\n",
    "for x in range(n,0,-1):\n",
    "    num=x\n",
    "    for j in range(0,x):\n",
    "        print(num,end=\"\")\n",
    "    print(\"\\r\")"
   ]
  },
  {
   "cell_type": "code",
   "execution_count": 25,
   "id": "3cdf32dd",
   "metadata": {},
   "outputs": [
    {
     "name": "stdout",
     "output_type": "stream",
     "text": [
      "Enter:4\n",
      "4444\n",
      "444\n",
      "44\n",
      "4\n"
     ]
    }
   ],
   "source": [
    "# Inverted Pyramid of the Same Digit\n",
    "n=int(input('Enter:'))\n",
    "num=n\n",
    "for x in range(n,0,-1):\n",
    "     for j in range(0,x):\n",
    "        print(num,end=\"\")\n",
    "     print(\"\\r\")\n",
    "    "
   ]
  },
  {
   "cell_type": "code",
   "execution_count": 33,
   "id": "ef71a9f9",
   "metadata": {},
   "outputs": [
    {
     "name": "stdout",
     "output_type": "stream",
     "text": [
      "2002,2009,2016,2023,2037,2044,2051,2058,2072,2079,2086,2093,2107,2114,2121,2128,2142,2149,2156,2163,2177,2184,2191,2198,2212,2219,2226,2233,2247,2254,2261,2268,2282,2289,2296,2303,2317,2324,2331,2338,2352,2359,2366,2373,2387,2394,2401,2408,2422,2429,2436,2443,2457,2464,2471,2478,2492,2499,2506,2513,2527,2534,2541,2548,2562,2569,2576,2583,2597,2604,2611,2618,2632,2639,2646,2653,2667,2674,2681,2688,2702,2709,2716,2723,2737,2744,2751,2758,2772,2779,2786,2793,2807,2814,2821,2828,2842,2849,2856,2863,2877,2884,2891,2898,2912,2919,2926,2933,2947,2954,2961,2968,2982,2989,2996,3003,3017,3024,3031,3038,3052,3059,3066,3073,3087,3094,3101,3108,3122,3129,3136,3143,3157,3164,3171,3178,3192,3199\n"
     ]
    }
   ],
   "source": [
    "# Write a program which will find all such numbers which are divisible by 7 but are not a multiple of 5,between 2000 and 3200 (both included).\n",
    "\n",
    "a=[]\n",
    "for x in range (2000,3201):\n",
    "    if (x%7==0) and (x%5!=0):\n",
    "        a.append(str(x))\n",
    "print (','.join(a))"
   ]
  },
  {
   "cell_type": "code",
   "execution_count": null,
   "id": "1cfd8bc0",
   "metadata": {},
   "outputs": [],
   "source": []
  }
 ],
 "metadata": {
  "kernelspec": {
   "display_name": "Python 3 (ipykernel)",
   "language": "python",
   "name": "python3"
  },
  "language_info": {
   "codemirror_mode": {
    "name": "ipython",
    "version": 3
   },
   "file_extension": ".py",
   "mimetype": "text/x-python",
   "name": "python",
   "nbconvert_exporter": "python",
   "pygments_lexer": "ipython3",
   "version": "3.10.13"
  }
 },
 "nbformat": 4,
 "nbformat_minor": 5
}
