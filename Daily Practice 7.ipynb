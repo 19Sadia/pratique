{
 "cells": [
  {
   "cell_type": "code",
   "execution_count": 1,
   "id": "83dadfc3",
   "metadata": {},
   "outputs": [
    {
     "name": "stdout",
     "output_type": "stream",
     "text": [
      "6\n",
      "2\n"
     ]
    }
   ],
   "source": [
    "# Write a Python program to check that a string contains only a certain set of characters (in this case a-z, A-Z and 0-9).\n",
    "\n",
    "import re \n",
    "\n",
    "word= 'sadiya19'\n",
    "letter=re.findall('[a-zA-Z]',word)\n",
    "digit=re.findall('[0-9]', word)\n",
    "print(len(letter))\n",
    "print(len(digit))"
   ]
  },
  {
   "cell_type": "code",
   "execution_count": 2,
   "id": "293a7783",
   "metadata": {},
   "outputs": [
    {
     "name": "stdout",
     "output_type": "stream",
     "text": [
      "Not Match\n",
      "Not Match\n",
      "Match\n",
      "Match\n",
      "Match\n"
     ]
    }
   ],
   "source": [
    "# Write a Python program that matches a string that has an a followed by one or more b's.\n",
    "\n",
    "def foll(text):\n",
    "    patter='^a(b*)$'\n",
    "    if re.search(patter,text):\n",
    "        return(\"Match\")\n",
    "    else:\n",
    "        return(\"Not Match\")\n",
    "        \n",
    "print(foll(\"ac\"))\n",
    "print(foll(\"abc\"))\n",
    "print(foll(\"a\"))\n",
    "print(foll(\"ab\"))\n",
    "print(foll(\"abb\"))"
   ]
  },
  {
   "cell_type": "code",
   "execution_count": 3,
   "id": "e33a4094",
   "metadata": {},
   "outputs": [
    {
     "name": "stdout",
     "output_type": "stream",
     "text": [
      "Match\n",
      "Match\n",
      "Match\n",
      "Match\n"
     ]
    }
   ],
   "source": [
    "# Write a Python program that matches a string that has an a followed by zero or more b's.\n",
    "\n",
    "def match(text):\n",
    "    pattern='ab?'\n",
    "    if re.search(pattern, text):\n",
    "        return (\"Match\")\n",
    "    else:\n",
    "        return(\"Not Match\")\n",
    "    \n",
    "print(match(\"ab\"))\n",
    "print(match(\"abc\"))\n",
    "print(match(\"abbc\"))\n",
    "print(match(\"aabbc\"))"
   ]
  },
  {
   "cell_type": "code",
   "execution_count": 6,
   "id": "2ab60188",
   "metadata": {},
   "outputs": [
    {
     "name": "stdout",
     "output_type": "stream",
     "text": [
      "Match\n",
      "Not Match\n"
     ]
    }
   ],
   "source": [
    "# Write a Python program that matches a string that has an a followed by three 'b'.\n",
    "\n",
    "def mat(text):\n",
    "    patterns='ab{3}?'\n",
    "    if re.search(patterns, text):\n",
    "        return (\"Match\")\n",
    "    else:\n",
    "        return (\"Not Match\")\n",
    "print(mat(\"abbb\"))\n",
    "print(mat(\"bbbbbc\"))\n"
   ]
  },
  {
   "cell_type": "code",
   "execution_count": 5,
   "id": "e559e5d2",
   "metadata": {},
   "outputs": [
    {
     "name": "stdout",
     "output_type": "stream",
     "text": [
      "Not Match\n",
      "Match\n"
     ]
    }
   ],
   "source": [
    "# Write a Python program that matches a string that has an a followed by two to three 'b'.\n",
    "\n",
    "def mat(text):\n",
    "    patterns='ab{2,3}?'\n",
    "    if re.search(patterns, text):\n",
    "        return (\"Match\")\n",
    "    else:\n",
    "        return (\"Not Match\")\n",
    "print(mat(\"ab\"))\n",
    "print(mat(\"aabbbc\"))\n"
   ]
  },
  {
   "cell_type": "code",
   "execution_count": null,
   "id": "15ee0b28",
   "metadata": {},
   "outputs": [],
   "source": []
  }
 ],
 "metadata": {
  "kernelspec": {
   "display_name": "Python 3 (ipykernel)",
   "language": "python",
   "name": "python3"
  },
  "language_info": {
   "codemirror_mode": {
    "name": "ipython",
    "version": 3
   },
   "file_extension": ".py",
   "mimetype": "text/x-python",
   "name": "python",
   "nbconvert_exporter": "python",
   "pygments_lexer": "ipython3",
   "version": "3.11.5"
  }
 },
 "nbformat": 4,
 "nbformat_minor": 5
}
