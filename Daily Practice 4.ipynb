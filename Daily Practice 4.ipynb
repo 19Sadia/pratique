{
 "cells": [
  {
   "cell_type": "code",
   "execution_count": 2,
   "id": "8984cb1e",
   "metadata": {},
   "outputs": [
    {
     "name": "stdout",
     "output_type": "stream",
     "text": [
      " ##### \n",
      " #     \n",
      " #     \n",
      " ####  \n",
      " #     \n",
      " #     \n",
      " ##### \n",
      "\n"
     ]
    }
   ],
   "source": [
    "# Write a Python program to print the alphabet pattern 'E'.\n",
    "resul='';\n",
    "for x in range(0,7):# row\n",
    "    for y in range(0,7):\n",
    "        if (y == 1 or (( x==0 or x==6) and (y >1  and y<6)) or (x==3 and y>1 and y<5)):\n",
    "            resul=resul+\"#\"\n",
    "        else:\n",
    "            resul=resul+\" \"\n",
    "    resul=resul+'\\n'\n",
    "print(resul);\n"
   ]
  },
  {
   "cell_type": "code",
   "execution_count": 3,
   "id": "dcc9fbc8",
   "metadata": {},
   "outputs": [
    {
     "name": "stdout",
     "output_type": "stream",
     "text": [
      "Input first number:4\n",
      "Input second number:5\n",
      "Input third number:3\n",
      "median:b\n"
     ]
    }
   ],
   "source": [
    "# Write a Python program to find the median of three values.\n",
    "a=int(input(\"Input first number:\"))\n",
    "b=int(input(\"Input second number:\"))\n",
    "c=int(input(\"Input third number:\"))\n",
    "if (a>b):\n",
    "    print(\"median:a\")\n",
    "elif (b>c):\n",
    "    print(\"median:b\")\n",
    "else:\n",
    "    print(\"median:c\")"
   ]
  },
  {
   "cell_type": "code",
   "execution_count": 4,
   "id": "465fac9a",
   "metadata": {},
   "outputs": [
    {
     "name": "stdout",
     "output_type": "stream",
     "text": [
      "1\n",
      "\n",
      "2\n",
      "\n",
      "3\n",
      "\n",
      "4\n",
      "\n",
      "5\n",
      "\n"
     ]
    }
   ],
   "source": [
    "# Write a Python program that prints all the numbers from 0 to 6 except 3 and 6.\n",
    "count=0\n",
    "for x in range(1,6):\n",
    "    if (x==3 and x==6):\n",
    "        count=count+1\n",
    "        continue\n",
    "    print(x,end='')\n",
    "    print('\\n')\n",
    "    "
   ]
  },
  {
   "cell_type": "code",
   "execution_count": 5,
   "id": "388229a4",
   "metadata": {},
   "outputs": [
    {
     "name": "stdout",
     "output_type": "stream",
     "text": [
      "enter4\n",
      "enter5\n",
      "enter7\n",
      "enter4\n",
      "kite\n"
     ]
    }
   ],
   "source": [
    "#### WAP program to check if it is a square, rectangle,trapezoid,kite\n",
    "a=int(input(\"enter\"))\n",
    "b=int(input(\"enter\"))\n",
    "c=int(input(\"enter\"))\n",
    "d=int(input(\"enter\"))\n",
    "if (a==b==c==d):\n",
    "    print(\"square\")\n",
    "elif (a==c and b==d):\n",
    "    print(\"rectrangle\")\n",
    "elif (a<c and b==d):\n",
    "    print('trapezoid')\n",
    "else:\n",
    "    print('kite')\n"
   ]
  },
  {
   "cell_type": "code",
   "execution_count": null,
   "id": "5ffb37e0",
   "metadata": {},
   "outputs": [],
   "source": [
    "#WAP to check 1090 is a prime no. or not.\n",
    "num=7\n",
    "count=0\n",
    "for x in range(2,num):\n",
    "    if (num%x==0):\n",
    "        count=count+1\n",
    "        \n",
    "if (count==0):\n",
    "    print(\"prime\")\n",
    "else:\n",
    "    print(\"not prime\")"
   ]
  }
 ],
 "metadata": {
  "kernelspec": {
   "display_name": "Python 3 (ipykernel)",
   "language": "python",
   "name": "python3"
  },
  "language_info": {
   "codemirror_mode": {
    "name": "ipython",
    "version": 3
   },
   "file_extension": ".py",
   "mimetype": "text/x-python",
   "name": "python",
   "nbconvert_exporter": "python",
   "pygments_lexer": "ipython3",
   "version": "3.11.5"
  }
 },
 "nbformat": 4,
 "nbformat_minor": 5
}
