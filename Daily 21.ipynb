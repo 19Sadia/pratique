{
 "cells": [
  {
   "cell_type": "code",
   "execution_count": 2,
   "id": "a3a66317",
   "metadata": {},
   "outputs": [
    {
     "name": "stdout",
     "output_type": "stream",
     "text": [
      "1.984375\n"
     ]
    }
   ],
   "source": [
    "# Write a Python program to calculate the geometric sum of n-1.\n",
    "\n",
    "def geometric_sum(n):\n",
    "    if n<0:\n",
    "        return 0\n",
    "    else:\n",
    "        return 1/((2**n)) + geometric_sum(n-1)\n",
    "\n",
    "print(geometric_sum(6))"
   ]
  },
  {
   "cell_type": "code",
   "execution_count": 3,
   "id": "78f8ff7e",
   "metadata": {},
   "outputs": [
    {
     "name": "stdout",
     "output_type": "stream",
     "text": [
      "enter base value:5\n",
      "enter power value:5\n",
      "3125\n"
     ]
    }
   ],
   "source": [
    "# Write a Python program to calculate the value of 'a' to the power of 'b'.\n",
    "\n",
    "def power(a,b):\n",
    "    if b==0:\n",
    "        return 1\n",
    "    elif a==0:\n",
    "        return 0\n",
    "    elif b==1:\n",
    "        return a\n",
    "    else:\n",
    "        return a**b\n",
    "\n",
    "a=int(input(\"enter base value:\"))\n",
    "b=int(input(\"enter power value:\"))\n",
    "result=power(a,b)\n",
    "print(result)"
   ]
  },
  {
   "cell_type": "code",
   "execution_count": 4,
   "id": "42866dc5",
   "metadata": {},
   "outputs": [
    {
     "name": "stdout",
     "output_type": "stream",
     "text": [
      "* * * * * * * \n",
      "*           * \n",
      "*           * \n",
      "*           * \n",
      "*           * \n",
      "*           * \n",
      "* * * * * * * \n",
      "\n"
     ]
    }
   ],
   "source": [
    "# Write a Python program to print square shape.\n",
    "\n",
    "resul=\"\";\n",
    "for x in range(0,7):\n",
    "    for y in range(0,7):\n",
    "        if (y==0 or y== 6 or(x==6 or x== 0)):\n",
    "            resul=resul+'* '\n",
    "        else:\n",
    "            resul=resul+'  '\n",
    "    resul=resul+'\\n'\n",
    "print(resul);"
   ]
  },
  {
   "cell_type": "code",
   "execution_count": 5,
   "id": "ad09e5f1",
   "metadata": {},
   "outputs": [
    {
     "name": "stdout",
     "output_type": "stream",
     "text": [
      "  *         * \n",
      "  *         * \n",
      "  *         * \n",
      "  *         * \n",
      "  *         * \n",
      "  *         * \n",
      "    * * * *   \n",
      "\n"
     ]
    }
   ],
   "source": [
    "# Write a Python program to print the alphabet pattern 'U'.\n",
    "\n",
    "resul=\"\";\n",
    "for x in range(0,7):\n",
    "    for y in range(0,7):\n",
    "        if (((y==1 or y== 6) and x!=6) or x==6 and y>1 and y<6):\n",
    "            resul=resul+'* '\n",
    "        else:\n",
    "            resul=resul+'  '\n",
    "    resul=resul+'\\n'\n",
    "print(resul);"
   ]
  },
  {
   "cell_type": "code",
   "execution_count": 6,
   "id": "d8d201be",
   "metadata": {},
   "outputs": [
    {
     "name": "stdout",
     "output_type": "stream",
     "text": [
      "[('Social sciences', 82), ('English', 88), ('Science', 90), ('Maths', 97)]\n"
     ]
    }
   ],
   "source": [
    "# Write a Python program to sort a list of tuples using Lambda.\n",
    "\n",
    "subject_marks = [('English', 88), ('Science', 90), ('Maths', 97), ('Social sciences', 82)]\n",
    "subject_marks.sort (key = lambda x:x[1])\n",
    "print(list(subject_marks))"
   ]
  },
  {
   "cell_type": "code",
   "execution_count": null,
   "id": "34bbfaac",
   "metadata": {},
   "outputs": [],
   "source": []
  }
 ],
 "metadata": {
  "kernelspec": {
   "display_name": "Python 3 (ipykernel)",
   "language": "python",
   "name": "python3"
  },
  "language_info": {
   "codemirror_mode": {
    "name": "ipython",
    "version": 3
   },
   "file_extension": ".py",
   "mimetype": "text/x-python",
   "name": "python",
   "nbconvert_exporter": "python",
   "pygments_lexer": "ipython3",
   "version": "3.11.5"
  }
 },
 "nbformat": 4,
 "nbformat_minor": 5
}
