{
 "cells": [
  {
   "cell_type": "code",
   "execution_count": 1,
   "id": "ebf120df",
   "metadata": {},
   "outputs": [],
   "source": [
    "import numpy as np\n",
    "import pandas as pd\n",
    "import seaborn as sns\n",
    "import matplotlib.pyplot as plt\n",
    "import warnings\n",
    "warnings.filterwarnings('ignore')\n",
    "%matplotlib inline"
   ]
  },
  {
   "cell_type": "code",
   "execution_count": 2,
   "id": "6c6c9e01",
   "metadata": {
    "scrolled": true
   },
   "outputs": [
    {
     "data": {
      "text/html": [
       "<div>\n",
       "<style scoped>\n",
       "    .dataframe tbody tr th:only-of-type {\n",
       "        vertical-align: middle;\n",
       "    }\n",
       "\n",
       "    .dataframe tbody tr th {\n",
       "        vertical-align: top;\n",
       "    }\n",
       "\n",
       "    .dataframe thead th {\n",
       "        text-align: right;\n",
       "    }\n",
       "</style>\n",
       "<table border=\"1\" class=\"dataframe\">\n",
       "  <thead>\n",
       "    <tr style=\"text-align: right;\">\n",
       "      <th></th>\n",
       "      <th>booking_id</th>\n",
       "      <th>months_as_member</th>\n",
       "      <th>weight</th>\n",
       "      <th>days_before</th>\n",
       "      <th>day_of_week</th>\n",
       "      <th>time</th>\n",
       "      <th>category</th>\n",
       "      <th>attended</th>\n",
       "    </tr>\n",
       "  </thead>\n",
       "  <tbody>\n",
       "    <tr>\n",
       "      <th>0</th>\n",
       "      <td>1</td>\n",
       "      <td>17</td>\n",
       "      <td>79.56</td>\n",
       "      <td>8</td>\n",
       "      <td>Wed</td>\n",
       "      <td>PM</td>\n",
       "      <td>Strength</td>\n",
       "      <td>0</td>\n",
       "    </tr>\n",
       "    <tr>\n",
       "      <th>1</th>\n",
       "      <td>2</td>\n",
       "      <td>10</td>\n",
       "      <td>79.01</td>\n",
       "      <td>2</td>\n",
       "      <td>Mon</td>\n",
       "      <td>AM</td>\n",
       "      <td>HIIT</td>\n",
       "      <td>0</td>\n",
       "    </tr>\n",
       "    <tr>\n",
       "      <th>2</th>\n",
       "      <td>3</td>\n",
       "      <td>16</td>\n",
       "      <td>74.53</td>\n",
       "      <td>14</td>\n",
       "      <td>Sun</td>\n",
       "      <td>AM</td>\n",
       "      <td>Strength</td>\n",
       "      <td>0</td>\n",
       "    </tr>\n",
       "    <tr>\n",
       "      <th>3</th>\n",
       "      <td>4</td>\n",
       "      <td>5</td>\n",
       "      <td>86.12</td>\n",
       "      <td>10</td>\n",
       "      <td>Fri</td>\n",
       "      <td>AM</td>\n",
       "      <td>Cycling</td>\n",
       "      <td>0</td>\n",
       "    </tr>\n",
       "    <tr>\n",
       "      <th>4</th>\n",
       "      <td>5</td>\n",
       "      <td>15</td>\n",
       "      <td>69.29</td>\n",
       "      <td>8</td>\n",
       "      <td>Thu</td>\n",
       "      <td>AM</td>\n",
       "      <td>HIIT</td>\n",
       "      <td>0</td>\n",
       "    </tr>\n",
       "    <tr>\n",
       "      <th>...</th>\n",
       "      <td>...</td>\n",
       "      <td>...</td>\n",
       "      <td>...</td>\n",
       "      <td>...</td>\n",
       "      <td>...</td>\n",
       "      <td>...</td>\n",
       "      <td>...</td>\n",
       "      <td>...</td>\n",
       "    </tr>\n",
       "    <tr>\n",
       "      <th>1495</th>\n",
       "      <td>1496</td>\n",
       "      <td>21</td>\n",
       "      <td>79.51</td>\n",
       "      <td>10</td>\n",
       "      <td>Fri</td>\n",
       "      <td>AM</td>\n",
       "      <td>HIIT</td>\n",
       "      <td>0</td>\n",
       "    </tr>\n",
       "    <tr>\n",
       "      <th>1496</th>\n",
       "      <td>1497</td>\n",
       "      <td>29</td>\n",
       "      <td>89.55</td>\n",
       "      <td>2</td>\n",
       "      <td>Mon</td>\n",
       "      <td>AM</td>\n",
       "      <td>Strength</td>\n",
       "      <td>0</td>\n",
       "    </tr>\n",
       "    <tr>\n",
       "      <th>1497</th>\n",
       "      <td>1498</td>\n",
       "      <td>9</td>\n",
       "      <td>87.38</td>\n",
       "      <td>4</td>\n",
       "      <td>Tue</td>\n",
       "      <td>AM</td>\n",
       "      <td>HIIT</td>\n",
       "      <td>0</td>\n",
       "    </tr>\n",
       "    <tr>\n",
       "      <th>1498</th>\n",
       "      <td>1499</td>\n",
       "      <td>34</td>\n",
       "      <td>68.64</td>\n",
       "      <td>14</td>\n",
       "      <td>Sun</td>\n",
       "      <td>AM</td>\n",
       "      <td>Aqua</td>\n",
       "      <td>0</td>\n",
       "    </tr>\n",
       "    <tr>\n",
       "      <th>1499</th>\n",
       "      <td>1500</td>\n",
       "      <td>20</td>\n",
       "      <td>94.39</td>\n",
       "      <td>8</td>\n",
       "      <td>Thu</td>\n",
       "      <td>AM</td>\n",
       "      <td>Cycling</td>\n",
       "      <td>1</td>\n",
       "    </tr>\n",
       "  </tbody>\n",
       "</table>\n",
       "<p>1500 rows × 8 columns</p>\n",
       "</div>"
      ],
      "text/plain": [
       "      booking_id  months_as_member  weight days_before day_of_week time  \\\n",
       "0              1                17   79.56           8         Wed   PM   \n",
       "1              2                10   79.01           2         Mon   AM   \n",
       "2              3                16   74.53          14         Sun   AM   \n",
       "3              4                 5   86.12          10         Fri   AM   \n",
       "4              5                15   69.29           8         Thu   AM   \n",
       "...          ...               ...     ...         ...         ...  ...   \n",
       "1495        1496                21   79.51          10         Fri   AM   \n",
       "1496        1497                29   89.55           2         Mon   AM   \n",
       "1497        1498                 9   87.38           4         Tue   AM   \n",
       "1498        1499                34   68.64          14         Sun   AM   \n",
       "1499        1500                20   94.39           8         Thu   AM   \n",
       "\n",
       "      category  attended  \n",
       "0     Strength         0  \n",
       "1         HIIT         0  \n",
       "2     Strength         0  \n",
       "3      Cycling         0  \n",
       "4         HIIT         0  \n",
       "...        ...       ...  \n",
       "1495      HIIT         0  \n",
       "1496  Strength         0  \n",
       "1497      HIIT         0  \n",
       "1498      Aqua         0  \n",
       "1499   Cycling         1  \n",
       "\n",
       "[1500 rows x 8 columns]"
      ]
     },
     "execution_count": 2,
     "metadata": {},
     "output_type": "execute_result"
    }
   ],
   "source": [
    "d=pd.read_csv('fitness_class_2212.csv')\n",
    "d"
   ]
  },
  {
   "cell_type": "code",
   "execution_count": 3,
   "id": "e9cd35c4",
   "metadata": {},
   "outputs": [
    {
     "data": {
      "text/html": [
       "<div>\n",
       "<style scoped>\n",
       "    .dataframe tbody tr th:only-of-type {\n",
       "        vertical-align: middle;\n",
       "    }\n",
       "\n",
       "    .dataframe tbody tr th {\n",
       "        vertical-align: top;\n",
       "    }\n",
       "\n",
       "    .dataframe thead th {\n",
       "        text-align: right;\n",
       "    }\n",
       "</style>\n",
       "<table border=\"1\" class=\"dataframe\">\n",
       "  <thead>\n",
       "    <tr style=\"text-align: right;\">\n",
       "      <th></th>\n",
       "      <th>booking_id</th>\n",
       "      <th>months_as_member</th>\n",
       "      <th>weight</th>\n",
       "      <th>days_before</th>\n",
       "      <th>day_of_week</th>\n",
       "      <th>time</th>\n",
       "      <th>category</th>\n",
       "      <th>attended</th>\n",
       "    </tr>\n",
       "  </thead>\n",
       "  <tbody>\n",
       "    <tr>\n",
       "      <th>1490</th>\n",
       "      <td>1491</td>\n",
       "      <td>6</td>\n",
       "      <td>105.12</td>\n",
       "      <td>2</td>\n",
       "      <td>Mon</td>\n",
       "      <td>AM</td>\n",
       "      <td>Yoga</td>\n",
       "      <td>0</td>\n",
       "    </tr>\n",
       "    <tr>\n",
       "      <th>1491</th>\n",
       "      <td>1492</td>\n",
       "      <td>8</td>\n",
       "      <td>87.76</td>\n",
       "      <td>2</td>\n",
       "      <td>Mon</td>\n",
       "      <td>PM</td>\n",
       "      <td>HIIT</td>\n",
       "      <td>0</td>\n",
       "    </tr>\n",
       "    <tr>\n",
       "      <th>1492</th>\n",
       "      <td>1493</td>\n",
       "      <td>18</td>\n",
       "      <td>74.32</td>\n",
       "      <td>6</td>\n",
       "      <td>Wednesday</td>\n",
       "      <td>PM</td>\n",
       "      <td>HIIT</td>\n",
       "      <td>0</td>\n",
       "    </tr>\n",
       "    <tr>\n",
       "      <th>1493</th>\n",
       "      <td>1494</td>\n",
       "      <td>9</td>\n",
       "      <td>80.46</td>\n",
       "      <td>8</td>\n",
       "      <td>Thu</td>\n",
       "      <td>AM</td>\n",
       "      <td>HIIT</td>\n",
       "      <td>0</td>\n",
       "    </tr>\n",
       "    <tr>\n",
       "      <th>1494</th>\n",
       "      <td>1495</td>\n",
       "      <td>15</td>\n",
       "      <td>88.50</td>\n",
       "      <td>7</td>\n",
       "      <td>Thu</td>\n",
       "      <td>PM</td>\n",
       "      <td>HIIT</td>\n",
       "      <td>1</td>\n",
       "    </tr>\n",
       "    <tr>\n",
       "      <th>1495</th>\n",
       "      <td>1496</td>\n",
       "      <td>21</td>\n",
       "      <td>79.51</td>\n",
       "      <td>10</td>\n",
       "      <td>Fri</td>\n",
       "      <td>AM</td>\n",
       "      <td>HIIT</td>\n",
       "      <td>0</td>\n",
       "    </tr>\n",
       "    <tr>\n",
       "      <th>1496</th>\n",
       "      <td>1497</td>\n",
       "      <td>29</td>\n",
       "      <td>89.55</td>\n",
       "      <td>2</td>\n",
       "      <td>Mon</td>\n",
       "      <td>AM</td>\n",
       "      <td>Strength</td>\n",
       "      <td>0</td>\n",
       "    </tr>\n",
       "    <tr>\n",
       "      <th>1497</th>\n",
       "      <td>1498</td>\n",
       "      <td>9</td>\n",
       "      <td>87.38</td>\n",
       "      <td>4</td>\n",
       "      <td>Tue</td>\n",
       "      <td>AM</td>\n",
       "      <td>HIIT</td>\n",
       "      <td>0</td>\n",
       "    </tr>\n",
       "    <tr>\n",
       "      <th>1498</th>\n",
       "      <td>1499</td>\n",
       "      <td>34</td>\n",
       "      <td>68.64</td>\n",
       "      <td>14</td>\n",
       "      <td>Sun</td>\n",
       "      <td>AM</td>\n",
       "      <td>Aqua</td>\n",
       "      <td>0</td>\n",
       "    </tr>\n",
       "    <tr>\n",
       "      <th>1499</th>\n",
       "      <td>1500</td>\n",
       "      <td>20</td>\n",
       "      <td>94.39</td>\n",
       "      <td>8</td>\n",
       "      <td>Thu</td>\n",
       "      <td>AM</td>\n",
       "      <td>Cycling</td>\n",
       "      <td>1</td>\n",
       "    </tr>\n",
       "  </tbody>\n",
       "</table>\n",
       "</div>"
      ],
      "text/plain": [
       "      booking_id  months_as_member  weight days_before day_of_week time  \\\n",
       "1490        1491                 6  105.12           2         Mon   AM   \n",
       "1491        1492                 8   87.76           2         Mon   PM   \n",
       "1492        1493                18   74.32           6   Wednesday   PM   \n",
       "1493        1494                 9   80.46           8         Thu   AM   \n",
       "1494        1495                15   88.50           7         Thu   PM   \n",
       "1495        1496                21   79.51          10         Fri   AM   \n",
       "1496        1497                29   89.55           2         Mon   AM   \n",
       "1497        1498                 9   87.38           4         Tue   AM   \n",
       "1498        1499                34   68.64          14         Sun   AM   \n",
       "1499        1500                20   94.39           8         Thu   AM   \n",
       "\n",
       "      category  attended  \n",
       "1490      Yoga         0  \n",
       "1491      HIIT         0  \n",
       "1492      HIIT         0  \n",
       "1493      HIIT         0  \n",
       "1494      HIIT         1  \n",
       "1495      HIIT         0  \n",
       "1496  Strength         0  \n",
       "1497      HIIT         0  \n",
       "1498      Aqua         0  \n",
       "1499   Cycling         1  "
      ]
     },
     "execution_count": 3,
     "metadata": {},
     "output_type": "execute_result"
    }
   ],
   "source": [
    "d.tail(10)"
   ]
  },
  {
   "cell_type": "code",
   "execution_count": 4,
   "id": "7e63b4ca",
   "metadata": {},
   "outputs": [
    {
     "name": "stdout",
     "output_type": "stream",
     "text": [
      "<class 'pandas.core.frame.DataFrame'>\n",
      "RangeIndex: 1500 entries, 0 to 1499\n",
      "Data columns (total 8 columns):\n",
      " #   Column            Non-Null Count  Dtype  \n",
      "---  ------            --------------  -----  \n",
      " 0   booking_id        1500 non-null   int64  \n",
      " 1   months_as_member  1500 non-null   int64  \n",
      " 2   weight            1480 non-null   float64\n",
      " 3   days_before       1500 non-null   object \n",
      " 4   day_of_week       1500 non-null   object \n",
      " 5   time              1500 non-null   object \n",
      " 6   category          1500 non-null   object \n",
      " 7   attended          1500 non-null   int64  \n",
      "dtypes: float64(1), int64(3), object(4)\n",
      "memory usage: 93.9+ KB\n"
     ]
    }
   ],
   "source": [
    "d.info()"
   ]
  },
  {
   "cell_type": "code",
   "execution_count": 5,
   "id": "1bf838f3",
   "metadata": {},
   "outputs": [
    {
     "data": {
      "text/html": [
       "<div>\n",
       "<style scoped>\n",
       "    .dataframe tbody tr th:only-of-type {\n",
       "        vertical-align: middle;\n",
       "    }\n",
       "\n",
       "    .dataframe tbody tr th {\n",
       "        vertical-align: top;\n",
       "    }\n",
       "\n",
       "    .dataframe thead th {\n",
       "        text-align: right;\n",
       "    }\n",
       "</style>\n",
       "<table border=\"1\" class=\"dataframe\">\n",
       "  <thead>\n",
       "    <tr style=\"text-align: right;\">\n",
       "      <th></th>\n",
       "      <th>booking_id</th>\n",
       "      <th>months_as_member</th>\n",
       "      <th>weight</th>\n",
       "      <th>attended</th>\n",
       "    </tr>\n",
       "  </thead>\n",
       "  <tbody>\n",
       "    <tr>\n",
       "      <th>count</th>\n",
       "      <td>1500.000000</td>\n",
       "      <td>1500.000000</td>\n",
       "      <td>1480.000000</td>\n",
       "      <td>1500.000000</td>\n",
       "    </tr>\n",
       "    <tr>\n",
       "      <th>mean</th>\n",
       "      <td>750.500000</td>\n",
       "      <td>15.628667</td>\n",
       "      <td>82.610378</td>\n",
       "      <td>0.302667</td>\n",
       "    </tr>\n",
       "    <tr>\n",
       "      <th>std</th>\n",
       "      <td>433.157015</td>\n",
       "      <td>12.926543</td>\n",
       "      <td>12.765859</td>\n",
       "      <td>0.459565</td>\n",
       "    </tr>\n",
       "    <tr>\n",
       "      <th>min</th>\n",
       "      <td>1.000000</td>\n",
       "      <td>1.000000</td>\n",
       "      <td>55.410000</td>\n",
       "      <td>0.000000</td>\n",
       "    </tr>\n",
       "    <tr>\n",
       "      <th>25%</th>\n",
       "      <td>375.750000</td>\n",
       "      <td>8.000000</td>\n",
       "      <td>73.490000</td>\n",
       "      <td>0.000000</td>\n",
       "    </tr>\n",
       "    <tr>\n",
       "      <th>50%</th>\n",
       "      <td>750.500000</td>\n",
       "      <td>12.000000</td>\n",
       "      <td>80.760000</td>\n",
       "      <td>0.000000</td>\n",
       "    </tr>\n",
       "    <tr>\n",
       "      <th>75%</th>\n",
       "      <td>1125.250000</td>\n",
       "      <td>19.000000</td>\n",
       "      <td>89.520000</td>\n",
       "      <td>1.000000</td>\n",
       "    </tr>\n",
       "    <tr>\n",
       "      <th>max</th>\n",
       "      <td>1500.000000</td>\n",
       "      <td>148.000000</td>\n",
       "      <td>170.520000</td>\n",
       "      <td>1.000000</td>\n",
       "    </tr>\n",
       "  </tbody>\n",
       "</table>\n",
       "</div>"
      ],
      "text/plain": [
       "        booking_id  months_as_member       weight     attended\n",
       "count  1500.000000       1500.000000  1480.000000  1500.000000\n",
       "mean    750.500000         15.628667    82.610378     0.302667\n",
       "std     433.157015         12.926543    12.765859     0.459565\n",
       "min       1.000000          1.000000    55.410000     0.000000\n",
       "25%     375.750000          8.000000    73.490000     0.000000\n",
       "50%     750.500000         12.000000    80.760000     0.000000\n",
       "75%    1125.250000         19.000000    89.520000     1.000000\n",
       "max    1500.000000        148.000000   170.520000     1.000000"
      ]
     },
     "execution_count": 5,
     "metadata": {},
     "output_type": "execute_result"
    }
   ],
   "source": [
    "d.describe()"
   ]
  },
  {
   "cell_type": "code",
   "execution_count": 6,
   "id": "e5b4e837",
   "metadata": {},
   "outputs": [
    {
     "data": {
      "text/html": [
       "<div>\n",
       "<style scoped>\n",
       "    .dataframe tbody tr th:only-of-type {\n",
       "        vertical-align: middle;\n",
       "    }\n",
       "\n",
       "    .dataframe tbody tr th {\n",
       "        vertical-align: top;\n",
       "    }\n",
       "\n",
       "    .dataframe thead th {\n",
       "        text-align: right;\n",
       "    }\n",
       "</style>\n",
       "<table border=\"1\" class=\"dataframe\">\n",
       "  <thead>\n",
       "    <tr style=\"text-align: right;\">\n",
       "      <th></th>\n",
       "      <th>days_before</th>\n",
       "      <th>day_of_week</th>\n",
       "      <th>time</th>\n",
       "      <th>category</th>\n",
       "    </tr>\n",
       "  </thead>\n",
       "  <tbody>\n",
       "    <tr>\n",
       "      <th>count</th>\n",
       "      <td>1500</td>\n",
       "      <td>1500</td>\n",
       "      <td>1500</td>\n",
       "      <td>1500</td>\n",
       "    </tr>\n",
       "    <tr>\n",
       "      <th>unique</th>\n",
       "      <td>31</td>\n",
       "      <td>10</td>\n",
       "      <td>2</td>\n",
       "      <td>6</td>\n",
       "    </tr>\n",
       "    <tr>\n",
       "      <th>top</th>\n",
       "      <td>10</td>\n",
       "      <td>Fri</td>\n",
       "      <td>AM</td>\n",
       "      <td>HIIT</td>\n",
       "    </tr>\n",
       "    <tr>\n",
       "      <th>freq</th>\n",
       "      <td>293</td>\n",
       "      <td>279</td>\n",
       "      <td>1141</td>\n",
       "      <td>667</td>\n",
       "    </tr>\n",
       "  </tbody>\n",
       "</table>\n",
       "</div>"
      ],
      "text/plain": [
       "       days_before day_of_week  time category\n",
       "count         1500        1500  1500     1500\n",
       "unique          31          10     2        6\n",
       "top             10         Fri    AM     HIIT\n",
       "freq           293         279  1141      667"
      ]
     },
     "execution_count": 6,
     "metadata": {},
     "output_type": "execute_result"
    }
   ],
   "source": [
    "d.describe(include='O')"
   ]
  },
  {
   "cell_type": "code",
   "execution_count": 7,
   "id": "83c9553f",
   "metadata": {},
   "outputs": [
    {
     "data": {
      "text/plain": [
       "array(['8', '2', '14', '10', '6', '4', '9', '12', '5', '3', '7', '13',\n",
       "       '12 days', '20', '1', '15', '6 days', '11', '13 days', '3 days',\n",
       "       '16', '1 days', '7 days', '8 days', '10 days', '14 days', '17',\n",
       "       '5 days', '2 days', '4 days', '29'], dtype=object)"
      ]
     },
     "execution_count": 7,
     "metadata": {},
     "output_type": "execute_result"
    }
   ],
   "source": [
    "d['days_before'].unique()"
   ]
  },
  {
   "cell_type": "code",
   "execution_count": 8,
   "id": "b7b9c8b2",
   "metadata": {},
   "outputs": [
    {
     "data": {
      "text/plain": [
       "array(['Wed', 'Mon', 'Sun', 'Fri', 'Thu', 'Wednesday', 'Fri.', 'Tue',\n",
       "       'Sat', 'Monday'], dtype=object)"
      ]
     },
     "execution_count": 8,
     "metadata": {},
     "output_type": "execute_result"
    }
   ],
   "source": [
    "d['day_of_week'].unique()"
   ]
  },
  {
   "cell_type": "code",
   "execution_count": 9,
   "id": "53cae2fd",
   "metadata": {},
   "outputs": [
    {
     "data": {
      "text/plain": [
       "array(['Strength', 'HIIT', 'Cycling', 'Yoga', '-', 'Aqua'], dtype=object)"
      ]
     },
     "execution_count": 9,
     "metadata": {},
     "output_type": "execute_result"
    }
   ],
   "source": [
    "d['category'].unique()"
   ]
  },
  {
   "cell_type": "markdown",
   "id": "a1acb51b",
   "metadata": {},
   "source": [
    "### EDA"
   ]
  },
  {
   "cell_type": "code",
   "execution_count": 10,
   "id": "b82fad16",
   "metadata": {},
   "outputs": [
    {
     "data": {
      "text/plain": [
       "['days_before', 'day_of_week', 'time', 'category']"
      ]
     },
     "execution_count": 10,
     "metadata": {},
     "output_type": "execute_result"
    }
   ],
   "source": [
    "d_cat=list(d.select_dtypes('object').columns)\n",
    "d_cat"
   ]
  },
  {
   "cell_type": "code",
   "execution_count": 11,
   "id": "47bfc670",
   "metadata": {},
   "outputs": [
    {
     "data": {
      "text/plain": [
       "['weight']"
      ]
     },
     "execution_count": 11,
     "metadata": {},
     "output_type": "execute_result"
    }
   ],
   "source": [
    "d_float=list(d.select_dtypes('float').columns)\n",
    "d_float"
   ]
  },
  {
   "cell_type": "code",
   "execution_count": 12,
   "id": "db5e8f7c",
   "metadata": {},
   "outputs": [],
   "source": [
    "da=d[['weight','months_as_member']]"
   ]
  },
  {
   "cell_type": "code",
   "execution_count": 13,
   "id": "f79022a9",
   "metadata": {},
   "outputs": [
    {
     "data": {
      "image/png": "[encoded data removed]",
      "text/plain": [
       "<Figure size 1500x1500 with 4 Axes>"
      ]
     },
     "metadata": {},
     "output_type": "display_data"
    }
   ],
   "source": [
    "fig,ax=plt.subplots(2,2,figsize=(15,15))\n",
    "m,n=0,0\n",
    "\n",
    "for columns in da:\n",
    "    sns.histplot(d[columns], kde= True,color='red', ax=ax[m][n])\n",
    "    sns.distplot(d[columns],hist=False,color='blue',ax=ax[m][n+1])\n",
    "    m+=1"
   ]
  },
  {
   "cell_type": "code",
   "execution_count": 14,
   "id": "006c7772",
   "metadata": {},
   "outputs": [
    {
     "data": {
      "text/plain": [
       "<function matplotlib.pyplot.tight_layout(*, pad=1.08, h_pad=None, w_pad=None, rect=None)>"
      ]
     },
     "execution_count": 14,
     "metadata": {},
     "output_type": "execute_result"
    },
    {
     "data": {
      "image/png": "[encoded data removed]",
      "text/plain": [
       "<Figure size 1500x1500 with 4 Axes>"
      ]
     },
     "metadata": {},
     "output_type": "display_data"
    }
   ],
   "source": [
    "plt.figure(figsize=(15,15))\n",
    "plot=1\n",
    "for column in d_cat:\n",
    "    if plot <=10:\n",
    "        ax=plt.subplot(2,2,plot)\n",
    "        sns.countplot(y=d[column])\n",
    "        plt.xlabel(column, fontsize=20)\n",
    "        plt.ylabel(\"count\", fontsize=20)\n",
    "    plot+=1\n",
    "plt.tight_layout"
   ]
  },
  {
   "cell_type": "code",
   "execution_count": 15,
   "id": "a1960619",
   "metadata": {},
   "outputs": [
    {
     "data": {
      "text/plain": [
       "<function matplotlib.pyplot.tight_layout(*, pad=1.08, h_pad=None, w_pad=None, rect=None)>"
      ]
     },
     "execution_count": 15,
     "metadata": {},
     "output_type": "execute_result"
    },
    {
     "data": {
      "image/png": "[encoded data removed]",
      "text/plain": [
       "<Figure size 1500x1500 with 4 Axes>"
      ]
     },
     "metadata": {},
     "output_type": "display_data"
    }
   ],
   "source": [
    "plt.figure(figsize=(15,15))\n",
    "plot=1\n",
    "for column in d_cat:\n",
    "    if plot <=10:\n",
    "        ax=plt.subplot(2,2,plot)\n",
    "        sns.countplot(y=d[column], hue=d.attended)\n",
    "        plt.xlabel(column, fontsize=20)\n",
    "        plt.ylabel(\"count\", fontsize=20)\n",
    "    plot+=1\n",
    "plt.tight_layout"
   ]
  },
  {
   "cell_type": "code",
   "execution_count": 16,
   "id": "935bcbb6",
   "metadata": {
    "scrolled": true
   },
   "outputs": [
    {
     "data": {
      "text/plain": [
       "<function matplotlib.pyplot.tight_layout(*, pad=1.08, h_pad=None, w_pad=None, rect=None)>"
      ]
     },
     "execution_count": 16,
     "metadata": {},
     "output_type": "execute_result"
    },
    {
     "data": {
      "image/png": "[encoded data removed]",
      "text/plain": [
       "<Figure size 1500x1500 with 2 Axes>"
      ]
     },
     "metadata": {},
     "output_type": "display_data"
    }
   ],
   "source": [
    "plt.figure(figsize=(15,15))\n",
    "plot=1\n",
    "for column in da:\n",
    "    if plot <=10:\n",
    "        ax=plt.subplot(2,2,plot)\n",
    "        sns.boxplot(da[column])\n",
    "        plt.xlabel(column, fontsize=20)\n",
    "        plt.ylabel(\"count\", fontsize=20)\n",
    "    plot+=1\n",
    "plt.tight_layout"
   ]
  },
  {
   "cell_type": "code",
   "execution_count": 37,
   "id": "9c7699f6",
   "metadata": {
    "scrolled": true
   },
   "outputs": [
    {
     "name": "stdout",
     "output_type": "stream",
     "text": [
      "73.5625\n",
      "89.3825\n",
      "15.819999999999993\n"
     ]
    }
   ],
   "source": [
    "Q3=d['weight'].quantile(0.75)\n",
    "Q1=d['weight'].quantile(0.25)\n",
    "print(Q1)\n",
    "print(Q3)\n",
    "iqr=Q3-Q1\n",
    "print(iqr)"
   ]
  },
  {
   "cell_type": "code",
   "execution_count": 38,
   "id": "2ec38b03",
   "metadata": {
    "scrolled": true
   },
   "outputs": [
    {
     "name": "stdout",
     "output_type": "stream",
     "text": [
      "8.0\n",
      "19.0\n",
      "11.0\n"
     ]
    }
   ],
   "source": [
    "Q3=d['months_as_member'].quantile(0.75)\n",
    "Q1=d['months_as_member'].quantile(0.25)\n",
    "print(Q1)\n",
    "print(Q3)\n",
    "iqr=Q3-Q1\n",
    "print(iqr)"
   ]
  },
  {
   "cell_type": "code",
   "execution_count": 39,
   "id": "f835af36",
   "metadata": {
    "scrolled": true
   },
   "outputs": [
    {
     "name": "stdout",
     "output_type": "stream",
     "text": [
      "35.5\n",
      "-8.5\n"
     ]
    }
   ],
   "source": [
    "upper=Q3+1.5*iqr\n",
    "lower=Q1-1.5*iqr\n",
    "print(upper)\n",
    "print(lower)"
   ]
  },
  {
   "cell_type": "code",
   "execution_count": 45,
   "id": "370ff7c1",
   "metadata": {},
   "outputs": [],
   "source": [
    "da = d[(d['months_as_member'] >= lower) & (d['months_as_member'] <= upper)]"
   ]
  },
  {
   "cell_type": "code",
   "execution_count": 46,
   "id": "4a39aa7e",
   "metadata": {},
   "outputs": [
    {
     "data": {
      "text/plain": [
       "booking_id          0\n",
       "months_as_member    0\n",
       "weight              0\n",
       "days_before         0\n",
       "day_of_week         0\n",
       "category            0\n",
       "attended            0\n",
       "time_PM             0\n",
       "dtype: int64"
      ]
     },
     "execution_count": 46,
     "metadata": {},
     "output_type": "execute_result"
    }
   ],
   "source": [
    "da.isna().sum()"
   ]
  },
  {
   "cell_type": "code",
   "execution_count": 47,
   "id": "be80e8da",
   "metadata": {},
   "outputs": [
    {
     "data": {
      "image/png": "[encoded data removed]",
      "text/plain": [
       "<Figure size 640x480 with 1 Axes>"
      ]
     },
     "metadata": {},
     "output_type": "display_data"
    }
   ],
   "source": [
    "da['weight'].hist()\n",
    "plt.show()"
   ]
  },
  {
   "cell_type": "code",
   "execution_count": 48,
   "id": "3b555771",
   "metadata": {},
   "outputs": [],
   "source": [
    "da['weight'].fillna(value=(da['weight'].mean()),inplace=True)"
   ]
  },
  {
   "cell_type": "code",
   "execution_count": 49,
   "id": "ad9afcdb",
   "metadata": {},
   "outputs": [
    {
     "data": {
      "text/plain": [
       "booking_id          0\n",
       "months_as_member    0\n",
       "weight              0\n",
       "days_before         0\n",
       "day_of_week         0\n",
       "category            0\n",
       "attended            0\n",
       "time_PM             0\n",
       "dtype: int64"
      ]
     },
     "execution_count": 49,
     "metadata": {},
     "output_type": "execute_result"
    }
   ],
   "source": [
    "da.isna().sum()"
   ]
  },
  {
   "cell_type": "code",
   "execution_count": 52,
   "id": "bd807169",
   "metadata": {
    "scrolled": true
   },
   "outputs": [
    {
     "ename": "AttributeError",
     "evalue": "Can only use .str accessor with string values!",
     "output_type": "error",
     "traceback": [
      "\u001b[1;31m---------------------------------------------------------------------------\u001b[0m",
      "\u001b[1;31mAttributeError\u001b[0m                            Traceback (most recent call last)",
      "Cell \u001b[1;32mIn[52], line 1\u001b[0m\n\u001b[1;32m----> 1\u001b[0m da[\u001b[38;5;124m'\u001b[39m\u001b[38;5;124mdays_before\u001b[39m\u001b[38;5;124m'\u001b[39m] \u001b[38;5;241m=\u001b[39m da[\u001b[38;5;124m'\u001b[39m\u001b[38;5;124mdays_before\u001b[39m\u001b[38;5;124m'\u001b[39m]\u001b[38;5;241m.\u001b[39mstr\u001b[38;5;241m.\u001b[39mreplace(\u001b[38;5;124m'\u001b[39m\u001b[38;5;124m days\u001b[39m\u001b[38;5;124m'\u001b[39m, \u001b[38;5;124m'\u001b[39m\u001b[38;5;124m'\u001b[39m)\n",
      "File \u001b[1;32m~\\anaconda3\\Lib\\site-packages\\pandas\\core\\generic.py:5989\u001b[0m, in \u001b[0;36mNDFrame.__getattr__\u001b[1;34m(self, name)\u001b[0m\n\u001b[0;32m   5982\u001b[0m \u001b[38;5;28;01mif\u001b[39;00m (\n\u001b[0;32m   5983\u001b[0m     name \u001b[38;5;129;01mnot\u001b[39;00m \u001b[38;5;129;01min\u001b[39;00m \u001b[38;5;28mself\u001b[39m\u001b[38;5;241m.\u001b[39m_internal_names_set\n\u001b[0;32m   5984\u001b[0m     \u001b[38;5;129;01mand\u001b[39;00m name \u001b[38;5;129;01mnot\u001b[39;00m \u001b[38;5;129;01min\u001b[39;00m \u001b[38;5;28mself\u001b[39m\u001b[38;5;241m.\u001b[39m_metadata\n\u001b[0;32m   5985\u001b[0m     \u001b[38;5;129;01mand\u001b[39;00m name \u001b[38;5;129;01mnot\u001b[39;00m \u001b[38;5;129;01min\u001b[39;00m \u001b[38;5;28mself\u001b[39m\u001b[38;5;241m.\u001b[39m_accessors\n\u001b[0;32m   5986\u001b[0m     \u001b[38;5;129;01mand\u001b[39;00m \u001b[38;5;28mself\u001b[39m\u001b[38;5;241m.\u001b[39m_info_axis\u001b[38;5;241m.\u001b[39m_can_hold_identifiers_and_holds_name(name)\n\u001b[0;32m   5987\u001b[0m ):\n\u001b[0;32m   5988\u001b[0m     \u001b[38;5;28;01mreturn\u001b[39;00m \u001b[38;5;28mself\u001b[39m[name]\n\u001b[1;32m-> 5989\u001b[0m \u001b[38;5;28;01mreturn\u001b[39;00m \u001b[38;5;28mobject\u001b[39m\u001b[38;5;241m.\u001b[39m\u001b[38;5;21m__getattribute__\u001b[39m(\u001b[38;5;28mself\u001b[39m, name)\n",
      "File \u001b[1;32m~\\anaconda3\\Lib\\site-packages\\pandas\\core\\accessor.py:224\u001b[0m, in \u001b[0;36mCachedAccessor.__get__\u001b[1;34m(self, obj, cls)\u001b[0m\n\u001b[0;32m    221\u001b[0m \u001b[38;5;28;01mif\u001b[39;00m obj \u001b[38;5;129;01mis\u001b[39;00m \u001b[38;5;28;01mNone\u001b[39;00m:\n\u001b[0;32m    222\u001b[0m     \u001b[38;5;66;03m# we're accessing the attribute of the class, i.e., Dataset.geo\u001b[39;00m\n\u001b[0;32m    223\u001b[0m     \u001b[38;5;28;01mreturn\u001b[39;00m \u001b[38;5;28mself\u001b[39m\u001b[38;5;241m.\u001b[39m_accessor\n\u001b[1;32m--> 224\u001b[0m accessor_obj \u001b[38;5;241m=\u001b[39m \u001b[38;5;28mself\u001b[39m\u001b[38;5;241m.\u001b[39m_accessor(obj)\n\u001b[0;32m    225\u001b[0m \u001b[38;5;66;03m# Replace the property with the accessor object. Inspired by:\u001b[39;00m\n\u001b[0;32m    226\u001b[0m \u001b[38;5;66;03m# https://www.pydanny.com/cached-property.html\u001b[39;00m\n\u001b[0;32m    227\u001b[0m \u001b[38;5;66;03m# We need to use object.__setattr__ because we overwrite __setattr__ on\u001b[39;00m\n\u001b[0;32m    228\u001b[0m \u001b[38;5;66;03m# NDFrame\u001b[39;00m\n\u001b[0;32m    229\u001b[0m \u001b[38;5;28mobject\u001b[39m\u001b[38;5;241m.\u001b[39m\u001b[38;5;21m__setattr__\u001b[39m(obj, \u001b[38;5;28mself\u001b[39m\u001b[38;5;241m.\u001b[39m_name, accessor_obj)\n",
      "File \u001b[1;32m~\\anaconda3\\Lib\\site-packages\\pandas\\core\\strings\\accessor.py:181\u001b[0m, in \u001b[0;36mStringMethods.__init__\u001b[1;34m(self, data)\u001b[0m\n\u001b[0;32m    178\u001b[0m \u001b[38;5;28;01mdef\u001b[39;00m \u001b[38;5;21m__init__\u001b[39m(\u001b[38;5;28mself\u001b[39m, data) \u001b[38;5;241m-\u001b[39m\u001b[38;5;241m>\u001b[39m \u001b[38;5;28;01mNone\u001b[39;00m:\n\u001b[0;32m    179\u001b[0m     \u001b[38;5;28;01mfrom\u001b[39;00m \u001b[38;5;21;01mpandas\u001b[39;00m\u001b[38;5;21;01m.\u001b[39;00m\u001b[38;5;21;01mcore\u001b[39;00m\u001b[38;5;21;01m.\u001b[39;00m\u001b[38;5;21;01marrays\u001b[39;00m\u001b[38;5;21;01m.\u001b[39;00m\u001b[38;5;21;01mstring_\u001b[39;00m \u001b[38;5;28;01mimport\u001b[39;00m StringDtype\n\u001b[1;32m--> 181\u001b[0m     \u001b[38;5;28mself\u001b[39m\u001b[38;5;241m.\u001b[39m_inferred_dtype \u001b[38;5;241m=\u001b[39m \u001b[38;5;28mself\u001b[39m\u001b[38;5;241m.\u001b[39m_validate(data)\n\u001b[0;32m    182\u001b[0m     \u001b[38;5;28mself\u001b[39m\u001b[38;5;241m.\u001b[39m_is_categorical \u001b[38;5;241m=\u001b[39m is_categorical_dtype(data\u001b[38;5;241m.\u001b[39mdtype)\n\u001b[0;32m    183\u001b[0m     \u001b[38;5;28mself\u001b[39m\u001b[38;5;241m.\u001b[39m_is_string \u001b[38;5;241m=\u001b[39m \u001b[38;5;28misinstance\u001b[39m(data\u001b[38;5;241m.\u001b[39mdtype, StringDtype)\n",
      "File \u001b[1;32m~\\anaconda3\\Lib\\site-packages\\pandas\\core\\strings\\accessor.py:235\u001b[0m, in \u001b[0;36mStringMethods._validate\u001b[1;34m(data)\u001b[0m\n\u001b[0;32m    232\u001b[0m inferred_dtype \u001b[38;5;241m=\u001b[39m lib\u001b[38;5;241m.\u001b[39minfer_dtype(values, skipna\u001b[38;5;241m=\u001b[39m\u001b[38;5;28;01mTrue\u001b[39;00m)\n\u001b[0;32m    234\u001b[0m \u001b[38;5;28;01mif\u001b[39;00m inferred_dtype \u001b[38;5;129;01mnot\u001b[39;00m \u001b[38;5;129;01min\u001b[39;00m allowed_types:\n\u001b[1;32m--> 235\u001b[0m     \u001b[38;5;28;01mraise\u001b[39;00m \u001b[38;5;167;01mAttributeError\u001b[39;00m(\u001b[38;5;124m\"\u001b[39m\u001b[38;5;124mCan only use .str accessor with string values!\u001b[39m\u001b[38;5;124m\"\u001b[39m)\n\u001b[0;32m    236\u001b[0m \u001b[38;5;28;01mreturn\u001b[39;00m inferred_dtype\n",
      "\u001b[1;31mAttributeError\u001b[0m: Can only use .str accessor with string values!"
     ]
    }
   ],
   "source": [
    "da['days_before'] = da['days_before'].str.replace(' days', '')"
   ]
  },
  {
   "cell_type": "code",
   "execution_count": null,
   "id": "e7039286",
   "metadata": {},
   "outputs": [],
   "source": [
    "da['']"
   ]
  },
  {
   "cell_type": "code",
   "execution_count": 51,
   "id": "3cc18c71",
   "metadata": {},
   "outputs": [],
   "source": [
    "da['days_before']=da['days_before'].astype('int')"
   ]
  },
  {
   "cell_type": "code",
   "execution_count": 53,
   "id": "9e6aa572",
   "metadata": {},
   "outputs": [
    {
     "data": {
      "text/plain": [
       "days_before\n",
       "10    278\n",
       "2     191\n",
       "8     185\n",
       "12    170\n",
       "14    163\n",
       "4     147\n",
       "6      65\n",
       "7      35\n",
       "3      30\n",
       "5      27\n",
       "13     26\n",
       "9      22\n",
       "15     22\n",
       "11     20\n",
       "1       8\n",
       "16      3\n",
       "17      3\n",
       "20      1\n",
       "29      1\n",
       "Name: count, dtype: int64"
      ]
     },
     "execution_count": 53,
     "metadata": {},
     "output_type": "execute_result"
    }
   ],
   "source": [
    "da['days_before'].value_counts()"
   ]
  },
  {
   "cell_type": "code",
   "execution_count": 54,
   "id": "dd7d5b76",
   "metadata": {},
   "outputs": [],
   "source": [
    "da['category']=da['category'].replace('-','unknow')"
   ]
  },
  {
   "cell_type": "code",
   "execution_count": 55,
   "id": "60a40ca3",
   "metadata": {
    "scrolled": true
   },
   "outputs": [
    {
     "data": {
      "text/plain": [
       "array([4, 3, 2, 5, 0, 1])"
      ]
     },
     "execution_count": 55,
     "metadata": {},
     "output_type": "execute_result"
    }
   ],
   "source": [
    "da['category'].unique()"
   ]
  },
  {
   "cell_type": "code",
   "execution_count": 28,
   "id": "0fede6e5",
   "metadata": {},
   "outputs": [],
   "source": [
    "# Categorical Columns to Numerical Columns"
   ]
  },
  {
   "cell_type": "code",
   "execution_count": 56,
   "id": "81225e6d",
   "metadata": {},
   "outputs": [
    {
     "data": {
      "text/plain": [
       "array([8, 2, 5, 0, 6, 9, 1, 7, 4, 3])"
      ]
     },
     "execution_count": 56,
     "metadata": {},
     "output_type": "execute_result"
    }
   ],
   "source": [
    "da['day_of_week'].unique()"
   ]
  },
  {
   "cell_type": "code",
   "execution_count": 57,
   "id": "8ff91a81",
   "metadata": {},
   "outputs": [
    {
     "data": {
      "text/html": [
       "<div>\n",
       "<style scoped>\n",
       "    .dataframe tbody tr th:only-of-type {\n",
       "        vertical-align: middle;\n",
       "    }\n",
       "\n",
       "    .dataframe tbody tr th {\n",
       "        vertical-align: top;\n",
       "    }\n",
       "\n",
       "    .dataframe thead th {\n",
       "        text-align: right;\n",
       "    }\n",
       "</style>\n",
       "<table border=\"1\" class=\"dataframe\">\n",
       "  <thead>\n",
       "    <tr style=\"text-align: right;\">\n",
       "      <th></th>\n",
       "      <th>booking_id</th>\n",
       "      <th>months_as_member</th>\n",
       "      <th>weight</th>\n",
       "      <th>days_before</th>\n",
       "      <th>day_of_week</th>\n",
       "      <th>category</th>\n",
       "      <th>attended</th>\n",
       "      <th>time_PM</th>\n",
       "    </tr>\n",
       "  </thead>\n",
       "  <tbody>\n",
       "    <tr>\n",
       "      <th>0</th>\n",
       "      <td>1</td>\n",
       "      <td>17</td>\n",
       "      <td>79.56</td>\n",
       "      <td>8</td>\n",
       "      <td>8</td>\n",
       "      <td>4</td>\n",
       "      <td>0</td>\n",
       "      <td>1</td>\n",
       "    </tr>\n",
       "    <tr>\n",
       "      <th>1</th>\n",
       "      <td>2</td>\n",
       "      <td>10</td>\n",
       "      <td>79.01</td>\n",
       "      <td>2</td>\n",
       "      <td>2</td>\n",
       "      <td>3</td>\n",
       "      <td>0</td>\n",
       "      <td>0</td>\n",
       "    </tr>\n",
       "    <tr>\n",
       "      <th>2</th>\n",
       "      <td>3</td>\n",
       "      <td>16</td>\n",
       "      <td>74.53</td>\n",
       "      <td>14</td>\n",
       "      <td>5</td>\n",
       "      <td>4</td>\n",
       "      <td>0</td>\n",
       "      <td>0</td>\n",
       "    </tr>\n",
       "    <tr>\n",
       "      <th>3</th>\n",
       "      <td>4</td>\n",
       "      <td>5</td>\n",
       "      <td>86.12</td>\n",
       "      <td>10</td>\n",
       "      <td>0</td>\n",
       "      <td>2</td>\n",
       "      <td>0</td>\n",
       "      <td>0</td>\n",
       "    </tr>\n",
       "    <tr>\n",
       "      <th>4</th>\n",
       "      <td>5</td>\n",
       "      <td>15</td>\n",
       "      <td>69.29</td>\n",
       "      <td>8</td>\n",
       "      <td>6</td>\n",
       "      <td>3</td>\n",
       "      <td>0</td>\n",
       "      <td>0</td>\n",
       "    </tr>\n",
       "    <tr>\n",
       "      <th>...</th>\n",
       "      <td>...</td>\n",
       "      <td>...</td>\n",
       "      <td>...</td>\n",
       "      <td>...</td>\n",
       "      <td>...</td>\n",
       "      <td>...</td>\n",
       "      <td>...</td>\n",
       "      <td>...</td>\n",
       "    </tr>\n",
       "    <tr>\n",
       "      <th>1495</th>\n",
       "      <td>1496</td>\n",
       "      <td>21</td>\n",
       "      <td>79.51</td>\n",
       "      <td>10</td>\n",
       "      <td>0</td>\n",
       "      <td>3</td>\n",
       "      <td>0</td>\n",
       "      <td>0</td>\n",
       "    </tr>\n",
       "    <tr>\n",
       "      <th>1496</th>\n",
       "      <td>1497</td>\n",
       "      <td>29</td>\n",
       "      <td>89.55</td>\n",
       "      <td>2</td>\n",
       "      <td>2</td>\n",
       "      <td>4</td>\n",
       "      <td>0</td>\n",
       "      <td>0</td>\n",
       "    </tr>\n",
       "    <tr>\n",
       "      <th>1497</th>\n",
       "      <td>1498</td>\n",
       "      <td>9</td>\n",
       "      <td>87.38</td>\n",
       "      <td>4</td>\n",
       "      <td>7</td>\n",
       "      <td>3</td>\n",
       "      <td>0</td>\n",
       "      <td>0</td>\n",
       "    </tr>\n",
       "    <tr>\n",
       "      <th>1498</th>\n",
       "      <td>1499</td>\n",
       "      <td>34</td>\n",
       "      <td>68.64</td>\n",
       "      <td>14</td>\n",
       "      <td>5</td>\n",
       "      <td>1</td>\n",
       "      <td>0</td>\n",
       "      <td>0</td>\n",
       "    </tr>\n",
       "    <tr>\n",
       "      <th>1499</th>\n",
       "      <td>1500</td>\n",
       "      <td>20</td>\n",
       "      <td>94.39</td>\n",
       "      <td>8</td>\n",
       "      <td>6</td>\n",
       "      <td>2</td>\n",
       "      <td>1</td>\n",
       "      <td>0</td>\n",
       "    </tr>\n",
       "  </tbody>\n",
       "</table>\n",
       "<p>1397 rows × 8 columns</p>\n",
       "</div>"
      ],
      "text/plain": [
       "      booking_id  months_as_member  weight  days_before  day_of_week  \\\n",
       "0              1                17   79.56            8            8   \n",
       "1              2                10   79.01            2            2   \n",
       "2              3                16   74.53           14            5   \n",
       "3              4                 5   86.12           10            0   \n",
       "4              5                15   69.29            8            6   \n",
       "...          ...               ...     ...          ...          ...   \n",
       "1495        1496                21   79.51           10            0   \n",
       "1496        1497                29   89.55            2            2   \n",
       "1497        1498                 9   87.38            4            7   \n",
       "1498        1499                34   68.64           14            5   \n",
       "1499        1500                20   94.39            8            6   \n",
       "\n",
       "      category  attended  time_PM  \n",
       "0            4         0        1  \n",
       "1            3         0        0  \n",
       "2            4         0        0  \n",
       "3            2         0        0  \n",
       "4            3         0        0  \n",
       "...        ...       ...      ...  \n",
       "1495         3         0        0  \n",
       "1496         4         0        0  \n",
       "1497         3         0        0  \n",
       "1498         1         0        0  \n",
       "1499         2         1        0  \n",
       "\n",
       "[1397 rows x 8 columns]"
      ]
     },
     "execution_count": 57,
     "metadata": {},
     "output_type": "execute_result"
    }
   ],
   "source": [
    "da"
   ]
  },
  {
   "cell_type": "code",
   "execution_count": 32,
   "id": "dfe47724",
   "metadata": {},
   "outputs": [],
   "source": [
    "da=pd.get_dummies(d['time'],prefix='time',drop_first=True, dtype=int)\n",
    "d=pd.concat([d,da],axis=1).drop(['time'],axis=1)"
   ]
  },
  {
   "cell_type": "code",
   "execution_count": 88,
   "id": "b0db734b",
   "metadata": {},
   "outputs": [
    {
     "data": {
      "text/html": [
       "<div>\n",
       "<style scoped>\n",
       "    .dataframe tbody tr th:only-of-type {\n",
       "        vertical-align: middle;\n",
       "    }\n",
       "\n",
       "    .dataframe tbody tr th {\n",
       "        vertical-align: top;\n",
       "    }\n",
       "\n",
       "    .dataframe thead th {\n",
       "        text-align: right;\n",
       "    }\n",
       "</style>\n",
       "<table border=\"1\" class=\"dataframe\">\n",
       "  <thead>\n",
       "    <tr style=\"text-align: right;\">\n",
       "      <th></th>\n",
       "      <th>booking_id</th>\n",
       "      <th>months_as_member</th>\n",
       "      <th>weight</th>\n",
       "      <th>days_before</th>\n",
       "      <th>day_of_week</th>\n",
       "      <th>category</th>\n",
       "      <th>attended</th>\n",
       "      <th>time_PM_True</th>\n",
       "    </tr>\n",
       "  </thead>\n",
       "  <tbody>\n",
       "    <tr>\n",
       "      <th>0</th>\n",
       "      <td>1</td>\n",
       "      <td>17</td>\n",
       "      <td>79</td>\n",
       "      <td>8</td>\n",
       "      <td>3.0</td>\n",
       "      <td>Strength</td>\n",
       "      <td>0</td>\n",
       "      <td>1</td>\n",
       "    </tr>\n",
       "    <tr>\n",
       "      <th>1</th>\n",
       "      <td>2</td>\n",
       "      <td>10</td>\n",
       "      <td>79</td>\n",
       "      <td>2</td>\n",
       "      <td>1.0</td>\n",
       "      <td>HIIT</td>\n",
       "      <td>0</td>\n",
       "      <td>0</td>\n",
       "    </tr>\n",
       "    <tr>\n",
       "      <th>2</th>\n",
       "      <td>3</td>\n",
       "      <td>16</td>\n",
       "      <td>74</td>\n",
       "      <td>14</td>\n",
       "      <td>7.0</td>\n",
       "      <td>Strength</td>\n",
       "      <td>0</td>\n",
       "      <td>0</td>\n",
       "    </tr>\n",
       "    <tr>\n",
       "      <th>3</th>\n",
       "      <td>4</td>\n",
       "      <td>5</td>\n",
       "      <td>86</td>\n",
       "      <td>10</td>\n",
       "      <td>5.0</td>\n",
       "      <td>Cycling</td>\n",
       "      <td>0</td>\n",
       "      <td>0</td>\n",
       "    </tr>\n",
       "    <tr>\n",
       "      <th>4</th>\n",
       "      <td>5</td>\n",
       "      <td>15</td>\n",
       "      <td>69</td>\n",
       "      <td>8</td>\n",
       "      <td>4.0</td>\n",
       "      <td>HIIT</td>\n",
       "      <td>0</td>\n",
       "      <td>0</td>\n",
       "    </tr>\n",
       "    <tr>\n",
       "      <th>...</th>\n",
       "      <td>...</td>\n",
       "      <td>...</td>\n",
       "      <td>...</td>\n",
       "      <td>...</td>\n",
       "      <td>...</td>\n",
       "      <td>...</td>\n",
       "      <td>...</td>\n",
       "      <td>...</td>\n",
       "    </tr>\n",
       "    <tr>\n",
       "      <th>1495</th>\n",
       "      <td>1496</td>\n",
       "      <td>21</td>\n",
       "      <td>79</td>\n",
       "      <td>10</td>\n",
       "      <td>5.0</td>\n",
       "      <td>HIIT</td>\n",
       "      <td>0</td>\n",
       "      <td>0</td>\n",
       "    </tr>\n",
       "    <tr>\n",
       "      <th>1496</th>\n",
       "      <td>1497</td>\n",
       "      <td>29</td>\n",
       "      <td>89</td>\n",
       "      <td>2</td>\n",
       "      <td>1.0</td>\n",
       "      <td>Strength</td>\n",
       "      <td>0</td>\n",
       "      <td>0</td>\n",
       "    </tr>\n",
       "    <tr>\n",
       "      <th>1497</th>\n",
       "      <td>1498</td>\n",
       "      <td>9</td>\n",
       "      <td>87</td>\n",
       "      <td>4</td>\n",
       "      <td>2.0</td>\n",
       "      <td>HIIT</td>\n",
       "      <td>0</td>\n",
       "      <td>0</td>\n",
       "    </tr>\n",
       "    <tr>\n",
       "      <th>1498</th>\n",
       "      <td>1499</td>\n",
       "      <td>34</td>\n",
       "      <td>68</td>\n",
       "      <td>14</td>\n",
       "      <td>7.0</td>\n",
       "      <td>Aqua</td>\n",
       "      <td>0</td>\n",
       "      <td>0</td>\n",
       "    </tr>\n",
       "    <tr>\n",
       "      <th>1499</th>\n",
       "      <td>1500</td>\n",
       "      <td>20</td>\n",
       "      <td>94</td>\n",
       "      <td>8</td>\n",
       "      <td>4.0</td>\n",
       "      <td>Cycling</td>\n",
       "      <td>1</td>\n",
       "      <td>0</td>\n",
       "    </tr>\n",
       "  </tbody>\n",
       "</table>\n",
       "<p>1500 rows × 8 columns</p>\n",
       "</div>"
      ],
      "text/plain": [
       "      booking_id  months_as_member  weight days_before  day_of_week  category  \\\n",
       "0              1                17      79           8          3.0  Strength   \n",
       "1              2                10      79           2          1.0      HIIT   \n",
       "2              3                16      74          14          7.0  Strength   \n",
       "3              4                 5      86          10          5.0   Cycling   \n",
       "4              5                15      69           8          4.0      HIIT   \n",
       "...          ...               ...     ...         ...          ...       ...   \n",
       "1495        1496                21      79          10          5.0      HIIT   \n",
       "1496        1497                29      89           2          1.0  Strength   \n",
       "1497        1498                 9      87           4          2.0      HIIT   \n",
       "1498        1499                34      68          14          7.0      Aqua   \n",
       "1499        1500                20      94           8          4.0   Cycling   \n",
       "\n",
       "      attended  time_PM_True  \n",
       "0            0             1  \n",
       "1            0             0  \n",
       "2            0             0  \n",
       "3            0             0  \n",
       "4            0             0  \n",
       "...        ...           ...  \n",
       "1495         0             0  \n",
       "1496         0             0  \n",
       "1497         0             0  \n",
       "1498         0             0  \n",
       "1499         1             0  \n",
       "\n",
       "[1500 rows x 8 columns]"
      ]
     },
     "execution_count": 88,
     "metadata": {},
     "output_type": "execute_result"
    }
   ],
   "source": [
    "d"
   ]
  },
  {
   "cell_type": "code",
   "execution_count": 58,
   "id": "db2fef24",
   "metadata": {},
   "outputs": [
    {
     "name": "stdout",
     "output_type": "stream",
     "text": [
      "<class 'pandas.core.frame.DataFrame'>\n",
      "Index: 1397 entries, 0 to 1499\n",
      "Data columns (total 8 columns):\n",
      " #   Column            Non-Null Count  Dtype  \n",
      "---  ------            --------------  -----  \n",
      " 0   booking_id        1397 non-null   int64  \n",
      " 1   months_as_member  1397 non-null   int64  \n",
      " 2   weight            1397 non-null   float64\n",
      " 3   days_before       1397 non-null   int32  \n",
      " 4   day_of_week       1397 non-null   int32  \n",
      " 5   category          1397 non-null   int32  \n",
      " 6   attended          1397 non-null   int64  \n",
      " 7   time_PM           1397 non-null   int32  \n",
      "dtypes: float64(1), int32(4), int64(3)\n",
      "memory usage: 76.4 KB\n"
     ]
    }
   ],
   "source": [
    "da.info()"
   ]
  },
  {
   "cell_type": "code",
   "execution_count": 21,
   "id": "ebfb495d",
   "metadata": {},
   "outputs": [],
   "source": [
    "from sklearn.preprocessing import LabelEncoder\n",
    "le=LabelEncoder()\n",
    "d['category']=le.fit_transform(d['category'])\n",
    "d['day_of_week']=le.fit_transform(d['day_of_week'])"
   ]
  },
  {
   "cell_type": "code",
   "execution_count": 59,
   "id": "11cf5aed",
   "metadata": {},
   "outputs": [
    {
     "data": {
      "text/html": [
       "<div>\n",
       "<style scoped>\n",
       "    .dataframe tbody tr th:only-of-type {\n",
       "        vertical-align: middle;\n",
       "    }\n",
       "\n",
       "    .dataframe tbody tr th {\n",
       "        vertical-align: top;\n",
       "    }\n",
       "\n",
       "    .dataframe thead th {\n",
       "        text-align: right;\n",
       "    }\n",
       "</style>\n",
       "<table border=\"1\" class=\"dataframe\">\n",
       "  <thead>\n",
       "    <tr style=\"text-align: right;\">\n",
       "      <th></th>\n",
       "      <th>booking_id</th>\n",
       "      <th>months_as_member</th>\n",
       "      <th>weight</th>\n",
       "      <th>days_before</th>\n",
       "      <th>day_of_week</th>\n",
       "      <th>category</th>\n",
       "      <th>attended</th>\n",
       "      <th>time_PM</th>\n",
       "    </tr>\n",
       "  </thead>\n",
       "  <tbody>\n",
       "    <tr>\n",
       "      <th>0</th>\n",
       "      <td>1</td>\n",
       "      <td>17</td>\n",
       "      <td>79.56</td>\n",
       "      <td>8</td>\n",
       "      <td>8</td>\n",
       "      <td>4</td>\n",
       "      <td>0</td>\n",
       "      <td>1</td>\n",
       "    </tr>\n",
       "    <tr>\n",
       "      <th>1</th>\n",
       "      <td>2</td>\n",
       "      <td>10</td>\n",
       "      <td>79.01</td>\n",
       "      <td>2</td>\n",
       "      <td>2</td>\n",
       "      <td>3</td>\n",
       "      <td>0</td>\n",
       "      <td>0</td>\n",
       "    </tr>\n",
       "    <tr>\n",
       "      <th>2</th>\n",
       "      <td>3</td>\n",
       "      <td>16</td>\n",
       "      <td>74.53</td>\n",
       "      <td>14</td>\n",
       "      <td>5</td>\n",
       "      <td>4</td>\n",
       "      <td>0</td>\n",
       "      <td>0</td>\n",
       "    </tr>\n",
       "    <tr>\n",
       "      <th>3</th>\n",
       "      <td>4</td>\n",
       "      <td>5</td>\n",
       "      <td>86.12</td>\n",
       "      <td>10</td>\n",
       "      <td>0</td>\n",
       "      <td>2</td>\n",
       "      <td>0</td>\n",
       "      <td>0</td>\n",
       "    </tr>\n",
       "    <tr>\n",
       "      <th>4</th>\n",
       "      <td>5</td>\n",
       "      <td>15</td>\n",
       "      <td>69.29</td>\n",
       "      <td>8</td>\n",
       "      <td>6</td>\n",
       "      <td>3</td>\n",
       "      <td>0</td>\n",
       "      <td>0</td>\n",
       "    </tr>\n",
       "    <tr>\n",
       "      <th>...</th>\n",
       "      <td>...</td>\n",
       "      <td>...</td>\n",
       "      <td>...</td>\n",
       "      <td>...</td>\n",
       "      <td>...</td>\n",
       "      <td>...</td>\n",
       "      <td>...</td>\n",
       "      <td>...</td>\n",
       "    </tr>\n",
       "    <tr>\n",
       "      <th>1495</th>\n",
       "      <td>1496</td>\n",
       "      <td>21</td>\n",
       "      <td>79.51</td>\n",
       "      <td>10</td>\n",
       "      <td>0</td>\n",
       "      <td>3</td>\n",
       "      <td>0</td>\n",
       "      <td>0</td>\n",
       "    </tr>\n",
       "    <tr>\n",
       "      <th>1496</th>\n",
       "      <td>1497</td>\n",
       "      <td>29</td>\n",
       "      <td>89.55</td>\n",
       "      <td>2</td>\n",
       "      <td>2</td>\n",
       "      <td>4</td>\n",
       "      <td>0</td>\n",
       "      <td>0</td>\n",
       "    </tr>\n",
       "    <tr>\n",
       "      <th>1497</th>\n",
       "      <td>1498</td>\n",
       "      <td>9</td>\n",
       "      <td>87.38</td>\n",
       "      <td>4</td>\n",
       "      <td>7</td>\n",
       "      <td>3</td>\n",
       "      <td>0</td>\n",
       "      <td>0</td>\n",
       "    </tr>\n",
       "    <tr>\n",
       "      <th>1498</th>\n",
       "      <td>1499</td>\n",
       "      <td>34</td>\n",
       "      <td>68.64</td>\n",
       "      <td>14</td>\n",
       "      <td>5</td>\n",
       "      <td>1</td>\n",
       "      <td>0</td>\n",
       "      <td>0</td>\n",
       "    </tr>\n",
       "    <tr>\n",
       "      <th>1499</th>\n",
       "      <td>1500</td>\n",
       "      <td>20</td>\n",
       "      <td>94.39</td>\n",
       "      <td>8</td>\n",
       "      <td>6</td>\n",
       "      <td>2</td>\n",
       "      <td>1</td>\n",
       "      <td>0</td>\n",
       "    </tr>\n",
       "  </tbody>\n",
       "</table>\n",
       "<p>1397 rows × 8 columns</p>\n",
       "</div>"
      ],
      "text/plain": [
       "      booking_id  months_as_member  weight  days_before  day_of_week  \\\n",
       "0              1                17   79.56            8            8   \n",
       "1              2                10   79.01            2            2   \n",
       "2              3                16   74.53           14            5   \n",
       "3              4                 5   86.12           10            0   \n",
       "4              5                15   69.29            8            6   \n",
       "...          ...               ...     ...          ...          ...   \n",
       "1495        1496                21   79.51           10            0   \n",
       "1496        1497                29   89.55            2            2   \n",
       "1497        1498                 9   87.38            4            7   \n",
       "1498        1499                34   68.64           14            5   \n",
       "1499        1500                20   94.39            8            6   \n",
       "\n",
       "      category  attended  time_PM  \n",
       "0            4         0        1  \n",
       "1            3         0        0  \n",
       "2            4         0        0  \n",
       "3            2         0        0  \n",
       "4            3         0        0  \n",
       "...        ...       ...      ...  \n",
       "1495         3         0        0  \n",
       "1496         4         0        0  \n",
       "1497         3         0        0  \n",
       "1498         1         0        0  \n",
       "1499         2         1        0  \n",
       "\n",
       "[1397 rows x 8 columns]"
      ]
     },
     "execution_count": 59,
     "metadata": {},
     "output_type": "execute_result"
    }
   ],
   "source": [
    "da"
   ]
  },
  {
   "cell_type": "code",
   "execution_count": 60,
   "id": "e06f4fee",
   "metadata": {
    "scrolled": false
   },
   "outputs": [
    {
     "data": {
      "text/plain": [
       "<Axes: >"
      ]
     },
     "execution_count": 60,
     "metadata": {},
     "output_type": "execute_result"
    },
    {
     "data": {
      "image/png": "[encoded data removed]",
      "text/plain": [
       "<Figure size 640x480 with 2 Axes>"
      ]
     },
     "metadata": {},
     "output_type": "display_data"
    }
   ],
   "source": [
    "sns.heatmap(da.corr(),annot=True)"
   ]
  },
  {
   "cell_type": "code",
   "execution_count": 66,
   "id": "dd414e04",
   "metadata": {},
   "outputs": [
    {
     "data": {
      "text/plain": [
       "Index(['booking_id', 'months_as_member', 'weight', 'days_before',\n",
       "       'day_of_week', 'category', 'attended', 'time_PM'],\n",
       "      dtype='object')"
      ]
     },
     "execution_count": 66,
     "metadata": {},
     "output_type": "execute_result"
    }
   ],
   "source": [
    "da.columns"
   ]
  },
  {
   "cell_type": "code",
   "execution_count": 70,
   "id": "e6476de6",
   "metadata": {},
   "outputs": [],
   "source": [
    "from sklearn.preprocessing import StandardScaler\n",
    "sc=StandardScaler()\n",
    "da[['booking_id', 'months_as_member', 'weight', 'days_before',\n",
    "       'day_of_week', 'category', 'time_PM']]=sc.fit_transform(da[['booking_id', 'months_as_member', 'weight', 'days_before',\n",
    "       'day_of_week', 'category', 'time_PM']])"
   ]
  },
  {
   "cell_type": "code",
   "execution_count": 71,
   "id": "26eb342e",
   "metadata": {},
   "outputs": [],
   "source": [
    "x=da.drop('attended',axis=1)\n",
    "y=da['attended']"
   ]
  },
  {
   "cell_type": "code",
   "execution_count": 72,
   "id": "b5ed769f",
   "metadata": {},
   "outputs": [
    {
     "data": {
      "text/html": [
       "<div>\n",
       "<style scoped>\n",
       "    .dataframe tbody tr th:only-of-type {\n",
       "        vertical-align: middle;\n",
       "    }\n",
       "\n",
       "    .dataframe tbody tr th {\n",
       "        vertical-align: top;\n",
       "    }\n",
       "\n",
       "    .dataframe thead th {\n",
       "        text-align: right;\n",
       "    }\n",
       "</style>\n",
       "<table border=\"1\" class=\"dataframe\">\n",
       "  <thead>\n",
       "    <tr style=\"text-align: right;\">\n",
       "      <th></th>\n",
       "      <th>booking_id</th>\n",
       "      <th>months_as_member</th>\n",
       "      <th>weight</th>\n",
       "      <th>days_before</th>\n",
       "      <th>day_of_week</th>\n",
       "      <th>category</th>\n",
       "      <th>time_PM</th>\n",
       "    </tr>\n",
       "  </thead>\n",
       "  <tbody>\n",
       "    <tr>\n",
       "      <th>0</th>\n",
       "      <td>-1.730012</td>\n",
       "      <td>0.551199</td>\n",
       "      <td>-0.314074</td>\n",
       "      <td>-0.083613</td>\n",
       "      <td>1.470577</td>\n",
       "      <td>1.019838</td>\n",
       "      <td>1.777003</td>\n",
       "    </tr>\n",
       "    <tr>\n",
       "      <th>1</th>\n",
       "      <td>-1.727704</td>\n",
       "      <td>-0.414956</td>\n",
       "      <td>-0.357901</td>\n",
       "      <td>-1.549812</td>\n",
       "      <td>-0.784523</td>\n",
       "      <td>0.044675</td>\n",
       "      <td>-0.562745</td>\n",
       "    </tr>\n",
       "    <tr>\n",
       "      <th>2</th>\n",
       "      <td>-1.725395</td>\n",
       "      <td>0.413177</td>\n",
       "      <td>-0.714899</td>\n",
       "      <td>1.382587</td>\n",
       "      <td>0.343027</td>\n",
       "      <td>1.019838</td>\n",
       "      <td>-0.562745</td>\n",
       "    </tr>\n",
       "    <tr>\n",
       "      <th>3</th>\n",
       "      <td>-1.723086</td>\n",
       "      <td>-1.105066</td>\n",
       "      <td>0.208674</td>\n",
       "      <td>0.405120</td>\n",
       "      <td>-1.536223</td>\n",
       "      <td>-0.930488</td>\n",
       "      <td>-0.562745</td>\n",
       "    </tr>\n",
       "    <tr>\n",
       "      <th>4</th>\n",
       "      <td>-1.720778</td>\n",
       "      <td>0.275155</td>\n",
       "      <td>-1.132460</td>\n",
       "      <td>-0.083613</td>\n",
       "      <td>0.718877</td>\n",
       "      <td>0.044675</td>\n",
       "      <td>-0.562745</td>\n",
       "    </tr>\n",
       "    <tr>\n",
       "      <th>...</th>\n",
       "      <td>...</td>\n",
       "      <td>...</td>\n",
       "      <td>...</td>\n",
       "      <td>...</td>\n",
       "      <td>...</td>\n",
       "      <td>...</td>\n",
       "      <td>...</td>\n",
       "    </tr>\n",
       "    <tr>\n",
       "      <th>1495</th>\n",
       "      <td>1.721414</td>\n",
       "      <td>1.103288</td>\n",
       "      <td>-0.318058</td>\n",
       "      <td>0.405120</td>\n",
       "      <td>-1.536223</td>\n",
       "      <td>0.044675</td>\n",
       "      <td>-0.562745</td>\n",
       "    </tr>\n",
       "    <tr>\n",
       "      <th>1496</th>\n",
       "      <td>1.723723</td>\n",
       "      <td>2.207465</td>\n",
       "      <td>0.482000</td>\n",
       "      <td>-1.549812</td>\n",
       "      <td>-0.784523</td>\n",
       "      <td>1.019838</td>\n",
       "      <td>-0.562745</td>\n",
       "    </tr>\n",
       "    <tr>\n",
       "      <th>1497</th>\n",
       "      <td>1.726031</td>\n",
       "      <td>-0.552978</td>\n",
       "      <td>0.309079</td>\n",
       "      <td>-1.061079</td>\n",
       "      <td>1.094727</td>\n",
       "      <td>0.044675</td>\n",
       "      <td>-0.562745</td>\n",
       "    </tr>\n",
       "    <tr>\n",
       "      <th>1498</th>\n",
       "      <td>1.728340</td>\n",
       "      <td>2.897575</td>\n",
       "      <td>-1.184256</td>\n",
       "      <td>1.382587</td>\n",
       "      <td>0.343027</td>\n",
       "      <td>-1.905652</td>\n",
       "      <td>-0.562745</td>\n",
       "    </tr>\n",
       "    <tr>\n",
       "      <th>1499</th>\n",
       "      <td>1.730648</td>\n",
       "      <td>0.965266</td>\n",
       "      <td>0.867686</td>\n",
       "      <td>-0.083613</td>\n",
       "      <td>0.718877</td>\n",
       "      <td>-0.930488</td>\n",
       "      <td>-0.562745</td>\n",
       "    </tr>\n",
       "  </tbody>\n",
       "</table>\n",
       "<p>1397 rows × 7 columns</p>\n",
       "</div>"
      ],
      "text/plain": [
       "      booking_id  months_as_member    weight  days_before  day_of_week  \\\n",
       "0      -1.730012          0.551199 -0.314074    -0.083613     1.470577   \n",
       "1      -1.727704         -0.414956 -0.357901    -1.549812    -0.784523   \n",
       "2      -1.725395          0.413177 -0.714899     1.382587     0.343027   \n",
       "3      -1.723086         -1.105066  0.208674     0.405120    -1.536223   \n",
       "4      -1.720778          0.275155 -1.132460    -0.083613     0.718877   \n",
       "...          ...               ...       ...          ...          ...   \n",
       "1495    1.721414          1.103288 -0.318058     0.405120    -1.536223   \n",
       "1496    1.723723          2.207465  0.482000    -1.549812    -0.784523   \n",
       "1497    1.726031         -0.552978  0.309079    -1.061079     1.094727   \n",
       "1498    1.728340          2.897575 -1.184256     1.382587     0.343027   \n",
       "1499    1.730648          0.965266  0.867686    -0.083613     0.718877   \n",
       "\n",
       "      category   time_PM  \n",
       "0     1.019838  1.777003  \n",
       "1     0.044675 -0.562745  \n",
       "2     1.019838 -0.562745  \n",
       "3    -0.930488 -0.562745  \n",
       "4     0.044675 -0.562745  \n",
       "...        ...       ...  \n",
       "1495  0.044675 -0.562745  \n",
       "1496  1.019838 -0.562745  \n",
       "1497  0.044675 -0.562745  \n",
       "1498 -1.905652 -0.562745  \n",
       "1499 -0.930488 -0.562745  \n",
       "\n",
       "[1397 rows x 7 columns]"
      ]
     },
     "execution_count": 72,
     "metadata": {},
     "output_type": "execute_result"
    }
   ],
   "source": [
    "x"
   ]
  },
  {
   "cell_type": "code",
   "execution_count": 148,
   "id": "e1c6dc08",
   "metadata": {},
   "outputs": [],
   "source": [
    "from sklearn.model_selection import train_test_split\n",
    "from sklearn.linear_model import LogisticRegression\n",
    "from sklearn.metrics import r2_score, accuracy_score\n",
    "x_train,x_test,y_train,y_test=train_test_split(x,y, test_size=0.2, random_state=45)"
   ]
  },
  {
   "cell_type": "code",
   "execution_count": 149,
   "id": "0238778b",
   "metadata": {},
   "outputs": [],
   "source": [
    "lr=LogisticRegression()\n",
    "lr.fit(x_train,y_train)\n",
    "y_pred=lr.predict(x_test)\n",
    "y_train_predict=lr.predict(x_train)"
   ]
  },
  {
   "cell_type": "code",
   "execution_count": 150,
   "id": "52766fa0",
   "metadata": {
    "scrolled": true
   },
   "outputs": [
    {
     "name": "stdout",
     "output_type": "stream",
     "text": [
      "Train accuracy : 0.7824529991047449\n",
      "Test accuracy : 0.7571428571428571\n"
     ]
    }
   ],
   "source": [
    "print(\"Train accuracy :\",accuracy_score(y_train,y_train_predict))\n",
    "print(\"Test accuracy :\",accuracy_score(y_test,y_pred))"
   ]
  },
  {
   "cell_type": "code",
   "execution_count": 151,
   "id": "448b351f",
   "metadata": {},
   "outputs": [
    {
     "data": {
      "text/html": [
       "<div>\n",
       "<style scoped>\n",
       "    .dataframe tbody tr th:only-of-type {\n",
       "        vertical-align: middle;\n",
       "    }\n",
       "\n",
       "    .dataframe tbody tr th {\n",
       "        vertical-align: top;\n",
       "    }\n",
       "\n",
       "    .dataframe thead th {\n",
       "        text-align: right;\n",
       "    }\n",
       "</style>\n",
       "<table border=\"1\" class=\"dataframe\">\n",
       "  <thead>\n",
       "    <tr style=\"text-align: right;\">\n",
       "      <th>col_0</th>\n",
       "      <th>0</th>\n",
       "      <th>1</th>\n",
       "    </tr>\n",
       "    <tr>\n",
       "      <th>attended</th>\n",
       "      <th></th>\n",
       "      <th></th>\n",
       "    </tr>\n",
       "  </thead>\n",
       "  <tbody>\n",
       "    <tr>\n",
       "      <th>0</th>\n",
       "      <td>188</td>\n",
       "      <td>13</td>\n",
       "    </tr>\n",
       "    <tr>\n",
       "      <th>1</th>\n",
       "      <td>55</td>\n",
       "      <td>24</td>\n",
       "    </tr>\n",
       "  </tbody>\n",
       "</table>\n",
       "</div>"
      ],
      "text/plain": [
       "col_0       0   1\n",
       "attended         \n",
       "0         188  13\n",
       "1          55  24"
      ]
     },
     "execution_count": 151,
     "metadata": {},
     "output_type": "execute_result"
    }
   ],
   "source": [
    "pd.crosstab(y_test,y_pred)"
   ]
  },
  {
   "cell_type": "code",
   "execution_count": 152,
   "id": "88970acb",
   "metadata": {},
   "outputs": [
    {
     "data": {
      "text/plain": [
       "array([[0.90547567, 0.09452433],\n",
       "       [0.93809751, 0.06190249],\n",
       "       [0.88588745, 0.11411255],\n",
       "       [0.90868028, 0.09131972],\n",
       "       [0.3312585 , 0.6687415 ],\n",
       "       [0.89112802, 0.10887198],\n",
       "       [0.66296404, 0.33703596],\n",
       "       [0.7346673 , 0.2653327 ],\n",
       "       [0.86644176, 0.13355824],\n",
       "       [0.63786881, 0.36213119],\n",
       "       [0.93273447, 0.06726553],\n",
       "       [0.53619963, 0.46380037],\n",
       "       [0.89117479, 0.10882521],\n",
       "       [0.90850291, 0.09149709],\n",
       "       [0.85131978, 0.14868022],\n",
       "       [0.9489789 , 0.0510211 ],\n",
       "       [0.85847479, 0.14152521],\n",
       "       [0.89707965, 0.10292035],\n",
       "       [0.88308559, 0.11691441],\n",
       "       [0.79987077, 0.20012923],\n",
       "       [0.82848525, 0.17151475],\n",
       "       [0.41742898, 0.58257102],\n",
       "       [0.92892731, 0.07107269],\n",
       "       [0.81927755, 0.18072245],\n",
       "       [0.46375412, 0.53624588],\n",
       "       [0.78187129, 0.21812871],\n",
       "       [0.84304367, 0.15695633],\n",
       "       [0.59581754, 0.40418246],\n",
       "       [0.83535614, 0.16464386],\n",
       "       [0.54412007, 0.45587993],\n",
       "       [0.63962946, 0.36037054],\n",
       "       [0.80298743, 0.19701257],\n",
       "       [0.92209318, 0.07790682],\n",
       "       [0.49495954, 0.50504046],\n",
       "       [0.68673919, 0.31326081],\n",
       "       [0.77694929, 0.22305071],\n",
       "       [0.78791493, 0.21208507],\n",
       "       [0.8427361 , 0.1572639 ],\n",
       "       [0.87701799, 0.12298201],\n",
       "       [0.89896364, 0.10103636],\n",
       "       [0.79331342, 0.20668658],\n",
       "       [0.8352491 , 0.1647509 ],\n",
       "       [0.74570077, 0.25429923],\n",
       "       [0.88923037, 0.11076963],\n",
       "       [0.71961122, 0.28038878],\n",
       "       [0.88620002, 0.11379998],\n",
       "       [0.49759936, 0.50240064],\n",
       "       [0.77440769, 0.22559231],\n",
       "       [0.64575316, 0.35424684],\n",
       "       [0.91908305, 0.08091695],\n",
       "       [0.90278229, 0.09721771],\n",
       "       [0.85569056, 0.14430944],\n",
       "       [0.91843947, 0.08156053],\n",
       "       [0.8302756 , 0.1697244 ],\n",
       "       [0.92288717, 0.07711283],\n",
       "       [0.7414516 , 0.2585484 ],\n",
       "       [0.80457017, 0.19542983],\n",
       "       [0.34125266, 0.65874734],\n",
       "       [0.84058692, 0.15941308],\n",
       "       [0.91102163, 0.08897837],\n",
       "       [0.81516389, 0.18483611],\n",
       "       [0.61732341, 0.38267659],\n",
       "       [0.87736815, 0.12263185],\n",
       "       [0.34145954, 0.65854046],\n",
       "       [0.86750038, 0.13249962],\n",
       "       [0.88352191, 0.11647809],\n",
       "       [0.85348375, 0.14651625],\n",
       "       [0.86109618, 0.13890382],\n",
       "       [0.68507644, 0.31492356],\n",
       "       [0.86016881, 0.13983119],\n",
       "       [0.8817832 , 0.1182168 ],\n",
       "       [0.93581586, 0.06418414],\n",
       "       [0.31139082, 0.68860918],\n",
       "       [0.50340467, 0.49659533],\n",
       "       [0.40916045, 0.59083955],\n",
       "       [0.81772425, 0.18227575],\n",
       "       [0.91340785, 0.08659215],\n",
       "       [0.87179735, 0.12820265],\n",
       "       [0.89836652, 0.10163348],\n",
       "       [0.48560701, 0.51439299],\n",
       "       [0.84592644, 0.15407356],\n",
       "       [0.48506129, 0.51493871],\n",
       "       [0.67617331, 0.32382669],\n",
       "       [0.89596772, 0.10403228],\n",
       "       [0.85914665, 0.14085335],\n",
       "       [0.89694164, 0.10305836],\n",
       "       [0.58525987, 0.41474013],\n",
       "       [0.92915047, 0.07084953],\n",
       "       [0.54199202, 0.45800798],\n",
       "       [0.74170586, 0.25829414],\n",
       "       [0.30742184, 0.69257816],\n",
       "       [0.20216844, 0.79783156],\n",
       "       [0.87329562, 0.12670438],\n",
       "       [0.90133942, 0.09866058],\n",
       "       [0.84863533, 0.15136467],\n",
       "       [0.83349818, 0.16650182],\n",
       "       [0.28335243, 0.71664757],\n",
       "       [0.83296766, 0.16703234],\n",
       "       [0.86784906, 0.13215094],\n",
       "       [0.79946522, 0.20053478],\n",
       "       [0.19858428, 0.80141572],\n",
       "       [0.64698135, 0.35301865],\n",
       "       [0.39074308, 0.60925692],\n",
       "       [0.91649342, 0.08350658],\n",
       "       [0.9277113 , 0.0722887 ],\n",
       "       [0.63128735, 0.36871265],\n",
       "       [0.84987061, 0.15012939],\n",
       "       [0.93462937, 0.06537063],\n",
       "       [0.60434813, 0.39565187],\n",
       "       [0.91614647, 0.08385353],\n",
       "       [0.93999891, 0.06000109],\n",
       "       [0.84124711, 0.15875289],\n",
       "       [0.89860757, 0.10139243],\n",
       "       [0.83046343, 0.16953657],\n",
       "       [0.86578829, 0.13421171],\n",
       "       [0.82817121, 0.17182879],\n",
       "       [0.81328295, 0.18671705],\n",
       "       [0.82505611, 0.17494389],\n",
       "       [0.87438505, 0.12561495],\n",
       "       [0.89305795, 0.10694205],\n",
       "       [0.15541245, 0.84458755],\n",
       "       [0.44587385, 0.55412615],\n",
       "       [0.87982721, 0.12017279],\n",
       "       [0.68081441, 0.31918559],\n",
       "       [0.91818659, 0.08181341],\n",
       "       [0.31398152, 0.68601848],\n",
       "       [0.4937278 , 0.5062722 ],\n",
       "       [0.38851662, 0.61148338],\n",
       "       [0.95545703, 0.04454297],\n",
       "       [0.92239824, 0.07760176],\n",
       "       [0.76384175, 0.23615825],\n",
       "       [0.8630876 , 0.1369124 ],\n",
       "       [0.725709  , 0.274291  ],\n",
       "       [0.95055132, 0.04944868],\n",
       "       [0.16691865, 0.83308135],\n",
       "       [0.70668782, 0.29331218],\n",
       "       [0.30240301, 0.69759699],\n",
       "       [0.89811033, 0.10188967],\n",
       "       [0.90497224, 0.09502776],\n",
       "       [0.7126673 , 0.2873327 ],\n",
       "       [0.66772416, 0.33227584],\n",
       "       [0.27260022, 0.72739978],\n",
       "       [0.78401357, 0.21598643],\n",
       "       [0.92571245, 0.07428755],\n",
       "       [0.49610872, 0.50389128],\n",
       "       [0.88539234, 0.11460766],\n",
       "       [0.7944968 , 0.2055032 ],\n",
       "       [0.55401863, 0.44598137],\n",
       "       [0.85005247, 0.14994753],\n",
       "       [0.17963272, 0.82036728],\n",
       "       [0.75616301, 0.24383699],\n",
       "       [0.8035317 , 0.1964683 ],\n",
       "       [0.92840375, 0.07159625],\n",
       "       [0.85459925, 0.14540075],\n",
       "       [0.53347817, 0.46652183],\n",
       "       [0.91625683, 0.08374317],\n",
       "       [0.93887067, 0.06112933],\n",
       "       [0.92254575, 0.07745425],\n",
       "       [0.75799121, 0.24200879],\n",
       "       [0.60927511, 0.39072489],\n",
       "       [0.77592086, 0.22407914],\n",
       "       [0.76578309, 0.23421691],\n",
       "       [0.36527128, 0.63472872],\n",
       "       [0.92310326, 0.07689674],\n",
       "       [0.69575199, 0.30424801],\n",
       "       [0.73223472, 0.26776528],\n",
       "       [0.86951054, 0.13048946],\n",
       "       [0.55304117, 0.44695883],\n",
       "       [0.85915399, 0.14084601],\n",
       "       [0.83767696, 0.16232304],\n",
       "       [0.94542463, 0.05457537],\n",
       "       [0.64885473, 0.35114527],\n",
       "       [0.92979455, 0.07020545],\n",
       "       [0.69736959, 0.30263041],\n",
       "       [0.86646447, 0.13353553],\n",
       "       [0.91234503, 0.08765497],\n",
       "       [0.87164116, 0.12835884],\n",
       "       [0.84296024, 0.15703976],\n",
       "       [0.84883875, 0.15116125],\n",
       "       [0.54181355, 0.45818645],\n",
       "       [0.51835535, 0.48164465],\n",
       "       [0.64916345, 0.35083655],\n",
       "       [0.91028718, 0.08971282],\n",
       "       [0.83784443, 0.16215557],\n",
       "       [0.88586261, 0.11413739],\n",
       "       [0.70004321, 0.29995679],\n",
       "       [0.90490556, 0.09509444],\n",
       "       [0.57432801, 0.42567199],\n",
       "       [0.6847663 , 0.3152337 ],\n",
       "       [0.93949506, 0.06050494],\n",
       "       [0.82057196, 0.17942804],\n",
       "       [0.85756245, 0.14243755],\n",
       "       [0.13876865, 0.86123135],\n",
       "       [0.87582773, 0.12417227],\n",
       "       [0.37029815, 0.62970185],\n",
       "       [0.85721429, 0.14278571],\n",
       "       [0.78426877, 0.21573123],\n",
       "       [0.9416244 , 0.0583756 ],\n",
       "       [0.53157264, 0.46842736],\n",
       "       [0.93882513, 0.06117487],\n",
       "       [0.89147891, 0.10852109],\n",
       "       [0.74556154, 0.25443846],\n",
       "       [0.87911852, 0.12088148],\n",
       "       [0.85927967, 0.14072033],\n",
       "       [0.72521615, 0.27478385],\n",
       "       [0.78162804, 0.21837196],\n",
       "       [0.91403602, 0.08596398],\n",
       "       [0.50903941, 0.49096059],\n",
       "       [0.83926129, 0.16073871],\n",
       "       [0.8630618 , 0.1369382 ],\n",
       "       [0.89838194, 0.10161806],\n",
       "       [0.82107244, 0.17892756],\n",
       "       [0.87643598, 0.12356402],\n",
       "       [0.8676871 , 0.1323129 ],\n",
       "       [0.81523383, 0.18476617],\n",
       "       [0.67868619, 0.32131381],\n",
       "       [0.80504551, 0.19495449],\n",
       "       [0.70668634, 0.29331366],\n",
       "       [0.9039561 , 0.0960439 ],\n",
       "       [0.78604122, 0.21395878],\n",
       "       [0.75750955, 0.24249045],\n",
       "       [0.7977595 , 0.2022405 ],\n",
       "       [0.90230687, 0.09769313],\n",
       "       [0.92030652, 0.07969348],\n",
       "       [0.68206639, 0.31793361],\n",
       "       [0.54573488, 0.45426512],\n",
       "       [0.92439766, 0.07560234],\n",
       "       [0.75043388, 0.24956612],\n",
       "       [0.9388965 , 0.0611035 ],\n",
       "       [0.54314144, 0.45685856],\n",
       "       [0.42622479, 0.57377521],\n",
       "       [0.90695522, 0.09304478],\n",
       "       [0.15711098, 0.84288902],\n",
       "       [0.95179993, 0.04820007],\n",
       "       [0.77274501, 0.22725499],\n",
       "       [0.50927737, 0.49072263],\n",
       "       [0.93732054, 0.06267946],\n",
       "       [0.9088267 , 0.0911733 ],\n",
       "       [0.40979447, 0.59020553],\n",
       "       [0.88987953, 0.11012047],\n",
       "       [0.11620548, 0.88379452],\n",
       "       [0.69212722, 0.30787278],\n",
       "       [0.85340918, 0.14659082],\n",
       "       [0.64585335, 0.35414665],\n",
       "       [0.77525827, 0.22474173],\n",
       "       [0.93622464, 0.06377536],\n",
       "       [0.7676219 , 0.2323781 ],\n",
       "       [0.73171859, 0.26828141],\n",
       "       [0.87004399, 0.12995601],\n",
       "       [0.7307563 , 0.2692437 ],\n",
       "       [0.68482412, 0.31517588],\n",
       "       [0.90458208, 0.09541792],\n",
       "       [0.31679423, 0.68320577],\n",
       "       [0.93213603, 0.06786397],\n",
       "       [0.84585339, 0.15414661],\n",
       "       [0.2045417 , 0.7954583 ],\n",
       "       [0.91324819, 0.08675181],\n",
       "       [0.51024894, 0.48975106],\n",
       "       [0.70260563, 0.29739437],\n",
       "       [0.89882266, 0.10117734],\n",
       "       [0.79391447, 0.20608553],\n",
       "       [0.71846142, 0.28153858],\n",
       "       [0.77718948, 0.22281052],\n",
       "       [0.48240551, 0.51759449],\n",
       "       [0.77861604, 0.22138396],\n",
       "       [0.90229467, 0.09770533],\n",
       "       [0.92130461, 0.07869539],\n",
       "       [0.9085135 , 0.0914865 ],\n",
       "       [0.86196279, 0.13803721],\n",
       "       [0.81301781, 0.18698219],\n",
       "       [0.87271772, 0.12728228],\n",
       "       [0.91780449, 0.08219551],\n",
       "       [0.74350039, 0.25649961],\n",
       "       [0.43439051, 0.56560949],\n",
       "       [0.88134161, 0.11865839],\n",
       "       [0.89455308, 0.10544692],\n",
       "       [0.88737486, 0.11262514],\n",
       "       [0.88567486, 0.11432514],\n",
       "       [0.91208469, 0.08791531],\n",
       "       [0.71352835, 0.28647165]])"
      ]
     },
     "execution_count": 152,
     "metadata": {},
     "output_type": "execute_result"
    }
   ],
   "source": [
    "y_pred_prob=lr.predict_proba(x_test)\n",
    "y_pred_prob"
   ]
  },
  {
   "cell_type": "code",
   "execution_count": 153,
   "id": "90969267",
   "metadata": {},
   "outputs": [
    {
     "data": {
      "text/plain": [
       "0.7571428571428571"
      ]
     },
     "execution_count": 153,
     "metadata": {},
     "output_type": "execute_result"
    }
   ],
   "source": [
    "accuracy_score(y_pred,y_test)"
   ]
  },
  {
   "cell_type": "code",
   "execution_count": 178,
   "id": "45f45d2d",
   "metadata": {},
   "outputs": [
    {
     "name": "stdout",
     "output_type": "stream",
     "text": [
      "              precision    recall  f1-score   support\n",
      "\n",
      "           0       0.84      0.76      0.80       201\n",
      "           1       0.51      0.62      0.56        79\n",
      "\n",
      "    accuracy                           0.72       280\n",
      "   macro avg       0.67      0.69      0.68       280\n",
      "weighted avg       0.74      0.72      0.73       280\n",
      "\n"
     ]
    }
   ],
   "source": [
    "print(classification_report(y_test,y_pred))"
   ]
  },
  {
   "cell_type": "markdown",
   "id": "d14f5414",
   "metadata": {},
   "source": [
    "### RandomForestClassifier"
   ]
  },
  {
   "cell_type": "code",
   "execution_count": 140,
   "id": "03784cbf",
   "metadata": {},
   "outputs": [
    {
     "data": {
      "text/html": [
       "<style>#sk-container-id-2 {color: black;background-color: white;}#sk-container-id-2 pre{padding: 0;}#sk-container-id-2 div.sk-toggleable {background-color: white;}#sk-container-id-2 label.sk-toggleable__label {cursor: pointer;display: block;width: 100%;margin-bottom: 0;padding: 0.3em;box-sizing: border-box;text-align: center;}#sk-container-id-2 label.sk-toggleable__label-arrow:before {content: \"▸\";float: left;margin-right: 0.25em;color: #696969;}#sk-container-id-2 label.sk-toggleable__label-arrow:hover:before {color: black;}#sk-container-id-2 div.sk-estimator:hover label.sk-toggleable__label-arrow:before {color: black;}#sk-container-id-2 div.sk-toggleable__content {max-height: 0;max-width: 0;overflow: hidden;text-align: left;background-color: #f0f8ff;}#sk-container-id-2 div.sk-toggleable__content pre {margin: 0.2em;color: black;border-radius: 0.25em;background-color: #f0f8ff;}#sk-container-id-2 input.sk-toggleable__control:checked~div.sk-toggleable__content {max-height: 200px;max-width: 100%;overflow: auto;}#sk-container-id-2 input.sk-toggleable__control:checked~label.sk-toggleable__label-arrow:before {content: \"▾\";}#sk-container-id-2 div.sk-estimator input.sk-toggleable__control:checked~label.sk-toggleable__label {background-color: #d4ebff;}#sk-container-id-2 div.sk-label input.sk-toggleable__control:checked~label.sk-toggleable__label {background-color: #d4ebff;}#sk-container-id-2 input.sk-hidden--visually {border: 0;clip: rect(1px 1px 1px 1px);clip: rect(1px, 1px, 1px, 1px);height: 1px;margin: -1px;overflow: hidden;padding: 0;position: absolute;width: 1px;}#sk-container-id-2 div.sk-estimator {font-family: monospace;background-color: #f0f8ff;border: 1px dotted black;border-radius: 0.25em;box-sizing: border-box;margin-bottom: 0.5em;}#sk-container-id-2 div.sk-estimator:hover {background-color: #d4ebff;}#sk-container-id-2 div.sk-parallel-item::after {content: \"\";width: 100%;border-bottom: 1px solid gray;flex-grow: 1;}#sk-container-id-2 div.sk-label:hover label.sk-toggleable__label {background-color: #d4ebff;}#sk-container-id-2 div.sk-serial::before {content: \"\";position: absolute;border-left: 1px solid gray;box-sizing: border-box;top: 0;bottom: 0;left: 50%;z-index: 0;}#sk-container-id-2 div.sk-serial {display: flex;flex-direction: column;align-items: center;background-color: white;padding-right: 0.2em;padding-left: 0.2em;position: relative;}#sk-container-id-2 div.sk-item {position: relative;z-index: 1;}#sk-container-id-2 div.sk-parallel {display: flex;align-items: stretch;justify-content: center;background-color: white;position: relative;}#sk-container-id-2 div.sk-item::before, #sk-container-id-2 div.sk-parallel-item::before {content: \"\";position: absolute;border-left: 1px solid gray;box-sizing: border-box;top: 0;bottom: 0;left: 50%;z-index: -1;}#sk-container-id-2 div.sk-parallel-item {display: flex;flex-direction: column;z-index: 1;position: relative;background-color: white;}#sk-container-id-2 div.sk-parallel-item:first-child::after {align-self: flex-end;width: 50%;}#sk-container-id-2 div.sk-parallel-item:last-child::after {align-self: flex-start;width: 50%;}#sk-container-id-2 div.sk-parallel-item:only-child::after {width: 0;}#sk-container-id-2 div.sk-dashed-wrapped {border: 1px dashed gray;margin: 0 0.4em 0.5em 0.4em;box-sizing: border-box;padding-bottom: 0.4em;background-color: white;}#sk-container-id-2 div.sk-label label {font-family: monospace;font-weight: bold;display: inline-block;line-height: 1.2em;}#sk-container-id-2 div.sk-label-container {text-align: center;}#sk-container-id-2 div.sk-container {/* jupyter's `normalize.less` sets `[hidden] { display: none; }` but bootstrap.min.css set `[hidden] { display: none !important; }` so we also need the `!important` here to be able to override the default hidden behavior on the sphinx rendered scikit-learn.org. See: https://github.com/scikit-learn/scikit-learn/issues/21755 */display: inline-block !important;position: relative;}#sk-container-id-2 div.sk-text-repr-fallback {display: none;}</style><div id=\"sk-container-id-2\" class=\"sk-top-container\"><div class=\"sk-text-repr-fallback\"><pre>RandomForestClassifier()</pre><b>In a Jupyter environment, please rerun this cell to show the HTML representation or trust the notebook. <br />On GitHub, the HTML representation is unable to render, please try loading this page with nbviewer.org.</b></div><div class=\"sk-container\" hidden><div class=\"sk-item\"><div class=\"sk-estimator sk-toggleable\"><input class=\"sk-toggleable__control sk-hidden--visually\" id=\"sk-estimator-id-2\" type=\"checkbox\" checked><label for=\"sk-estimator-id-2\" class=\"sk-toggleable__label sk-toggleable__label-arrow\">RandomForestClassifier</label><div class=\"sk-toggleable__content\"><pre>RandomForestClassifier()</pre></div></div></div></div></div>"
      ],
      "text/plain": [
       "RandomForestClassifier()"
      ]
     },
     "execution_count": 140,
     "metadata": {},
     "output_type": "execute_result"
    }
   ],
   "source": [
    "\n",
    "from sklearn.ensemble import RandomForestClassifier\n",
    "rf_clf = RandomForestClassifier(n_estimators=100)#object creation ,taking 100 decision tree in random forest \n",
    "rf_clf.fit(x_train,y_train)"
   ]
  },
  {
   "cell_type": "code",
   "execution_count": 142,
   "id": "4a3e565b",
   "metadata": {},
   "outputs": [],
   "source": [
    "y_predict=rf_clf.predict(x_test)"
   ]
  },
  {
   "cell_type": "code",
   "execution_count": 143,
   "id": "5367232c",
   "metadata": {},
   "outputs": [
    {
     "name": "stdout",
     "output_type": "stream",
     "text": [
      "              precision    recall  f1-score   support\n",
      "\n",
      "           0       0.77      0.88      0.82       201\n",
      "           1       0.53      0.34      0.42        79\n",
      "\n",
      "    accuracy                           0.73       280\n",
      "   macro avg       0.65      0.61      0.62       280\n",
      "weighted avg       0.70      0.73      0.71       280\n",
      "\n"
     ]
    }
   ],
   "source": [
    "print(classification_report(y_test,y_predict))"
   ]
  },
  {
   "cell_type": "markdown",
   "id": "9fec111c",
   "metadata": {},
   "source": [
    "### using smote "
   ]
  },
  {
   "cell_type": "code",
   "execution_count": 162,
   "id": "13dab7fc",
   "metadata": {},
   "outputs": [],
   "source": [
    "from imblearn.over_sampling import SMOTE\n",
    "smote = SMOTE()"
   ]
  },
  {
   "cell_type": "code",
   "execution_count": 163,
   "id": "b3ce08f8",
   "metadata": {},
   "outputs": [],
   "source": [
    "x_smote, y_smote = smote.fit_resample(x_train,y_train)"
   ]
  },
  {
   "cell_type": "code",
   "execution_count": 169,
   "id": "8ba8762c",
   "metadata": {},
   "outputs": [
    {
     "name": "stdout",
     "output_type": "stream",
     "text": [
      "Actual Classes Counter({0: 829, 1: 288})\n",
      "SMOTE Classes Counter({0: 829, 1: 829})\n"
     ]
    }
   ],
   "source": [
    "from collections import Counter\n",
    "print(\"Actual Classes\",Counter(y_train))\n",
    "print(\"SMOTE Classes\",Counter(y_smote))"
   ]
  },
  {
   "cell_type": "code",
   "execution_count": 179,
   "id": "b5cd87f6",
   "metadata": {},
   "outputs": [],
   "source": [
    "lr=LogisticRegression()\n",
    "lr.fit(x_smote,y_smote)\n",
    "y_pred=lr.predict(x_test)\n",
    "y_train_predict=lr.predict(x_train)"
   ]
  },
  {
   "cell_type": "code",
   "execution_count": 180,
   "id": "c66ce0fc",
   "metadata": {
    "scrolled": true
   },
   "outputs": [
    {
     "name": "stdout",
     "output_type": "stream",
     "text": [
      "Train accuracy : 0.7412712623097583\n",
      "Test accuracy : 0.7214285714285714\n"
     ]
    }
   ],
   "source": [
    "print(\"Train accuracy :\",accuracy_score(y_train,y_train_predict))\n",
    "print(\"Test accuracy :\",accuracy_score(y_test,y_pred))"
   ]
  },
  {
   "cell_type": "code",
   "execution_count": 181,
   "id": "fa0dc54f",
   "metadata": {},
   "outputs": [
    {
     "data": {
      "text/html": [
       "<div>\n",
       "<style scoped>\n",
       "    .dataframe tbody tr th:only-of-type {\n",
       "        vertical-align: middle;\n",
       "    }\n",
       "\n",
       "    .dataframe tbody tr th {\n",
       "        vertical-align: top;\n",
       "    }\n",
       "\n",
       "    .dataframe thead th {\n",
       "        text-align: right;\n",
       "    }\n",
       "</style>\n",
       "<table border=\"1\" class=\"dataframe\">\n",
       "  <thead>\n",
       "    <tr style=\"text-align: right;\">\n",
       "      <th>col_0</th>\n",
       "      <th>0</th>\n",
       "      <th>1</th>\n",
       "    </tr>\n",
       "    <tr>\n",
       "      <th>attended</th>\n",
       "      <th></th>\n",
       "      <th></th>\n",
       "    </tr>\n",
       "  </thead>\n",
       "  <tbody>\n",
       "    <tr>\n",
       "      <th>0</th>\n",
       "      <td>153</td>\n",
       "      <td>48</td>\n",
       "    </tr>\n",
       "    <tr>\n",
       "      <th>1</th>\n",
       "      <td>30</td>\n",
       "      <td>49</td>\n",
       "    </tr>\n",
       "  </tbody>\n",
       "</table>\n",
       "</div>"
      ],
      "text/plain": [
       "col_0       0   1\n",
       "attended         \n",
       "0         153  48\n",
       "1          30  49"
      ]
     },
     "execution_count": 181,
     "metadata": {},
     "output_type": "execute_result"
    }
   ],
   "source": [
    "pd.crosstab(y_test,y_pred)"
   ]
  },
  {
   "cell_type": "code",
   "execution_count": 182,
   "id": "9964652c",
   "metadata": {},
   "outputs": [],
   "source": [
    "y_predict=rf_clf.predict(x_test)"
   ]
  },
  {
   "cell_type": "code",
   "execution_count": 185,
   "id": "a5f302c3",
   "metadata": {},
   "outputs": [
    {
     "data": {
      "text/plain": [
       "0.7214285714285714"
      ]
     },
     "execution_count": 185,
     "metadata": {},
     "output_type": "execute_result"
    }
   ],
   "source": [
    "accuracy_score(y_pred,y_test)"
   ]
  },
  {
   "cell_type": "code",
   "execution_count": 184,
   "id": "fc1fe8a3",
   "metadata": {},
   "outputs": [
    {
     "name": "stdout",
     "output_type": "stream",
     "text": [
      "              precision    recall  f1-score   support\n",
      "\n",
      "           0       0.84      0.76      0.80       201\n",
      "           1       0.51      0.62      0.56        79\n",
      "\n",
      "    accuracy                           0.72       280\n",
      "   macro avg       0.67      0.69      0.68       280\n",
      "weighted avg       0.74      0.72      0.73       280\n",
      "\n"
     ]
    }
   ],
   "source": [
    "print(classification_report(y_test,y_pred))"
   ]
  },
  {
   "cell_type": "markdown",
   "id": "b6c29e87",
   "metadata": {},
   "source": [
    "### ANN"
   ]
  },
  {
   "cell_type": "code",
   "execution_count": 254,
   "id": "dea0cb77",
   "metadata": {},
   "outputs": [],
   "source": [
    "from sklearn.neural_network import MLPClassifier # multi layer perceptron\n",
    "model = MLPClassifier( hidden_layer_sizes=(300,4),\n",
    "                       learning_rate_init=0.01,\n",
    "                       max_iter=150,\n",
    "                       random_state=2) ## model object creation max_iter=Stopping parameter\n",
    "model.fit(x_train,y_train) ## training the data\n",
    "y_predict_proba = model.predict_proba(x_test) ## predicting the pro\n",
    "## bability of class\n",
    "y_predict = model.predict(x_test)\n",
    "y_train_predict = model.predict(x_train)"
   ]
  },
  {
   "cell_type": "code",
   "execution_count": 255,
   "id": "dc50ad0c",
   "metadata": {},
   "outputs": [
    {
     "name": "stdout",
     "output_type": "stream",
     "text": [
      "Train accuracy : 0.9239033124440466\n",
      "Test accuracy : 0.7214285714285714\n"
     ]
    }
   ],
   "source": [
    "from sklearn.metrics import accuracy_score,confusion_matrix\n",
    "print(\"Train accuracy :\",accuracy_score(y_train,y_train_predict))\n",
    "print(\"Test accuracy :\",accuracy_score(y_test,y_predict))"
   ]
  },
  {
   "cell_type": "code",
   "execution_count": 256,
   "id": "5eb86663",
   "metadata": {
    "scrolled": true
   },
   "outputs": [
    {
     "data": {
      "text/html": [
       "<div>\n",
       "<style scoped>\n",
       "    .dataframe tbody tr th:only-of-type {\n",
       "        vertical-align: middle;\n",
       "    }\n",
       "\n",
       "    .dataframe tbody tr th {\n",
       "        vertical-align: top;\n",
       "    }\n",
       "\n",
       "    .dataframe thead th {\n",
       "        text-align: right;\n",
       "    }\n",
       "</style>\n",
       "<table border=\"1\" class=\"dataframe\">\n",
       "  <thead>\n",
       "    <tr style=\"text-align: right;\">\n",
       "      <th>col_0</th>\n",
       "      <th>0</th>\n",
       "      <th>1</th>\n",
       "    </tr>\n",
       "    <tr>\n",
       "      <th>attended</th>\n",
       "      <th></th>\n",
       "      <th></th>\n",
       "    </tr>\n",
       "  </thead>\n",
       "  <tbody>\n",
       "    <tr>\n",
       "      <th>0</th>\n",
       "      <td>170</td>\n",
       "      <td>31</td>\n",
       "    </tr>\n",
       "    <tr>\n",
       "      <th>1</th>\n",
       "      <td>47</td>\n",
       "      <td>32</td>\n",
       "    </tr>\n",
       "  </tbody>\n",
       "</table>\n",
       "</div>"
      ],
      "text/plain": [
       "col_0       0   1\n",
       "attended         \n",
       "0         170  31\n",
       "1          47  32"
      ]
     },
     "execution_count": 256,
     "metadata": {},
     "output_type": "execute_result"
    }
   ],
   "source": [
    "pd.crosstab(y_test,y_predict)"
   ]
  },
  {
   "cell_type": "code",
   "execution_count": 257,
   "id": "8941d5ff",
   "metadata": {},
   "outputs": [
    {
     "name": "stdout",
     "output_type": "stream",
     "text": [
      "              precision    recall  f1-score   support\n",
      "\n",
      "           0       0.78      0.85      0.81       201\n",
      "           1       0.51      0.41      0.45        79\n",
      "\n",
      "    accuracy                           0.72       280\n",
      "   macro avg       0.65      0.63      0.63       280\n",
      "weighted avg       0.71      0.72      0.71       280\n",
      "\n"
     ]
    }
   ],
   "source": [
    "from sklearn.metrics import classification_report\n",
    "print(classification_report(y_test,y_predict))"
   ]
  },
  {
   "cell_type": "code",
   "execution_count": null,
   "id": "48e8fdda",
   "metadata": {},
   "outputs": [],
   "source": []
  },
  {
   "cell_type": "code",
   "execution_count": null,
   "id": "769973cd",
   "metadata": {},
   "outputs": [],
   "source": []
  }
 ],
 "metadata": {
  "kernelspec": {
   "display_name": "Python 3 (ipykernel)",
   "language": "python",
   "name": "python3"
  },
  "language_info": {
   "codemirror_mode": {
    "name": "ipython",
    "version": 3
   },
   "file_extension": ".py",
   "mimetype": "text/x-python",
   "name": "python",
   "nbconvert_exporter": "python",
   "pygments_lexer": "ipython3",
   "version": "3.11.5"
  }
 },
 "nbformat": 4,
 "nbformat_minor": 5
}
