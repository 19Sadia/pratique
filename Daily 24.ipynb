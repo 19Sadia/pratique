{
 "cells": [
  {
   "cell_type": "code",
   "execution_count": 8,
   "id": "855dc6a6",
   "metadata": {},
   "outputs": [
    {
     "name": "stdout",
     "output_type": "stream",
     "text": [
      "120\n"
     ]
    }
   ],
   "source": [
    "# Write a Python program to find the factorial of a number.\n",
    "def factorial(n):\n",
    "    if n==1:\n",
    "        return 1\n",
    "    else:\n",
    "        return n*factorial(n-1)\n",
    "number=5\n",
    "retur=factorial(number)\n",
    "print(retur)"
   ]
  },
  {
   "cell_type": "code",
   "execution_count": 13,
   "id": "783358de",
   "metadata": {},
   "outputs": [
    {
     "name": "stdout",
     "output_type": "stream",
     "text": [
      "enter:5\n",
      "120\n"
     ]
    }
   ],
   "source": [
    "number=int(input('enter:'))\n",
    "fac=1\n",
    "for x in range(1,number+1):\n",
    "    fac=fac*number\n",
    "    number=number-1\n",
    "print(fac)\n",
    "    "
   ]
  },
  {
   "cell_type": "code",
   "execution_count": 24,
   "id": "251f9a68",
   "metadata": {},
   "outputs": [
    {
     "name": "stdout",
     "output_type": "stream",
     "text": [
      "The largest number is 20\n"
     ]
    }
   ],
   "source": [
    "# Write a Python program to find the largest element in a list.\n",
    "def find_larger(number):\n",
    "    larger=number[0]\n",
    "    for x in number:\n",
    "        if x > larger:\n",
    "            larger=x\n",
    "            return larger\n",
    "x = [10, 5, 8, 20, 3]\n",
    "largest_num = find_larger(x)\n",
    "print(f\"The largest number is {largest_num}\")"
   ]
  },
  {
   "cell_type": "code",
   "execution_count": 28,
   "id": "70c26fc5",
   "metadata": {},
   "outputs": [
    {
     "name": "stdout",
     "output_type": "stream",
     "text": [
      "ayidas\n"
     ]
    }
   ],
   "source": [
    "# Write a Python program to reverse a string.\n",
    "def rev(string):\n",
    "     return string [::-1]\n",
    "string='sadiya'\n",
    "retur=rev(string)\n",
    "print(retur)"
   ]
  },
  {
   "cell_type": "code",
   "execution_count": 31,
   "id": "e1ea7411",
   "metadata": {},
   "outputs": [
    {
     "name": "stdout",
     "output_type": "stream",
     "text": [
      "['a', 'y', 'i', 'd', 'a', 's']\n"
     ]
    }
   ],
   "source": [
    "word='sadiya'\n",
    "rev=[]\n",
    "for x in word:\n",
    "    rev=[x]+rev\n",
    "print(rev)"
   ]
  },
  {
   "cell_type": "code",
   "execution_count": 48,
   "id": "2b140dd3",
   "metadata": {},
   "outputs": [
    {
     "name": "stdout",
     "output_type": "stream",
     "text": [
      "{1: 2, 2: 3, 3: 2, 4: 2, 5: 1}\n"
     ]
    }
   ],
   "source": [
    "# Write a Python program to count the frequency of each element in a list.\n",
    "def frequency(num):\n",
    "    frequency={}\n",
    "    for x in num:\n",
    "        if x in frequency:\n",
    "            frequency[x] += 1\n",
    "        else:\n",
    "            frequency[x] = 1\n",
    "    return frequency\n",
    "\n",
    "num = [1, 2, 3, 2, 1, 3, 2, 4, 5, 4]\n",
    "count =frequency(num)\n",
    "print(count)"
   ]
  },
  {
   "cell_type": "code",
   "execution_count": 62,
   "id": "13bdb636",
   "metadata": {},
   "outputs": [
    {
     "name": "stdout",
     "output_type": "stream",
     "text": [
      "prime\n"
     ]
    }
   ],
   "source": [
    "# Write a Python program to check if a number is prime. \n",
    "num=21\n",
    "\n",
    "if (num%3==0):\n",
    "    print(\"prime\")\n",
    "else:\n",
    "    print('not prime')"
   ]
  },
  {
   "cell_type": "markdown",
   "id": "77066009",
   "metadata": {},
   "source": [
    "num=int(input(\"enter\"))\n",
    "if (num%3==0):\n",
    "    print(\"prime\")\n",
    "else:\n",
    "    print('not prime')"
   ]
  },
  {
   "cell_type": "code",
   "execution_count": 74,
   "id": "9ac9cf17",
   "metadata": {},
   "outputs": [
    {
     "name": "stdout",
     "output_type": "stream",
     "text": [
      "enter7\n",
      "prime\n"
     ]
    }
   ],
   "source": [
    "num=int(input(\"enter\"))\n",
    "count=0\n",
    "for x in range(1,num):\n",
    "    if (x%num==0):\n",
    "        count=count+1\n",
    "if (count==0):\n",
    "    print('prime')\n",
    "else:\n",
    "    print('not prime')"
   ]
  },
  {
   "cell_type": "code",
   "execution_count": 75,
   "id": "57b69c13",
   "metadata": {},
   "outputs": [
    {
     "name": "stdout",
     "output_type": "stream",
     "text": [
      "prime\n"
     ]
    }
   ],
   "source": [
    "def prime(num):\n",
    "    count=1\n",
    "    for x in range(1,num):\n",
    "        if (x%num==0):\n",
    "            count=count+1\n",
    "    return count\n",
    "\n",
    "if (count==0):\n",
    "    print('prime')\n",
    "else:\n",
    "    print('not prime')\n",
    "    "
   ]
  },
  {
   "cell_type": "code",
   "execution_count": null,
   "id": "168ba016",
   "metadata": {},
   "outputs": [],
   "source": []
  }
 ],
 "metadata": {
  "kernelspec": {
   "display_name": "Python 3 (ipykernel)",
   "language": "python",
   "name": "python3"
  },
  "language_info": {
   "codemirror_mode": {
    "name": "ipython",
    "version": 3
   },
   "file_extension": ".py",
   "mimetype": "text/x-python",
   "name": "python",
   "nbconvert_exporter": "python",
   "pygments_lexer": "ipython3",
   "version": "3.11.5"
  }
 },
 "nbformat": 4,
 "nbformat_minor": 5
}
