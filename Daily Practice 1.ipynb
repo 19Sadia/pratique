{
 "cells": [
  {
   "cell_type": "code",
   "execution_count": 1,
   "id": "3b6a0fe7",
   "metadata": {},
   "outputs": [
    {
     "name": "stdout",
     "output_type": "stream",
     "text": [
      "no\n"
     ]
    }
   ],
   "source": [
    "# WAP to check if a string is palindrome\n",
    "word='read'\n",
    "rev=0\n",
    "if word==rev:\n",
    "    print(\"yes\")\n",
    "else:\n",
    "    print(\"no\")"
   ]
  },
  {
   "cell_type": "code",
   "execution_count": 2,
   "id": "84460ed2",
   "metadata": {},
   "outputs": [
    {
     "name": "stdout",
     "output_type": "stream",
     "text": [
      "enter3\n",
      "3\n",
      "5\n",
      "6\n"
     ]
    }
   ],
   "source": [
    "#WAP to find the sum of first n natural number\n",
    "num=int(input(\"enter\"))\n",
    "add=0\n",
    "while(num>0):\n",
    "    add=add+num\n",
    "    num=num-1\n",
    "    print(add)"
   ]
  },
  {
   "cell_type": "code",
   "execution_count": 3,
   "id": "9c257f69",
   "metadata": {},
   "outputs": [
    {
     "name": "stdout",
     "output_type": "stream",
     "text": [
      "enter3\n",
      "6\n"
     ]
    }
   ],
   "source": [
    "n=int(input(\"enter\"))\n",
    "fsum=(n*(n+1))//2\n",
    "print(fsum)"
   ]
  },
  {
   "cell_type": "code",
   "execution_count": null,
   "id": "fda78655",
   "metadata": {},
   "outputs": [],
   "source": []
  }
 ],
 "metadata": {
  "kernelspec": {
   "display_name": "Python 3 (ipykernel)",
   "language": "python",
   "name": "python3"
  },
  "language_info": {
   "codemirror_mode": {
    "name": "ipython",
    "version": 3
   },
   "file_extension": ".py",
   "mimetype": "text/x-python",
   "name": "python",
   "nbconvert_exporter": "python",
   "pygments_lexer": "ipython3",
   "version": "3.11.5"
  }
 },
 "nbformat": 4,
 "nbformat_minor": 5
}
