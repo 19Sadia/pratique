{
 "cells": [
  {
   "cell_type": "code",
   "execution_count": 1,
   "id": "7a16c605",
   "metadata": {},
   "outputs": [
    {
     "name": "stdout",
     "output_type": "stream",
     "text": [
      "enter number between 1-206\n",
      "bye\n"
     ]
    }
   ],
   "source": [
    "#WAP to display 'hello' if the number entered my the user is multipul of 5 otherwise display 'bye'\n",
    "x=int(input(\"enter number between 1-20\"))\n",
    "if (x%5==0):\n",
    "    print('hello')\n",
    "elif (x%5!=0):\n",
    "    print('bye')"
   ]
  },
  {
   "cell_type": "code",
   "execution_count": 2,
   "id": "b2c590ba",
   "metadata": {},
   "outputs": [
    {
     "name": "stdout",
     "output_type": "stream",
     "text": [
      "enter16\n",
      "no\n"
     ]
    }
   ],
   "source": [
    "#WAP to check whether a person is eligible for voting or not.(voting age >=18)\n",
    "vot=int(input(\"enter\"))\n",
    "if vot>=18:\n",
    "    print(\"yes\")\n",
    "else:\n",
    "    print(\"no\")"
   ]
  },
  {
   "cell_type": "code",
   "execution_count": 3,
   "id": "718147d5",
   "metadata": {},
   "outputs": [
    {
     "name": "stdout",
     "output_type": "stream",
     "text": [
      "  ***  \n",
      " *   * \n",
      " *   * \n",
      " ***** \n",
      " *   * \n",
      " *   * \n",
      " *   * \n",
      "\n"
     ]
    }
   ],
   "source": [
    "#WAP to print the alphabet pattern 'A'.\n",
    "resul=\"\";\n",
    "for x in range(0,7): # row\n",
    "    for y in range(0,7): # column\n",
    "        if (((y == 1 or y == 5) and x != 0) or ((x == 0 or x == 3) and (y > 1 and y < 5))): \n",
    "            resul=resul+\"*\"    \n",
    "        else:      \n",
    "            resul=resul+\" \"    \n",
    "    resul=resul+\"\\n\"    \n",
    "print(resul);"
   ]
  },
  {
   "cell_type": "code",
   "execution_count": 6,
   "id": "bce99125",
   "metadata": {},
   "outputs": [
    {
     "name": "stdout",
     "output_type": "stream",
     "text": [
      "enter number between 1:7 : 8\n",
      "Not a day in week\n"
     ]
    }
   ],
   "source": [
    "x=int(input('enter number between 1:7 : '))\n",
    "if x==1:\n",
    "    print(\"sunday\")\n",
    "elif x==2:\n",
    "    print(\"monday\")\n",
    "elif x==3:\n",
    "    print(\"tuesday\")\n",
    "elif x==4:\n",
    "    print(\"wednesday\")\n",
    "elif x==5:\n",
    "     print('thursday')\n",
    "elif x==6:\n",
    "    print('friday')\n",
    "elif x==7:\n",
    "    print(\"saturday\")\n",
    "    \n",
    "else:\n",
    "    print(\"Not a day in week\")"
   ]
  },
  {
   "cell_type": "code",
   "execution_count": 8,
   "id": "db8705fa",
   "metadata": {},
   "outputs": [
    {
     "name": "stdout",
     "output_type": "stream",
     "text": [
      "enter4\n",
      "enter4\n",
      "enter3\n",
      "scalene\n"
     ]
    }
   ],
   "source": [
    "a=int(input(\"enter\"))\n",
    "b=int(input(\"enter\"))\n",
    "c=int(input(\"enter\"))\n",
    "if a==b==c:\n",
    "    print(\"euilateral\")\n",
    "elif a==c:\n",
    "    print('isoceles')\n",
    "else:\n",
    "    print('scalene')"
   ]
  },
  {
   "cell_type": "code",
   "execution_count": null,
   "id": "e8985e59",
   "metadata": {},
   "outputs": [],
   "source": []
  }
 ],
 "metadata": {
  "kernelspec": {
   "display_name": "Python 3 (ipykernel)",
   "language": "python",
   "name": "python3"
  },
  "language_info": {
   "codemirror_mode": {
    "name": "ipython",
    "version": 3
   },
   "file_extension": ".py",
   "mimetype": "text/x-python",
   "name": "python",
   "nbconvert_exporter": "python",
   "pygments_lexer": "ipython3",
   "version": "3.11.5"
  }
 },
 "nbformat": 4,
 "nbformat_minor": 5
}
