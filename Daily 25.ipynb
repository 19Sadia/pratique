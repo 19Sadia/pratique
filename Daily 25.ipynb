{
 "cells": [
  {
   "cell_type": "code",
   "execution_count": 8,
   "id": "f242cbe9",
   "metadata": {},
   "outputs": [
    {
     "name": "stdout",
     "output_type": "stream",
     "text": [
      "Yes\n"
     ]
    }
   ],
   "source": [
    "# Write a Python program to check if a string is a palindrome.\n",
    "def palindrome(word):\n",
    "    reverse= word[::-1]\n",
    "    return reverse == word\n",
    "string='madam'\n",
    "if palindrome(word):\n",
    "    print('Yes')\n",
    "else:\n",
    "    print('no')"
   ]
  },
  {
   "cell_type": "code",
   "execution_count": 15,
   "id": "da8d1dbf",
   "metadata": {},
   "outputs": [
    {
     "name": "stdout",
     "output_type": "stream",
     "text": [
      "[4, 5]\n"
     ]
    }
   ],
   "source": [
    "# Write a Python program to find the common elements between two lists.\n",
    "def common(list1, list2):\n",
    "    common_elements=[]\n",
    "    for x in list1:\n",
    "        if x in list2:\n",
    "            common_elements.append(x)\n",
    "    return common_elements\n",
    "list1 = [1, 2, 3, 4, 5]\n",
    "list2 = [4, 5, 6, 7, 8]\n",
    "common_find =common(list1, list2)\n",
    "print(common_find)"
   ]
  },
  {
   "cell_type": "code",
   "execution_count": 2,
   "id": "1ec9e5e5",
   "metadata": {},
   "outputs": [
    {
     "name": "stdout",
     "output_type": "stream",
     "text": [
      "[1, 2, 5, 8, 9]\n"
     ]
    }
   ],
   "source": [
    "# Write a Python program to sort a list of elements using the bubble sort algorithm.\n",
    "def bubble(order):\n",
    "    n = len(order)\n",
    "    for i in range(n - 1):\n",
    "        for j in range(n-i-1):\n",
    "            if order[j]>order[j+1]:\n",
    "                order[j],order[j+1]=order[j+1],order[j]\n",
    "nums = [5, 2, 8, 1, 9]\n",
    "bubble(nums)\n",
    "print(nums)"
   ]
  },
  {
   "cell_type": "code",
   "execution_count": 4,
   "id": "67d33d3e",
   "metadata": {},
   "outputs": [
    {
     "name": "stdout",
     "output_type": "stream",
     "text": [
      "enter:2\n",
      "bye\n"
     ]
    }
   ],
   "source": [
    "#WAP to display 'hello' if the number entered my the user is multipul of 5 otherwise display 'bye'\n",
    "num=int(input('enter:'))\n",
    "if (num%5==0):\n",
    "    print('hello')\n",
    "else:\n",
    "    print('bye')"
   ]
  },
  {
   "cell_type": "code",
   "execution_count": 6,
   "id": "c4ad3e55",
   "metadata": {},
   "outputs": [
    {
     "name": "stdout",
     "output_type": "stream",
     "text": [
      "enter:6\n",
      "not eligible\n"
     ]
    }
   ],
   "source": [
    "#WAP to check whether a person is eligible for voting or not.(voting age >=18)\n",
    "vote=int(input('enter:'))\n",
    "if (vote>=18):\n",
    "    print('eligible')\n",
    "else:\n",
    "    print('not eligible')"
   ]
  },
  {
   "cell_type": "code",
   "execution_count": null,
   "id": "0416b3cd",
   "metadata": {},
   "outputs": [],
   "source": []
  }
 ],
 "metadata": {
  "kernelspec": {
   "display_name": "Python 3 (ipykernel)",
   "language": "python",
   "name": "python3"
  },
  "language_info": {
   "codemirror_mode": {
    "name": "ipython",
    "version": 3
   },
   "file_extension": ".py",
   "mimetype": "text/x-python",
   "name": "python",
   "nbconvert_exporter": "python",
   "pygments_lexer": "ipython3",
   "version": "3.11.5"
  }
 },
 "nbformat": 4,
 "nbformat_minor": 5
}
