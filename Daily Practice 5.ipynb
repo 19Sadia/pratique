{
 "cells": [
  {
   "cell_type": "code",
   "execution_count": 1,
   "id": "9c221b98",
   "metadata": {},
   "outputs": [
    {
     "name": "stdout",
     "output_type": "stream",
     "text": [
      " *     \n",
      " *     \n",
      " *     \n",
      " *     \n",
      " *     \n",
      " *     \n",
      " ***** \n",
      "\n"
     ]
    }
   ],
   "source": [
    "# Write a Python program to print the alphabet pattern 'L'.\n",
    "resul=\"\";\n",
    "for x in range(0,7):#row\n",
    "    for y in range(0,7): # coloum\n",
    "        if (y==1 or (x==6 and y>1 and y<6)):\n",
    "            resul=resul+\"*\"\n",
    "        else:\n",
    "            resul=resul+\" \"\n",
    "    resul=resul+\"\\n\"\n",
    "print(resul);"
   ]
  },
  {
   "cell_type": "code",
   "execution_count": 2,
   "id": "22b78c12",
   "metadata": {},
   "outputs": [
    {
     "name": "stdout",
     "output_type": "stream",
     "text": [
      "enter2024\n",
      "not a leap year\n"
     ]
    }
   ],
   "source": [
    "#WAP to find a leap year for the number given from the user.\n",
    "yrs=int(input(\"enter\"))\n",
    "\n",
    "if (yrs%4==0 and yrs%400==0):\n",
    "    print('leap year')\n",
    "else:\n",
    "    print('not a leap year')"
   ]
  },
  {
   "cell_type": "code",
   "execution_count": 3,
   "id": "50b79467",
   "metadata": {},
   "outputs": [
    {
     "name": "stdout",
     "output_type": "stream",
     "text": [
      "enter4\n",
      "1\n",
      "8\n",
      "27\n",
      "64\n"
     ]
    }
   ],
   "source": [
    "# Calculate the cube of all numbers from 1 to a given number\n",
    "num=int(input(\"enter\"))\n",
    "for var in range(1,num+1):\n",
    "    print(var**3)"
   ]
  },
  {
   "cell_type": "code",
   "execution_count": 4,
   "id": "65f46edf",
   "metadata": {},
   "outputs": [
    {
     "name": "stdout",
     "output_type": "stream",
     "text": [
      "enter3\n",
      "enter4\n",
      "enter5\n",
      "4.0\n"
     ]
    }
   ],
   "source": [
    "#WAP to find average value of 3 number\n",
    "a=int(input(\"enter\"))\n",
    "b=int(input(\"enter\"))\n",
    "c=int(input(\"enter\"))\n",
    "average=(a+b+c)/3\n",
    "print(average)"
   ]
  },
  {
   "cell_type": "code",
   "execution_count": 5,
   "id": "1b5107d6",
   "metadata": {},
   "outputs": [
    {
     "name": "stdout",
     "output_type": "stream",
     "text": [
      "enter4\n",
      "4 x 1 = 4\n",
      "4 x 2 = 8\n",
      "4 x 3 = 12\n",
      "4 x 4 = 16\n",
      "4 x 5 = 20\n",
      "4 x 6 = 24\n",
      "4 x 7 = 28\n",
      "4 x 8 = 32\n",
      "4 x 9 = 36\n",
      "4 x 10 = 40\n"
     ]
    }
   ],
   "source": [
    "#Write a Python program to create the multiplication table (from 1 to 10) of a number.\n",
    "a=int(input(\"enter\"))\n",
    "for x in range (1,11):\n",
    "    print(a,'x',x,'=', a*x)"
   ]
  },
  {
   "cell_type": "code",
   "execution_count": null,
   "id": "00a260f3",
   "metadata": {},
   "outputs": [],
   "source": []
  }
 ],
 "metadata": {
  "kernelspec": {
   "display_name": "Python 3 (ipykernel)",
   "language": "python",
   "name": "python3"
  },
  "language_info": {
   "codemirror_mode": {
    "name": "ipython",
    "version": 3
   },
   "file_extension": ".py",
   "mimetype": "text/x-python",
   "name": "python",
   "nbconvert_exporter": "python",
   "pygments_lexer": "ipython3",
   "version": "3.11.5"
  }
 },
 "nbformat": 4,
 "nbformat_minor": 5
}
