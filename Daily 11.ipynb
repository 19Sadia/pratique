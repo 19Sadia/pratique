{
 "cells": [
  {
   "cell_type": "code",
   "execution_count": 4,
   "id": "09666fdb",
   "metadata": {},
   "outputs": [
    {
     "name": "stdout",
     "output_type": "stream",
     "text": [
      "Twinkle, twinkle, little star,\n",
      "\t Up above the world so high, \n",
      "\t Like a diamond in the sky. \n",
      " Twinkle, twinkle, little star, \n",
      "\t How I wonder what you are \n"
     ]
    }
   ],
   "source": [
    "#Write a Python program to print the following string in a specific format (see the output). Sample String : \"Twinkle, twinkle, little star, How I wonder what you are! Up above the world so high, Like a diamond in the sky. Twinkle, twinkle, little star, How I wonder what you are\" Output :\n",
    "#Twinkle, twinkle, little star, How I wonder what you are! Up above the world so high, Like a diamond in the sky. Twinkle, twinkle, little star, How I wonder what you are\n",
    "\n",
    "\n",
    "print('Twinkle, twinkle, little star,\\n\\t Up above the world so high, \\n\\t Like a diamond in the sky. \\n Twinkle, twinkle, little star, \\n\\t How I wonder what you are ')"
   ]
  },
  {
   "cell_type": "code",
   "execution_count": 8,
   "id": "2ee6f275",
   "metadata": {},
   "outputs": [
    {
     "name": "stdout",
     "output_type": "stream",
     "text": [
      "Enter the radius of Circle:2\n"
     ]
    },
    {
     "data": {
      "text/plain": [
       "12.566370614359172"
      ]
     },
     "execution_count": 8,
     "metadata": {},
     "output_type": "execute_result"
    }
   ],
   "source": [
    "# Write a Python program which accepts the radius of a circle from the user and compute the area\n",
    "\n",
    "import numpy as np\n",
    "def areaofcircle():\n",
    "    radius=float(input('Enter the radius of Circle:'))\n",
    "    area=np.pi *radius*radius\n",
    "    return area\n",
    "\n",
    "areaofcircle()"
   ]
  },
  {
   "cell_type": "code",
   "execution_count": 9,
   "id": "e45d7f41",
   "metadata": {},
   "outputs": [
    {
     "name": "stdout",
     "output_type": "stream",
     "text": [
      "enter first namesadiya\n",
      "enter last namemankar\n",
      "ayidas raknam\n"
     ]
    }
   ],
   "source": [
    "# Write a Python program which accepts the user's first and last name and print them in reverse order with a space between th\n",
    "\n",
    "firstname=input(\"enter first name\")\n",
    "lastname=input(\"enter last name\")\n",
    "print(firstname[::-1],lastname[::-1])"
   ]
  },
  {
   "cell_type": "code",
   "execution_count": 10,
   "id": "f9df580f",
   "metadata": {},
   "outputs": [
    {
     "name": "stdout",
     "output_type": "stream",
     "text": [
      "Enter the base of triangle:3\n",
      "Enter the height of triangle:2\n",
      "Enter the hypo of triangle:3\n",
      "The trianle is not right angled triganle\n"
     ]
    }
   ],
   "source": [
    "# .Write a program that accepts the lengths of three sides of a triangle as inputs. The program output should indicate whether or not the triangle is a right triangle (Recall from the Pythagorean Theorem that in a right triangle, the square of one side equals the sum of the squares of the other two sides).\n",
    "\n",
    "base=float(input('Enter the base of triangle:'))\n",
    "height=float(input('Enter the height of triangle:'))\n",
    "hypo=float(input('Enter the hypo of triangle:'))\n",
    "if hypo**2==((base**2)+(height**2)):\n",
    "    print('Entered dimensions of right angle triangle')\n",
    "else:\n",
    "    print('The trianle is not right angled triganle')\n"
   ]
  },
  {
   "cell_type": "code",
   "execution_count": null,
   "id": "1cc7f00f",
   "metadata": {},
   "outputs": [],
   "source": []
  }
 ],
 "metadata": {
  "kernelspec": {
   "display_name": "Python 3 (ipykernel)",
   "language": "python",
   "name": "python3"
  },
  "language_info": {
   "codemirror_mode": {
    "name": "ipython",
    "version": 3
   },
   "file_extension": ".py",
   "mimetype": "text/x-python",
   "name": "python",
   "nbconvert_exporter": "python",
   "pygments_lexer": "ipython3",
   "version": "3.11.5"
  }
 },
 "nbformat": 4,
 "nbformat_minor": 5
}
