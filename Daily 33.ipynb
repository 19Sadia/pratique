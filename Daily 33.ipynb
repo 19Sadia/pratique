{
 "cells": [
  {
   "cell_type": "code",
   "execution_count": 7,
   "id": "4411bb27",
   "metadata": {},
   "outputs": [
    {
     "name": "stdout",
     "output_type": "stream",
     "text": [
      "enter:sadiya\n",
      "sAdIyA\n"
     ]
    }
   ],
   "source": [
    "# Python program to convert lowercase vowel to uppercase in string.\n",
    "\n",
    "string=input('enter:')\n",
    "v='aeiou'\n",
    "for x in string:\n",
    "    if x in v:\n",
    "        upper_char = x.upper()\n",
    "        string=string.replace(x,upper_char)\n",
    "print(string)"
   ]
  },
  {
   "cell_type": "code",
   "execution_count": 2,
   "id": "7fb0e9df",
   "metadata": {},
   "outputs": [
    {
     "name": "stdout",
     "output_type": "stream",
     "text": [
      "Enter a String : sadiya\n",
      "sdy\n"
     ]
    }
   ],
   "source": [
    "# Python program to delete vowels in a given string.\n",
    "\n",
    "string = input(\"Enter a String : \") \n",
    "e=''\n",
    "for i in string: \n",
    "    if i in ('a','e','i','o','u','A','E','I','O','U'):\n",
    "        i=''\n",
    "    e += i\n",
    "print(e)"
   ]
  },
  {
   "cell_type": "code",
   "execution_count": 7,
   "id": "b26e8b99",
   "metadata": {},
   "outputs": [
    {
     "name": "stdout",
     "output_type": "stream",
     "text": [
      "Enter a String : sadiya\n",
      "Vowel: 3\n",
      "Consonants: 3\n"
     ]
    }
   ],
   "source": [
    "# Python program to count the Occurrence Of Vowels & Consonants in a String.\n",
    "\n",
    "string = input(\"Enter a String : \") \n",
    "v=0\n",
    "c=0\n",
    "for x in string:\n",
    "    if x in ('a','e','i','o','u','A','E','I','O','U'):\n",
    "        v=v+1\n",
    "    elif x.isalpha():\n",
    "        c=c+1\n",
    "print(\"Vowel:\", v)\n",
    "print(\"Consonants:\",c)"
   ]
  },
  {
   "cell_type": "code",
   "execution_count": 13,
   "id": "b4e0d10f",
   "metadata": {},
   "outputs": [
    {
     "name": "stdout",
     "output_type": "stream",
     "text": [
      "Enter a String : sadiya\n",
      "a\n"
     ]
    }
   ],
   "source": [
    "# Python program to print the highest frequency character in a String.\n",
    "\n",
    "string = input(\"Enter a String : \") \n",
    "f={}\n",
    "for x in string:\n",
    "    if x in f:\n",
    "        f[x]=f[x]+1\n",
    "    else:\n",
    "        f[x]=1\n",
    "result=max(f, key = f.get)\n",
    "print(result)"
   ]
  },
  {
   "cell_type": "code",
   "execution_count": 15,
   "id": "e6bea82e",
   "metadata": {
    "scrolled": true
   },
   "outputs": [
    {
     "name": "stdout",
     "output_type": "stream",
     "text": [
      "Enter a String : sadiya\n",
      "a\n"
     ]
    }
   ],
   "source": [
    "from collections import Counter\n",
    "\n",
    "string = input(\"Enter a String : \") \n",
    "result=Counter(string)\n",
    "result=max(result, key = result.get)\n",
    "print(result)"
   ]
  },
  {
   "cell_type": "code",
   "execution_count": 17,
   "id": "5028c4c6",
   "metadata": {},
   "outputs": [
    {
     "name": "stdout",
     "output_type": "stream",
     "text": [
      "Enter a String : sadiya@12\n",
      "alphabets = 6 digits = 2 specialChars = 1\n"
     ]
    }
   ],
   "source": [
    "# Python program to count alphabets, digits and special characters.\n",
    "\n",
    "string = input(\"Enter a String : \") \n",
    "digit=0\n",
    "alpha=0\n",
    "s=0\n",
    "for x in string:\n",
    "    if x.isdigit():\n",
    "        digit=digit+1\n",
    "    elif x.isalpha():\n",
    "        alpha=alpha+1\n",
    "    else:\n",
    "        s=s+1\n",
    "print(\"alphabets =\",alpha,\"digits =\",digit,\"specialChars =\",s)"
   ]
  },
  {
   "cell_type": "code",
   "execution_count": null,
   "id": "3b34b6c8",
   "metadata": {},
   "outputs": [],
   "source": []
  }
 ],
 "metadata": {
  "kernelspec": {
   "display_name": "Python 3 (ipykernel)",
   "language": "python",
   "name": "python3"
  },
  "language_info": {
   "codemirror_mode": {
    "name": "ipython",
    "version": 3
   },
   "file_extension": ".py",
   "mimetype": "text/x-python",
   "name": "python",
   "nbconvert_exporter": "python",
   "pygments_lexer": "ipython3",
   "version": "3.10.13"
  }
 },
 "nbformat": 4,
 "nbformat_minor": 5
}
