{
 "cells": [
  {
   "cell_type": "markdown",
   "id": "03314819",
   "metadata": {},
   "source": [
    "Function and Methods which are used in string"
   ]
  },
  {
   "cell_type": "raw",
   "id": "3243aa84",
   "metadata": {},
   "source": [
    "String is a collection of all type of value such as num,symbol,character.\n",
    "String is enclosed with \"\"/''/\"\"\" \"\"\"/''' '''.\n",
    "''' ''' is called a docstring.\n",
    "Has around 40-50 type of function."
   ]
  },
  {
   "cell_type": "markdown",
   "id": "4e5d9168",
   "metadata": {},
   "source": [
    "Capitalize function"
   ]
  },
  {
   "cell_type": "code",
   "execution_count": 1,
   "id": "a299d243",
   "metadata": {},
   "outputs": [
    {
     "data": {
      "text/plain": [
       "'Pune is a nice city'"
      ]
     },
     "execution_count": 1,
     "metadata": {},
     "output_type": "execute_result"
    }
   ],
   "source": [
    "#capitalize function\n",
    "# This is used to capitalize first letter in the string.\n",
    "a=\"pune is a nice city\"\n",
    "a.capitalize()\n",
    "#output: it capitalize first letter in string which is 'P' in pune"
   ]
  },
  {
   "cell_type": "markdown",
   "id": "b57e8763",
   "metadata": {},
   "source": [
    "uppercase function"
   ]
  },
  {
   "cell_type": "code",
   "execution_count": 2,
   "id": "8cf9f20d",
   "metadata": {},
   "outputs": [
    {
     "data": {
      "text/plain": [
       "'PUNE IS A NICE CITY'"
      ]
     },
     "execution_count": 2,
     "metadata": {},
     "output_type": "execute_result"
    }
   ],
   "source": [
    "# uppercase function\n",
    "# This method upper case the entire string.\n",
    "a=\"pune is a nice city\"\n",
    "a.upper()\n",
    "# output:it upper case the entire string."
   ]
  },
  {
   "cell_type": "markdown",
   "id": "c153f333",
   "metadata": {},
   "source": [
    "lowercase function"
   ]
  },
  {
   "cell_type": "code",
   "execution_count": 3,
   "id": "938d0125",
   "metadata": {},
   "outputs": [
    {
     "data": {
      "text/plain": [
       "'pune is a nice city'"
      ]
     },
     "execution_count": 3,
     "metadata": {},
     "output_type": "execute_result"
    }
   ],
   "source": [
    "# lowercase function\n",
    "# This method lower case the entire string.\n",
    "a=\"pune is a nice city\"\n",
    "a.lower()\n",
    "# output:it lower case the entire string."
   ]
  },
  {
   "cell_type": "markdown",
   "id": "ac63bfd4",
   "metadata": {},
   "source": [
    "count function"
   ]
  },
  {
   "cell_type": "code",
   "execution_count": 10,
   "id": "17ee6934",
   "metadata": {},
   "outputs": [
    {
     "data": {
      "text/plain": [
       "2"
      ]
     },
     "execution_count": 10,
     "metadata": {},
     "output_type": "execute_result"
    }
   ],
   "source": [
    "# count function\n",
    "# count the same element in the string\n",
    "a=\"pune is a nice city,pune is a nice city\"\n",
    "a.count('is')\n",
    "#output: it count the duplicate value in a string like over there 'is' is mention 2 time in string so thr count is 2."
   ]
  },
  {
   "cell_type": "markdown",
   "id": "7bad1e90",
   "metadata": {},
   "source": [
    "find function"
   ]
  },
  {
   "cell_type": "code",
   "execution_count": 11,
   "id": "5d6d52f8",
   "metadata": {},
   "outputs": [
    {
     "data": {
      "text/plain": [
       "5"
      ]
     },
     "execution_count": 11,
     "metadata": {},
     "output_type": "execute_result"
    }
   ],
   "source": [
    "# find function\n",
    "# find function finds in character in the string.\n",
    "a=\"pune is a nice city\"\n",
    "a.find(\"i\") \n",
    "#output: over there find method finds that how many time the character is use in a string.\n",
    "# for now 'i' is mention 5 times in a string, so find shows 5"
   ]
  },
  {
   "cell_type": "markdown",
   "id": "5d1b8144",
   "metadata": {},
   "source": [
    "replace function"
   ]
  },
  {
   "cell_type": "code",
   "execution_count": 12,
   "id": "8f7be77e",
   "metadata": {},
   "outputs": [
    {
     "data": {
      "text/plain": [
       "'pune is a average city'"
      ]
     },
     "execution_count": 12,
     "metadata": {},
     "output_type": "execute_result"
    }
   ],
   "source": [
    "# replace function\n",
    "# replace funcation replace the certain element with a desired element.\n",
    "a=\"pune is a nice city\"\n",
    "a.replace(\"nice\",'average')\n",
    "#output: over here with useing replace function we replace 'nice' word with 'average' word."
   ]
  },
  {
   "cell_type": "markdown",
   "id": "b7f7dc4c",
   "metadata": {},
   "source": [
    "swapcase function"
   ]
  },
  {
   "cell_type": "code",
   "execution_count": 13,
   "id": "ab71eba0",
   "metadata": {},
   "outputs": [
    {
     "data": {
      "text/plain": [
       "'Pune Is A nIcE ciTy'"
      ]
     },
     "execution_count": 13,
     "metadata": {},
     "output_type": "execute_result"
    }
   ],
   "source": [
    "# swapcase function\n",
    "# swapcase is used to swap character in the string.\n",
    "a=\"pUNE iS a NiCe CItY\"\n",
    "a.swapcase()\n",
    "# output: over here all the character which were in 'lower case' are turned into 'upper case' and all character which were in 'upper case' are turned into 'lower case'."
   ]
  },
  {
   "cell_type": "markdown",
   "id": "f17b5336",
   "metadata": {},
   "source": [
    "Center function"
   ]
  },
  {
   "cell_type": "code",
   "execution_count": 18,
   "id": "12bf31c7",
   "metadata": {},
   "outputs": [
    {
     "data": {
      "text/plain": [
       "'     pune is a nice city      '"
      ]
     },
     "execution_count": 18,
     "metadata": {},
     "output_type": "execute_result"
    }
   ],
   "source": [
    "# Center function\n",
    "# center function is use to move the string.\n",
    "a=\"pune is a nice city\"\n",
    "a.center(30) #50 indicates the amount of space we need.\n",
    "# output: while putting certain number in the bracket we can move the string from its orginal place to its desired place.\n",
    "# take number like 20,30,40,50 in the bracket."
   ]
  },
  {
   "cell_type": "markdown",
   "id": "922c5447",
   "metadata": {},
   "source": [
    "Join function"
   ]
  },
  {
   "cell_type": "code",
   "execution_count": 25,
   "id": "96cf3d17",
   "metadata": {},
   "outputs": [
    {
     "name": "stdout",
     "output_type": "stream",
     "text": [
      "pune#is#a#nice city\n"
     ]
    }
   ],
   "source": [
    "# join function\n",
    "# Are use to joint element in the string together with character,number or symbol.\n",
    "a=(\"pune\", \"is\",\"a\",\"nice city\")\n",
    "x=\"#\".join(a)# 'x' var is used because with just a .\n",
    "print(x)\n",
    "# output: As seen the string is joined with '#' with the help of this function.\n",
    "# and also elements which are seperated by a coma \"#\" is used in there, for ex 'nice city' is not seperated by a coma so not join is made "
   ]
  },
  {
   "cell_type": "markdown",
   "id": "c047e930",
   "metadata": {},
   "source": [
    "Title function"
   ]
  },
  {
   "cell_type": "code",
   "execution_count": 26,
   "id": "6a15ffdb",
   "metadata": {},
   "outputs": [
    {
     "data": {
      "text/plain": [
       "'Pune Is A Nice City'"
      ]
     },
     "execution_count": 26,
     "metadata": {},
     "output_type": "execute_result"
    }
   ],
   "source": [
    "# title function\n",
    "# title funcation is use covert the string into title\n",
    "a=\"pune is a nice city\"\n",
    "a.title()\n",
    "# ouput: this function the first character to the element into capital letter.\n",
    "# this is mostly used in blog,articals,content writing."
   ]
  },
  {
   "cell_type": "markdown",
   "id": "dfe7e28f",
   "metadata": {},
   "source": [
    "Casefold"
   ]
  },
  {
   "cell_type": "code",
   "execution_count": 2,
   "id": "3e402159",
   "metadata": {},
   "outputs": [
    {
     "name": "stdout",
     "output_type": "stream",
     "text": [
      "pune is a nice city\n"
     ]
    }
   ],
   "source": [
    "# this method returns a string where all the characters are lower case.\n",
    "a=\"Pune Is A Nice City\"\n",
    "b=a.casefold()\n",
    "print(b)\n",
    "# output: small cased all the capital letter in the string"
   ]
  },
  {
   "cell_type": "markdown",
   "id": "5b14b7b3",
   "metadata": {},
   "source": [
    "Encode"
   ]
  },
  {
   "cell_type": "code",
   "execution_count": 3,
   "id": "7d6205dc",
   "metadata": {},
   "outputs": [
    {
     "name": "stdout",
     "output_type": "stream",
     "text": [
      "b'Pune Is A Nice City'\n"
     ]
    }
   ],
   "source": [
    "# This method encodes the string, using the specified encoding. If no encoding is specified, UTF-8 will be used.\n",
    "a=\"Pune Is A Nice City\"\n",
    "b=a.encode() \n",
    "print(b)\n",
    "# output: it ignores the characters that cannot be encoded"
   ]
  },
  {
   "cell_type": "markdown",
   "id": "6fabbefa",
   "metadata": {},
   "source": [
    "Endswith"
   ]
  },
  {
   "cell_type": "code",
   "execution_count": 8,
   "id": "daad92db",
   "metadata": {},
   "outputs": [
    {
     "name": "stdout",
     "output_type": "stream",
     "text": [
      "True\n"
     ]
    }
   ],
   "source": [
    "# this method returns True if the string ends with the specified value, otherwise False.\n",
    "a=\"Pune Is A Nice City.\"\n",
    "b=a.endswith('.')\n",
    "print(b)\n",
    "# output: the value came 'true' because the string ended with fullstop."
   ]
  },
  {
   "cell_type": "markdown",
   "id": "c8454674",
   "metadata": {},
   "source": [
    "Expandtabs"
   ]
  },
  {
   "cell_type": "code",
   "execution_count": 21,
   "id": "ffcafca0",
   "metadata": {},
   "outputs": [
    {
     "name": "stdout",
     "output_type": "stream",
     "text": [
      "P  u  n  e is a c i  t  y\n"
     ]
    }
   ],
   "source": [
    "# this method sets the tab size to the specified number of whitespaces.\n",
    "a=\"P\\tu\\tn\\te is a c\\ti\\tt\\ty\" # \"\\t\"  to create horizontal whitespace in strings\n",
    "b=a.expandtabs(3) # 3 indicates the number of space needed \n",
    "print(b)\n",
    "#output: created space between the characters."
   ]
  },
  {
   "cell_type": "markdown",
   "id": "c0440502",
   "metadata": {},
   "source": [
    "format()"
   ]
  },
  {
   "cell_type": "raw",
   "id": "052430d2",
   "metadata": {},
   "source": [
    "This method formats the specified value(s) and insert them inside the string's placeholder.\n",
    "\n",
    "The placeholder is defined using curly brackets: {}."
   ]
  },
  {
   "cell_type": "code",
   "execution_count": 25,
   "id": "06c3eb06",
   "metadata": {},
   "outputs": [
    {
     "name": "stdout",
     "output_type": "stream",
     "text": [
      "My name is sadiya, and my age is 22\n"
     ]
    }
   ],
   "source": [
    "txt='My name is {}, and my age is {}'\n",
    "name='sadiya'\n",
    "age=22\n",
    "print(txt.format('sadiya',22))\n",
    "#output: name and age are inserted inside the braces via usind format function"
   ]
  },
  {
   "cell_type": "markdown",
   "id": "40828b9c",
   "metadata": {},
   "source": [
    "format_map()\t"
   ]
  },
  {
   "cell_type": "code",
   "execution_count": 27,
   "id": "2ac76b8f",
   "metadata": {},
   "outputs": [
    {
     "name": "stdout",
     "output_type": "stream",
     "text": [
      "John's last name is Wick\n"
     ]
    }
   ],
   "source": [
    "#Formats specified values in a string\n",
    "a = {'x':'John', 'y':'Wick'} \n",
    "  \n",
    "# Use of format_map() function \n",
    "print(\"{x}'s last name is {y}\".format_map(a))\n",
    "\n",
    "#output: in place of 'x' 'john' is printed and in place of 'y' 'wick is printed' \"x and y \" are in curly brackets "
   ]
  },
  {
   "cell_type": "markdown",
   "id": "1db45b61",
   "metadata": {},
   "source": [
    "index()"
   ]
  },
  {
   "cell_type": "code",
   "execution_count": 31,
   "id": "174d8518",
   "metadata": {},
   "outputs": [
    {
     "name": "stdout",
     "output_type": "stream",
     "text": [
      "3\n"
     ]
    }
   ],
   "source": [
    "#method finds the first occurrence of the specified value.\n",
    "\n",
    "a=\"Pune Is A Nice City.\"\n",
    "b=(a.find('e'))\n",
    "print(b)\n",
    "# output: the result comes as 3 which implies thats \"e\" is mention 3 time in the string."
   ]
  },
  {
   "cell_type": "markdown",
   "id": "1dc301b8",
   "metadata": {},
   "source": [
    "isalnum()"
   ]
  },
  {
   "cell_type": "code",
   "execution_count": 32,
   "id": "68147dc6",
   "metadata": {},
   "outputs": [
    {
     "name": "stdout",
     "output_type": "stream",
     "text": [
      "False\n"
     ]
    }
   ],
   "source": [
    "# method returns True if all the characters are alphanumeric, meaning alphabet letter (a-z) and numbers (0-9).\n",
    "\n",
    "a=\"Pune Is A Nice City & its pin is 411014.\"\n",
    "b=(a.isalnum())\n",
    "print(b)\n",
    "# output: the result came as false because \"&\" are special characters."
   ]
  },
  {
   "cell_type": "markdown",
   "id": "dbf3dee0",
   "metadata": {},
   "source": [
    "isalpha()"
   ]
  },
  {
   "cell_type": "code",
   "execution_count": 8,
   "id": "5eb5b71b",
   "metadata": {
    "scrolled": true
   },
   "outputs": [
    {
     "name": "stdout",
     "output_type": "stream",
     "text": [
      "True\n"
     ]
    }
   ],
   "source": [
    "# method returns True if all the characters are alphabet letters (a-z).\n",
    "a=\"Sadiya\" # can read only one set of character\n",
    "b=(a.isalpha())\n",
    "print(b)\n",
    "# output: all character are alphabet"
   ]
  },
  {
   "cell_type": "markdown",
   "id": "80add1af",
   "metadata": {},
   "source": [
    "isascii()"
   ]
  },
  {
   "cell_type": "code",
   "execution_count": 13,
   "id": "8d26cbd5",
   "metadata": {},
   "outputs": [
    {
     "name": "stdout",
     "output_type": "stream",
     "text": [
      "True\n"
     ]
    }
   ],
   "source": [
    "# method returns True if all the characters are ascii characters  (a-z).\n",
    "\n",
    "a=\"Company123 and day\"\n",
    "b=(a.isascii())\n",
    "print(b)\n",
    "# output: all character are alphabet"
   ]
  },
  {
   "cell_type": "markdown",
   "id": "55c18e13",
   "metadata": {},
   "source": [
    "isdecimal()"
   ]
  },
  {
   "cell_type": "code",
   "execution_count": 15,
   "id": "d2692358",
   "metadata": {},
   "outputs": [
    {
     "name": "stdout",
     "output_type": "stream",
     "text": [
      "False\n"
     ]
    }
   ],
   "source": [
    "#method returns True if all the characters are decimals (0-9).\n",
    "\n",
    "a=\"Company123 and day\"\n",
    "b=(a.isdecimal())\n",
    "print(b)\n",
    "# ouput: the result is false because alphabet are includes"
   ]
  },
  {
   "cell_type": "markdown",
   "id": "f4483d99",
   "metadata": {},
   "source": [
    "isdigit()"
   ]
  },
  {
   "cell_type": "code",
   "execution_count": 19,
   "id": "de33b0bb",
   "metadata": {},
   "outputs": [
    {
     "name": "stdout",
     "output_type": "stream",
     "text": [
      "False\n"
     ]
    }
   ],
   "source": [
    "# method returns True if all the characters are digits, otherwise False.\n",
    "\n",
    "a='782764835 is a number'\n",
    "b=(a.isdigit())\n",
    "print(b)\n",
    "# ouput: the result is false because alphabet are includes same as isdecimal function"
   ]
  },
  {
   "cell_type": "markdown",
   "id": "fe2644e6",
   "metadata": {},
   "source": [
    "isidentifier()"
   ]
  },
  {
   "cell_type": "raw",
   "id": "f03ae9ea",
   "metadata": {},
   "source": [
    "The isidentifier() method returns True if the string is a valid identifier, otherwise False.\n",
    "\n",
    "A string is considered a valid identifier if it only contains alphanumeric letters (a-z) and (0-9), or underscores (_). A valid identifier cannot start with a number, or contain any spaces."
   ]
  },
  {
   "cell_type": "code",
   "execution_count": 20,
   "id": "f6265514",
   "metadata": {},
   "outputs": [
    {
     "name": "stdout",
     "output_type": "stream",
     "text": [
      "False\n"
     ]
    }
   ],
   "source": [
    "a='782764835 is a number'\n",
    "b=(a.isidentifier())\n",
    "print(b)\n",
    "# output: result is false because valid identifier cannot start with a number, or contain any spaces."
   ]
  },
  {
   "cell_type": "markdown",
   "id": "8ef94911",
   "metadata": {},
   "source": [
    "islower()"
   ]
  },
  {
   "cell_type": "code",
   "execution_count": 22,
   "id": "b6e57415",
   "metadata": {},
   "outputs": [
    {
     "name": "stdout",
     "output_type": "stream",
     "text": [
      "True\n"
     ]
    }
   ],
   "source": [
    "# method returns True if all the characters are in lower case, otherwise False.\n",
    "\n",
    "a='pune is a city'\n",
    "b=(a.islower())\n",
    "print(b)\n",
    "# output: all value are in lower case"
   ]
  },
  {
   "cell_type": "markdown",
   "id": "a79ae26c",
   "metadata": {},
   "source": [
    "isnumeric()"
   ]
  },
  {
   "cell_type": "raw",
   "id": "fc7803e9",
   "metadata": {},
   "source": [
    "The isnumeric() method returns True if all the characters are numeric (0-9), otherwise False.\n",
    "\n",
    "Exponents, like ² and ¾ are also considered to be numeric values.\n",
    "\n",
    "\"-1\" and \"1.5\" are NOT considered numeric values, because all the characters in the string must be numeric, and the - and the . are not."
   ]
  },
  {
   "cell_type": "code",
   "execution_count": 26,
   "id": "187548ae",
   "metadata": {},
   "outputs": [
    {
     "name": "stdout",
     "output_type": "stream",
     "text": [
      "True\n"
     ]
    }
   ],
   "source": [
    "a='782764835'\n",
    "b=(a.isnumeric())\n",
    "print(b)\n",
    "# output: all value are numercial"
   ]
  },
  {
   "cell_type": "markdown",
   "id": "8892bb17",
   "metadata": {},
   "source": [
    "isprintable()"
   ]
  },
  {
   "cell_type": "code",
   "execution_count": 27,
   "id": "090da190",
   "metadata": {},
   "outputs": [
    {
     "name": "stdout",
     "output_type": "stream",
     "text": [
      "False\n"
     ]
    }
   ],
   "source": [
    "#method returns True if all the characters are printable, otherwise False.\n",
    "a = \"Hello!\\nAre you #1?\"\n",
    "b=(a.isprintable())\n",
    "print(b)\n",
    "#output: it is not printable"
   ]
  },
  {
   "cell_type": "markdown",
   "id": "76056323",
   "metadata": {},
   "source": [
    "isspace()"
   ]
  },
  {
   "cell_type": "code",
   "execution_count": 4,
   "id": "593fea97",
   "metadata": {},
   "outputs": [
    {
     "name": "stdout",
     "output_type": "stream",
     "text": [
      "True\n"
     ]
    }
   ],
   "source": [
    "# method returns True if all the characters in a string are whitespaces, otherwise False.\n",
    "\n",
    "a=\"  \"\n",
    "b=(a.isspace())\n",
    "print(b)"
   ]
  },
  {
   "cell_type": "markdown",
   "id": "b14bcc81",
   "metadata": {},
   "source": [
    "istitle()"
   ]
  },
  {
   "cell_type": "raw",
   "id": "fecf316e",
   "metadata": {},
   "source": [
    "method returns True if all words in a text start with a upper case letter, AND the rest of the word are lower case letters, otherwise False."
   ]
  },
  {
   "cell_type": "code",
   "execution_count": 6,
   "id": "be95a905",
   "metadata": {},
   "outputs": [
    {
     "name": "stdout",
     "output_type": "stream",
     "text": [
      "True\n"
     ]
    }
   ],
   "source": [
    "a = \"Hello, And Welcome To My World!\"\n",
    "b=(a.istitle())\n",
    "print(b)\n",
    "# output: it came true because all the first letter are capital"
   ]
  },
  {
   "cell_type": "markdown",
   "id": "f789af4f",
   "metadata": {},
   "source": [
    "isupper()"
   ]
  },
  {
   "cell_type": "code",
   "execution_count": 9,
   "id": "68859ba1",
   "metadata": {},
   "outputs": [
    {
     "name": "stdout",
     "output_type": "stream",
     "text": [
      "True\n"
     ]
    }
   ],
   "source": [
    "# method returns True if all the characters are in upper case, otherwise False.\n",
    "\n",
    "a = \"HELLO, AND WELCOME TO MY WORLD!\"\n",
    "b=(a.isupper())\n",
    "print(b)\n",
    "# output: all the characters are in uppercase"
   ]
  },
  {
   "cell_type": "markdown",
   "id": "88f37be7",
   "metadata": {},
   "source": [
    "ljust()"
   ]
  },
  {
   "cell_type": "code",
   "execution_count": 13,
   "id": "c99cef9f",
   "metadata": {},
   "outputs": [
    {
     "name": "stdout",
     "output_type": "stream",
     "text": [
      "HELLO                          and welcome to my world\n"
     ]
    }
   ],
   "source": [
    "# method will left align the string, using a specified character (space is default) as the fill character.\n",
    "\n",
    "a = \"HELLO\"\n",
    "b=a.ljust(30)\n",
    "print(b, 'and welcome to my world')\n",
    "# ourput by using this method we acn put space in the string"
   ]
  },
  {
   "cell_type": "markdown",
   "id": "2b70307a",
   "metadata": {},
   "source": [
    "lstrip()"
   ]
  },
  {
   "cell_type": "code",
   "execution_count": 18,
   "id": "948165db",
   "metadata": {},
   "outputs": [
    {
     "name": "stdout",
     "output_type": "stream",
     "text": [
      "HELLO, AND WELCOME TO MY WORLD!    \n"
     ]
    }
   ],
   "source": [
    "# method removes any leading characters (space is the default leading character to remove)\n",
    "\n",
    "a = \"   HELLO, AND WELCOME TO MY WORLD!    \"\n",
    "b=a.lstrip()\n",
    "print(b)\n",
    "\n",
    "#output: remove unwanted space from start."
   ]
  },
  {
   "cell_type": "markdown",
   "id": "a4ed94fd",
   "metadata": {},
   "source": [
    "lower()"
   ]
  },
  {
   "cell_type": "code",
   "execution_count": 20,
   "id": "1804f8df",
   "metadata": {},
   "outputs": [
    {
     "name": "stdout",
     "output_type": "stream",
     "text": [
      "hello, and welcome to my world!\n"
     ]
    }
   ],
   "source": [
    "# method returns a string where all characters are lower case.\n",
    "\n",
    "a = \"HELLO, AND WELCOME TO MY WORLD!\"\n",
    "b=a.lower()\n",
    "print(b)\n",
    "# output: printed all the chararcter in small case "
   ]
  },
  {
   "cell_type": "markdown",
   "id": "729e9451",
   "metadata": {},
   "source": [
    "maketrans()"
   ]
  },
  {
   "cell_type": "code",
   "execution_count": null,
   "id": "8604ea3c",
   "metadata": {},
   "outputs": [],
   "source": [
    "#  method returns a mapping table that can be used with the translate() method to replace specified characters.\n",
    "\n"
   ]
  },
  {
   "cell_type": "markdown",
   "id": "5854021a",
   "metadata": {},
   "source": [
    "partition()"
   ]
  },
  {
   "cell_type": "raw",
   "id": "652c7f94",
   "metadata": {},
   "source": [
    "method searches for a specified string, and splits the string into a tuple containing three elements.\n",
    "\n",
    "The first element contains the part before the specified string.\n",
    "\n",
    "The second element contains the specified string.\n",
    "\n",
    "The third element contains the part after the string."
   ]
  },
  {
   "cell_type": "code",
   "execution_count": 7,
   "id": "9345e480",
   "metadata": {},
   "outputs": [
    {
     "name": "stdout",
     "output_type": "stream",
     "text": [
      "('I could eat ', 'banana', 's all day')\n"
     ]
    }
   ],
   "source": [
    "a=\"I could eat bananas all day\"\n",
    "b=a.partition(\"banana\")\n",
    "print(b)\n",
    "# output: it split the string in to tuple."
   ]
  },
  {
   "cell_type": "code",
   "execution_count": 2,
   "id": "1f1650b0",
   "metadata": {},
   "outputs": [
    {
     "name": "stdout",
     "output_type": "stream",
     "text": [
      "('I could eat bananas all day', '', '')\n"
     ]
    }
   ],
   "source": [
    "a=\"I could eat bananas all day\"\n",
    "b=a.partition(\"watermelon\")\n",
    "print(b)\n",
    "# If the specified value is not found, the partition() method returns a tuple containing: 1 - the whole string, 2 - an empty string, 3 - an empty string:\n",
    "# output: if the specified value is not in the strng than the whole string will be return back"
   ]
  },
  {
   "cell_type": "markdown",
   "id": "976199e7",
   "metadata": {},
   "source": [
    "rfind()"
   ]
  },
  {
   "cell_type": "raw",
   "id": "29d47a08",
   "metadata": {},
   "source": [
    "The rfind() method finds the last occurrence of the specified value.\n",
    "\n",
    "The rfind() method returns -1 if the value is not found.\n",
    "\n",
    "The rfind() method is almost the same as the rindex() method. See example below."
   ]
  },
  {
   "cell_type": "code",
   "execution_count": 5,
   "id": "3bce35f4",
   "metadata": {},
   "outputs": [
    {
     "name": "stdout",
     "output_type": "stream",
     "text": [
      "20\n"
     ]
    }
   ],
   "source": [
    "a=\"I could eat bananas all day\"\n",
    "b=a.find('all')\n",
    "print(b)\n",
    "#output: found the index place of \"all\" which is 20"
   ]
  },
  {
   "cell_type": "code",
   "execution_count": 6,
   "id": "6dff355b",
   "metadata": {},
   "outputs": [
    {
     "name": "stdout",
     "output_type": "stream",
     "text": [
      "-1\n"
     ]
    }
   ],
   "source": [
    "a=\"I could eat bananas all day\"\n",
    "b=a.find('the')\n",
    "print(b)\n",
    "#output: if element which wanted is not mention than the default result is -1. "
   ]
  },
  {
   "cell_type": "markdown",
   "id": "8cf747a0",
   "metadata": {},
   "source": [
    "rindex()"
   ]
  },
  {
   "cell_type": "raw",
   "id": "03d5b4d9",
   "metadata": {},
   "source": [
    "The rindex() method finds the last occurrence of the specified value.\n",
    "\n",
    "The rindex() method raises an exception if the value is not found.\n",
    "\n",
    "The rindex() method is almost the same as the rfind() method. "
   ]
  },
  {
   "cell_type": "code",
   "execution_count": 8,
   "id": "52682358",
   "metadata": {},
   "outputs": [
    {
     "name": "stdout",
     "output_type": "stream",
     "text": [
      "25\n"
     ]
    }
   ],
   "source": [
    "a=\"I could eat bananas all day\"\n",
    "b=a.rfind(\"a\")\n",
    "print(b)\n",
    "#output: finded the last occurance of 'a' and its index is 25th"
   ]
  },
  {
   "cell_type": "code",
   "execution_count": 10,
   "id": "64113e6a",
   "metadata": {},
   "outputs": [
    {
     "name": "stdout",
     "output_type": "stream",
     "text": [
      "9\n"
     ]
    }
   ],
   "source": [
    "# Where in the text is the last occurrence of the letter \"a\" when you only search between position 1 and 10?:\n",
    "a=\"I could eat bananas all day\"\n",
    "b=a.rfind(\"a\",1,10)\n",
    "print(b)\n",
    "#output: find last occurance between posoition."
   ]
  },
  {
   "cell_type": "markdown",
   "id": "e72aebbe",
   "metadata": {},
   "source": [
    "rjust()"
   ]
  },
  {
   "cell_type": "code",
   "execution_count": 12,
   "id": "b8279775",
   "metadata": {},
   "outputs": [
    {
     "name": "stdout",
     "output_type": "stream",
     "text": [
      "       eat banana all day\n",
      "ssssssssssssssssseat\n"
     ]
    }
   ],
   "source": [
    "#  method will right align the string, using a specified character (space is default) as the fill character.\n",
    "\n",
    "a='eat'\n",
    "b=a.rjust(10)\n",
    "print(b,\"banana all day\")\n",
    "#output: put space in begining\n",
    "\n",
    "a='eat'\n",
    "b=a.rjust(20,'s')\n",
    "print(b)\n",
    "#output: put special chractaer in the begining ehich is mention."
   ]
  },
  {
   "cell_type": "markdown",
   "id": "60350258",
   "metadata": {},
   "source": [
    "rpartition()"
   ]
  },
  {
   "cell_type": "raw",
   "id": "63dea0b1",
   "metadata": {},
   "source": [
    "method searches for the last occurrence of a specified string, and splits the string into a tuple containing three elements.\n",
    "\n",
    "The first element contains the part before the specified string.\n",
    "\n",
    "The second element contains the specified string.\n",
    "\n",
    "The third element contains the part after the string."
   ]
  },
  {
   "cell_type": "code",
   "execution_count": 18,
   "id": "b97a32d7",
   "metadata": {},
   "outputs": [
    {
     "name": "stdout",
     "output_type": "stream",
     "text": [
      "('I could eat bananas all day, ', 'bananas', ' are my favorite fruit')\n",
      "('', '', 'I could eat bananas all day, bananas are my favorite fruit')\n"
     ]
    }
   ],
   "source": [
    "a=\"I could eat bananas all day, bananas are my favorite fruit\"\n",
    "b=a.rpartition('bananas')\n",
    "print(b)\n",
    "#output: it break the last occurence of elements\n",
    "\n",
    "a=\"I could eat bananas all day, bananas are my favorite fruit\"\n",
    "b=a.rpartition('apple')\n",
    "print(b)\n",
    "#output: 'apple' is not mention in the string, so thats the reason why the string retrurn the way it way without any break and with 2 space in front."
   ]
  },
  {
   "cell_type": "markdown",
   "id": "8d3d8832",
   "metadata": {},
   "source": [
    "rsplit()"
   ]
  },
  {
   "cell_type": "raw",
   "id": "f18ec8eb",
   "metadata": {},
   "source": [
    "method splits a string into a list, starting from the right.\n",
    "\n",
    "If no \"max\" is specified, this method will return the same as the split() method.\n",
    "\n",
    "# When maxsplit is specified, the list will contain the specified number of elements plus one."
   ]
  },
  {
   "cell_type": "code",
   "execution_count": 24,
   "id": "dd07a47f",
   "metadata": {},
   "outputs": [
    {
     "name": "stdout",
     "output_type": "stream",
     "text": [
      "['apple,', 'banana,', 'cherry']\n",
      "['apple, banana', ' cherry']\n"
     ]
    }
   ],
   "source": [
    "a=\"apple, banana, cherry\"\n",
    "b=a.rsplit()\n",
    "print(b)\n",
    "#output: it split the elements.\n",
    "\n",
    "a=\"apple, banana, cherry\"\n",
    "b=a.rsplit(\",\", 1)\n",
    "print(b)\n",
    "# output: by doing maxslpit the result has only 2 elements \"apple, banana\" is the first element, and \"cherry\" is the last"
   ]
  },
  {
   "cell_type": "markdown",
   "id": "1a6001d2",
   "metadata": {},
   "source": [
    "rstrip()"
   ]
  },
  {
   "cell_type": "code",
   "execution_count": 29,
   "id": "eb03db1d",
   "metadata": {},
   "outputs": [
    {
     "name": "stdout",
     "output_type": "stream",
     "text": [
      "     I could eat bananas all day, bananas are my favorite fruit\n"
     ]
    }
   ],
   "source": [
    "# The rstrip() method removes any trailing characters (characters at the end a string), space is the default trailing character to remove.\n",
    "\n",
    "a=\"     I could eat bananas all day, bananas are my favorite fruit       \"\n",
    "b=a.rstrip()\n",
    "print(b)\n",
    "#output: removed space from the end."
   ]
  },
  {
   "cell_type": "markdown",
   "id": "e1ad694a",
   "metadata": {},
   "source": [
    "split()"
   ]
  },
  {
   "cell_type": "raw",
   "id": "34ab78cb",
   "metadata": {},
   "source": [
    "method splits a string into a list.\n",
    "\n",
    "You can specify the separator, default separator is any whitespace."
   ]
  },
  {
   "cell_type": "code",
   "execution_count": 40,
   "id": "5f67873c",
   "metadata": {},
   "outputs": [
    {
     "name": "stdout",
     "output_type": "stream",
     "text": [
      "['hello', ' my name is Peter', ' I am 22 years old']\n",
      "['hello', ' my name is Peter# I am 22 years old']\n",
      "['hello', ' my name is Peter', ' I am 22 years old']\n"
     ]
    }
   ],
   "source": [
    "a='hello, my name is Peter, I am 22 years old'\n",
    "b=a.split(\",\")\n",
    "print(b)\n",
    "#output: split the string where '#' were there\n",
    "\n",
    "a='hello# my name is Peter# I am 22 years old'\n",
    "b=a.split(\"#\", 1)\n",
    "print(b)\n",
    "#output: splited the first occurence in \"#\" with comma\n",
    "\n",
    "a='hello# my name is Peter# I am 22 years old'\n",
    "b=a.split(\"#\", 2)\n",
    "print(b)\n",
    "#output: splited occurence of \"#\" with comma it change according to number."
   ]
  },
  {
   "cell_type": "markdown",
   "id": "656b983b",
   "metadata": {},
   "source": [
    "splitlines()"
   ]
  },
  {
   "cell_type": "code",
   "execution_count": 42,
   "id": "15e88494",
   "metadata": {},
   "outputs": [
    {
     "name": "stdout",
     "output_type": "stream",
     "text": [
      "['Thank you for the music', 'Welcome to the jungle']\n"
     ]
    }
   ],
   "source": [
    "# method splits a string into a list. The splitting is done at line breaks.\n",
    "\n",
    "a=\"Thank you for the music\\nWelcome to the jungle\"\n",
    "b=a.splitlines()\n",
    "print(b)\n",
    "#output: splited the string where line break symbol \"\\n\" is mention"
   ]
  },
  {
   "cell_type": "markdown",
   "id": "f8db49ef",
   "metadata": {},
   "source": [
    "startswith()"
   ]
  },
  {
   "cell_type": "code",
   "execution_count": 44,
   "id": "537efdc8",
   "metadata": {},
   "outputs": [
    {
     "name": "stdout",
     "output_type": "stream",
     "text": [
      "True\n"
     ]
    }
   ],
   "source": [
    "# The startswith() method returns True if the string starts with the specified value, otherwise False.\n",
    "\n",
    "a=\"Thank you for the music Welcome to the jungle\"\n",
    "b=a.startswith('Thank you')\n",
    "print(b)\n",
    "#output: the value came true because the string does start from \"Thank you\""
   ]
  },
  {
   "cell_type": "markdown",
   "id": "d2f7f1af",
   "metadata": {},
   "source": [
    "strip()"
   ]
  },
  {
   "cell_type": "raw",
   "id": "67ada007",
   "metadata": {},
   "source": [
    "method removes any leading, and trailing whitespaces.\n",
    "\n",
    "Leading means at the beginning of the string, trailing means at the end.\n",
    "\n",
    "You can specify which character(s) to remove, if not, any whitespaces will be removed."
   ]
  },
  {
   "cell_type": "code",
   "execution_count": 45,
   "id": "7aa469cf",
   "metadata": {},
   "outputs": [
    {
     "name": "stdout",
     "output_type": "stream",
     "text": [
      "Thank you for the music Welcome to the jungle\n"
     ]
    }
   ],
   "source": [
    "a=\"              Thank you for the music Welcome to the jungle          \"\n",
    "b=a.strip()\n",
    "print(b)\n",
    "#output: removed all space from begining and ending."
   ]
  },
  {
   "cell_type": "markdown",
   "id": "25dd106c",
   "metadata": {},
   "source": [
    "translate()"
   ]
  },
  {
   "cell_type": "markdown",
   "id": "5549bd8c",
   "metadata": {},
   "source": [
    "zfill()"
   ]
  },
  {
   "cell_type": "raw",
   "id": "b02e0c23",
   "metadata": {},
   "source": [
    "method adds zeros (0) at the beginning of the string, until it reaches the specified length.\n",
    "\n",
    "If the value of the len parameter is less than the length of the string, no filling is done."
   ]
  },
  {
   "cell_type": "code",
   "execution_count": 55,
   "id": "203b0b4e",
   "metadata": {},
   "outputs": [
    {
     "name": "stdout",
     "output_type": "stream",
     "text": [
      "00000000000Thank you\n",
      "Thank you\n"
     ]
    }
   ],
   "source": [
    "a=\"Thank you\"\n",
    "print(a.zfill(20))\n",
    "#output: the zero will be added to the index value till value come to thank you.\n",
    "\n",
    "a=\"Thank you\"\n",
    "print(a.zfill(2))\n",
    "#output: nthing is added because the value paramenter is less than the length of the string."
   ]
  },
  {
   "cell_type": "markdown",
   "id": "a05c6d9b",
   "metadata": {},
   "source": [
    "Max"
   ]
  },
  {
   "cell_type": "raw",
   "id": "afaff452",
   "metadata": {},
   "source": [
    "function returns the item with the highest value, or the item with the highest value in an iterable.\n",
    "\n",
    "If the values are strings, an alphabetically comparison is done."
   ]
  },
  {
   "cell_type": "code",
   "execution_count": 57,
   "id": "13074ca9",
   "metadata": {},
   "outputs": [
    {
     "name": "stdout",
     "output_type": "stream",
     "text": [
      "John\n"
     ]
    }
   ],
   "source": [
    "list=(\"Mike\", \"John\", \"Vicky\")\n",
    "x=min(list)\n",
    "print(x)\n"
   ]
  },
  {
   "cell_type": "code",
   "execution_count": null,
   "id": "36b59951",
   "metadata": {},
   "outputs": [],
   "source": []
  }
 ],
 "metadata": {
  "kernelspec": {
   "display_name": "Python 3 (ipykernel)",
   "language": "python",
   "name": "python3"
  },
  "language_info": {
   "codemirror_mode": {
    "name": "ipython",
    "version": 3
   },
   "file_extension": ".py",
   "mimetype": "text/x-python",
   "name": "python",
   "nbconvert_exporter": "python",
   "pygments_lexer": "ipython3",
   "version": "3.11.5"
  }
 },
 "nbformat": 4,
 "nbformat_minor": 5
}
