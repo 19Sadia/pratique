{
 "cells": [
  {
   "cell_type": "raw",
   "id": "1842fc11",
   "metadata": {},
   "source": [
    "A toy vendor supplies three types of toys: Battery Based Toys, Key-based Toys, and Electrical Charging Based Toys. The vendor gives a discount of 10% on orders for battery-based toys if the order is for more than Rs. 1000. On orders of more than Rs. 100 for key-based toys, a discount of 5% is given, and a discount of 10% is given on orders for electrical charging based toys of value more than Rs. 500. Assume that the numeric codes 1,2 and 3 are used for battery based toys, key-based toys, and electrical charging based toys respectively. Write a program that reads the product code and the order amount and prints out the net amount that the customer is required to pay after the discount."
   ]
  },
  {
   "cell_type": "code",
   "execution_count": 3,
   "id": "19860b19",
   "metadata": {},
   "outputs": [
    {
     "name": "stdout",
     "output_type": "stream",
     "text": [
      "1. For Battery based Toys\n",
      "2. For Key based Toys\n",
      "3. Electric chargin based Toys\n",
      "Enter the product code (1,2 or 3)?:1\n",
      "Enter the amount:2000\n",
      "Toy not avaiable\n",
      "1800.0\n"
     ]
    }
   ],
   "source": [
    "print(\"1. For Battery based Toys\")\n",
    "print(\"2. For Key based Toys\")\n",
    "print(\"3. Electric chargin based Toys\")\n",
    "opt = int(input(\"Enter the product code (1,2 or 3)?:\"))\n",
    "amt = int(input(\"Enter the amount:\"))\n",
    "if opt==1:\n",
    "    if amt>1000:\n",
    "        dis=amt*0.1\n",
    "    else:\n",
    "        dis=0\n",
    "if opt==2:\n",
    "    if amt>100:\n",
    "        dis=amt*0.05\n",
    "    else:\n",
    "        dis=0\n",
    "if opt==3:\n",
    "    if amt>500:\n",
    "        dis=amt*0.1\n",
    "    else:\n",
    "        dis=0\n",
    "bill=amt-dis\n",
    "print(bill)"
   ]
  },
  {
   "cell_type": "raw",
   "id": "239973fb",
   "metadata": {},
   "source": [
    "Write a program to accept percentage from the user and display the grade according to the following criteria:\n",
    "\n",
    "Marks                 Grade\n",
    "\n",
    "> 90                   A\n",
    "\n",
    "> 80 and <= 90         B\n",
    "\n",
    ">= 60 and <= 80        C\n",
    "\n",
    "below 60               D\n"
   ]
  },
  {
   "cell_type": "code",
   "execution_count": 11,
   "id": "21771431",
   "metadata": {},
   "outputs": [
    {
     "name": "stdout",
     "output_type": "stream",
     "text": [
      "Enter:85.6\n",
      "Grade B\n"
     ]
    }
   ],
   "source": [
    "per=float(input('Enter:'))\n",
    "if per > 90 :\n",
    "    print(\"Grade A\")\n",
    "elif (per>80) and (per <=90):\n",
    "    print(\"Grade B\")\n",
    "elif (per>=60) and (per<=80):\n",
    "    print(\"Grade C\")\n",
    "else:\n",
    "    print(\"D\")"
   ]
  },
  {
   "cell_type": "raw",
   "id": "51cd2420",
   "metadata": {},
   "source": [
    "Q3. WAP to accept the cost price of a bike and display the read tax to be paid according to following criteria:\n",
    "\n",
    "cost                    tax\n",
    "> 100000                15%\n",
    ">50000 and >=100000     10%\n",
    "<=50000                  5%"
   ]
  },
  {
   "cell_type": "code",
   "execution_count": 2,
   "id": "83e51ec1",
   "metadata": {},
   "outputs": [
    {
     "name": "stdout",
     "output_type": "stream",
     "text": [
      "Enter:100000\n",
      "10000.0\n"
     ]
    }
   ],
   "source": [
    "price=float(input('Enter:'))\n",
    "if price>100000:\n",
    "    tax=15/100*price\n",
    "elif (price>50000) and (price>=100000):\n",
    "    tax= 10/100*price\n",
    "elif price<=50000:\n",
    "    tax=5/100*price \n",
    "print(tax)"
   ]
  },
  {
   "cell_type": "raw",
   "id": "85d2ac76",
   "metadata": {},
   "source": [
    "Q4. Accept the electric units from user and calculate the bill according to the following rates.\n",
    "\n",
    "First 100 Units : Free\n",
    "\n",
    "Next 200 Units : Rs 2 per day.\n",
    "\n",
    "Above 300 Units: Rs 5 per day.\n",
    "\n",
    "Like\n",
    "\n",
    "if number of unit is 500 then total bill = 0 +400 + 1000 = 1400"
   ]
  },
  {
   "cell_type": "code",
   "execution_count": 5,
   "id": "66d7aac3",
   "metadata": {},
   "outputs": [
    {
     "name": "stdout",
     "output_type": "stream",
     "text": [
      "Enter:500\n",
      "1400\n"
     ]
    }
   ],
   "source": [
    "unit=int(input('Enter:'))\n",
    "if unit<=100:\n",
    "    amt=0\n",
    "elif unit>100 and unit <=300:\n",
    "    amt=(unit-100)*2\n",
    "else:\n",
    "    amt=400+(unit-300)*5\n",
    "print(amt)\n"
   ]
  },
  {
   "cell_type": "raw",
   "id": "76724bc6",
   "metadata": {},
   "source": [
    "Q5 Write a Python program to convert degrees to radians."
   ]
  },
  {
   "cell_type": "code",
   "execution_count": 6,
   "id": "4879c06e",
   "metadata": {},
   "outputs": [
    {
     "name": "stdout",
     "output_type": "stream",
     "text": [
      "Enter:4\n",
      "2262.8571428571427\n"
     ]
    }
   ],
   "source": [
    "pi=22/7\n",
    "digit=int(input('Enter:'))\n",
    "r=digit*(22/7*180)\n",
    "print(r)"
   ]
  }
 ],
 "metadata": {
  "kernelspec": {
   "display_name": "Python 3 (ipykernel)",
   "language": "python",
   "name": "python3"
  },
  "language_info": {
   "codemirror_mode": {
    "name": "ipython",
    "version": 3
   },
   "file_extension": ".py",
   "mimetype": "text/x-python",
   "name": "python",
   "nbconvert_exporter": "python",
   "pygments_lexer": "ipython3",
   "version": "3.10.13"
  }
 },
 "nbformat": 4,
 "nbformat_minor": 5
}
