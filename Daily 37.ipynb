{
 "cells": [
  {
   "cell_type": "code",
   "execution_count": 26,
   "id": "297cb2bd",
   "metadata": {},
   "outputs": [
    {
     "name": "stdout",
     "output_type": "stream",
     "text": [
      "1 \n",
      "1 2 \n",
      "1 2 3 \n",
      "1 2 3 4 \n",
      "1 2 3 4 5 \n",
      "1 2 3 4 5 6 \n",
      "1 2 3 4 5 6 7 \n",
      "1 2 3 4 5 6 7 8 \n"
     ]
    }
   ],
   "source": [
    "# WAP to draw a number right side triangle\n",
    "n=8\n",
    "for x in range (1,n+1,1):\n",
    "    for y in range(1,x+1):\n",
    "        print(y,end=\" \")\n",
    "    print()"
   ]
  },
  {
   "cell_type": "code",
   "execution_count": 29,
   "id": "bd7ad6af",
   "metadata": {},
   "outputs": [
    {
     "name": "stdout",
     "output_type": "stream",
     "text": [
      "Enter number 100\n",
      "5050\n"
     ]
    }
   ],
   "source": [
    "# WAP to sum of all numbers from 1 to a given number\n",
    "n = int(input(\"Enter number \"))\n",
    "s=0\n",
    "for x in range(1,n+1):\n",
    "    s=s+x\n",
    "print(s)"
   ]
  },
  {
   "cell_type": "code",
   "execution_count": 38,
   "id": "d11bba5c",
   "metadata": {
    "scrolled": true
   },
   "outputs": [
    {
     "name": "stdout",
     "output_type": "stream",
     "text": [
      "8 7 6 5 4 3 2 1 \n",
      "7 6 5 4 3 2 1 \n",
      "6 5 4 3 2 1 \n",
      "5 4 3 2 1 \n",
      "4 3 2 1 \n",
      "3 2 1 \n",
      "2 1 \n",
      "1 \n",
      "\n"
     ]
    }
   ],
   "source": [
    "# WAP to draw a reverse number right side triangle\n",
    "n=8\n",
    "s=8\n",
    "for x in range (0,n+1):\n",
    "    for y in range(s-x,0,-1):\n",
    "        print(y,end=\" \")\n",
    "    print()"
   ]
  },
  {
   "cell_type": "code",
   "execution_count": 1,
   "id": "293aedcd",
   "metadata": {},
   "outputs": [
    {
     "name": "stdout",
     "output_type": "stream",
     "text": [
      "245\n",
      "285\n",
      "140\n"
     ]
    }
   ],
   "source": [
    "# WAP to Generate 3 random integers between 100 and 999 which is divisible by 5\n",
    "\n",
    "import random\n",
    "for x in range(3):\n",
    "    print(random.randrange(100,999,5))\n",
    "    "
   ]
  },
  {
   "cell_type": "code",
   "execution_count": 6,
   "id": "e1e06554",
   "metadata": {},
   "outputs": [
    {
     "name": "stdout",
     "output_type": "stream",
     "text": [
      "[6187521714, 1049504907]\n"
     ]
    }
   ],
   "source": [
    "# WAP to Generate 100 random lottery tickets and pick two lucky tickets from it as a winner.\n",
    "\n",
    "lottery=[]\n",
    "for x in range(100):\n",
    "    lottery.append(random.randrange(1000000000, 9999999999))\n",
    "winner=random.sample(lottery,2)\n",
    "print(winner)"
   ]
  },
  {
   "cell_type": "code",
   "execution_count": null,
   "id": "f7c7c558",
   "metadata": {},
   "outputs": [],
   "source": []
  }
 ],
 "metadata": {
  "kernelspec": {
   "display_name": "Python 3 (ipykernel)",
   "language": "python",
   "name": "python3"
  },
  "language_info": {
   "codemirror_mode": {
    "name": "ipython",
    "version": 3
   },
   "file_extension": ".py",
   "mimetype": "text/x-python",
   "name": "python",
   "nbconvert_exporter": "python",
   "pygments_lexer": "ipython3",
   "version": "3.10.13"
  }
 },
 "nbformat": 4,
 "nbformat_minor": 5
}
