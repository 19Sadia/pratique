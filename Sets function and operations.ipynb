{
 "cells": [
  {
   "cell_type": "markdown",
   "id": "a104f902",
   "metadata": {},
   "source": [
    "### Union"
   ]
  },
  {
   "cell_type": "code",
   "execution_count": 2,
   "id": "a3aaa3d1",
   "metadata": {},
   "outputs": [
    {
     "name": "stdout",
     "output_type": "stream",
     "text": [
      "{1, 2, 3, 4, 5, 6, 7, 8, 9}\n"
     ]
    }
   ],
   "source": [
    "#Union combines two sets \n",
    "a={1,2,3,4,5,6} #set1\n",
    "b={5,6,7,8,9,} #set2\n",
    "c= a.union(b)\n",
    "print(c)\n",
    "#output: both the set are combine in one single set"
   ]
  },
  {
   "cell_type": "code",
   "execution_count": 3,
   "id": "cfc84023",
   "metadata": {},
   "outputs": [
    {
     "data": {
      "text/plain": [
       "{1, 2, 3, 4, 5, 6, 7, 8, 9}"
      ]
     },
     "execution_count": 3,
     "metadata": {},
     "output_type": "execute_result"
    }
   ],
   "source": [
    "c"
   ]
  },
  {
   "cell_type": "markdown",
   "id": "79323f5d",
   "metadata": {},
   "source": [
    "### Update"
   ]
  },
  {
   "cell_type": "code",
   "execution_count": 8,
   "id": "43b495a6",
   "metadata": {},
   "outputs": [
    {
     "name": "stdout",
     "output_type": "stream",
     "text": [
      "{1, 2, 3, 4, 5, 6, 7, 8, 9} {5, 6, 7, 8, 9}\n"
     ]
    }
   ],
   "source": [
    "# Add items into existing set from another set\n",
    "a={1,2,3,4,5,6} #set1\n",
    "b={5,6,7,8,9,} #set2\n",
    "a.update(b)\n",
    "print(a,b)\n",
    "# output: in result frist set contain all the elements where as another set contains the elements which were not there in set1"
   ]
  },
  {
   "cell_type": "markdown",
   "id": "b51b7d1e",
   "metadata": {},
   "source": [
    "### Intersection and intersection_update"
   ]
  },
  {
   "cell_type": "code",
   "execution_count": 9,
   "id": "2b4a98c4",
   "metadata": {},
   "outputs": [
    {
     "name": "stdout",
     "output_type": "stream",
     "text": [
      "{5, 6}\n"
     ]
    }
   ],
   "source": [
    "# Value that are present in both the sets\n",
    "a={1,2,3,4,5,6} \n",
    "b={5,6,7,8,9,} \n",
    "print(a.intersection(b))\n",
    "#output: '5,6' are the value which are present in both the set"
   ]
  },
  {
   "cell_type": "markdown",
   "id": "69a0c89e",
   "metadata": {},
   "source": [
    "intersection_update"
   ]
  },
  {
   "cell_type": "code",
   "execution_count": 11,
   "id": "18ffe4a4",
   "metadata": {},
   "outputs": [
    {
     "name": "stdout",
     "output_type": "stream",
     "text": [
      "{5, 6} {5, 6, 7, 8, 9}\n"
     ]
    }
   ],
   "source": [
    "# Update into existing set from another set\n",
    "a={1,2,3,4,5,6} \n",
    "b={5,6,7,8,9,} \n",
    "a.intersection_update(b)\n",
    "print(a,b)\n",
    "# Output: opposite of union_update, over here first ouput set contain the value that are present in both set(a,b) and another output set contain value from set(b)."
   ]
  },
  {
   "cell_type": "markdown",
   "id": "659966f1",
   "metadata": {},
   "source": [
    "### Difference and Difference_update"
   ]
  },
  {
   "cell_type": "code",
   "execution_count": 12,
   "id": "664fd0b2",
   "metadata": {},
   "outputs": [
    {
     "name": "stdout",
     "output_type": "stream",
     "text": [
      "{1, 2, 3, 4}\n"
     ]
    }
   ],
   "source": [
    "# The value which are not common\n",
    "a={1,2,3,4,5,6} \n",
    "b={5,6,7,8,9,} \n",
    "print(a.difference(b)) # by putting (a.difference(b)) the value from 'a' which are not common the both the sets will be shown.\n",
    "#output: (1,2,3,4) are the value which are not common in 'a' and 'b' sets."
   ]
  },
  {
   "cell_type": "code",
   "execution_count": 13,
   "id": "92528c12",
   "metadata": {},
   "outputs": [
    {
     "name": "stdout",
     "output_type": "stream",
     "text": [
      "{8, 9, 7}\n"
     ]
    }
   ],
   "source": [
    "a={1,2,3,4,5,6} \n",
    "b={5,6,7,8,9,} \n",
    "print(b.difference(a))# by putting (b.difference(a)) the value from 'b' which are not common the both the sets will be shown.\n",
    "# Output: (8,9,7) are the value which are in common in set 'a' but not in 'b' sets."
   ]
  },
  {
   "cell_type": "markdown",
   "id": "2df5725a",
   "metadata": {},
   "source": [
    "Difference_update"
   ]
  },
  {
   "cell_type": "code",
   "execution_count": 14,
   "id": "0d74dc03",
   "metadata": {
    "scrolled": true
   },
   "outputs": [
    {
     "name": "stdout",
     "output_type": "stream",
     "text": [
      "None\n",
      "{1, 2, 3, 4} {5, 6, 7, 8, 9}\n"
     ]
    }
   ],
   "source": [
    "a={1,2,3,4,5,6} \n",
    "b={5,6,7,8,9,} \n",
    "print(a.difference_update(b))\n",
    "print(a,b)\n",
    "# Output: set1 contain common value in set\"a\" and set2 contain whole \"b\" set."
   ]
  },
  {
   "cell_type": "markdown",
   "id": "1104331f",
   "metadata": {},
   "source": [
    "### Symmetric_difference and symmetric_difference_update"
   ]
  },
  {
   "cell_type": "code",
   "execution_count": 17,
   "id": "3a69abec",
   "metadata": {},
   "outputs": [
    {
     "name": "stdout",
     "output_type": "stream",
     "text": [
      "{1, 2, 3, 4, 7, 8, 9}\n"
     ]
    }
   ],
   "source": [
    "# The value which are common are  not present\n",
    "a={1,2,3,4,5,6} \n",
    "b={5,6,7,8,9,} \n",
    "print(a.symmetric_difference(b))\n",
    "# Output: (5,6) are in present in both the sets thats why the output didn't show that, that value which are not common are shown."
   ]
  },
  {
   "cell_type": "markdown",
   "id": "d5f84225",
   "metadata": {},
   "source": [
    "symmetric_difference_update"
   ]
  },
  {
   "cell_type": "code",
   "execution_count": 20,
   "id": "a2775033",
   "metadata": {},
   "outputs": [
    {
     "name": "stdout",
     "output_type": "stream",
     "text": [
      "None\n",
      "{1, 2, 3, 4, 7, 8, 9} {5, 6, 7, 8, 9}\n"
     ]
    }
   ],
   "source": [
    "a={1,2,3,4,5,6} \n",
    "b={5,6,7,8,9,} \n",
    "print(a.symmetric_difference_update(b))\n",
    "print(a,b)\n",
    "# Output: contain value that are not common with value of set \"b\""
   ]
  },
  {
   "cell_type": "markdown",
   "id": "b5b6c798",
   "metadata": {},
   "source": [
    "## Sets Methods "
   ]
  },
  {
   "cell_type": "markdown",
   "id": "a574a608",
   "metadata": {},
   "source": [
    "#### isdisjoint"
   ]
  },
  {
   "cell_type": "code",
   "execution_count": 21,
   "id": "57e08053",
   "metadata": {},
   "outputs": [
    {
     "name": "stdout",
     "output_type": "stream",
     "text": [
      "False\n"
     ]
    }
   ],
   "source": [
    "# check the item presented in current are existing in another set\n",
    "a={1,2,3,4,5,6} \n",
    "b={5,6,7,8,9,} \n",
    "print(a.isdisjoint(b))\n",
    "#output: the result is false because some same items are presented in the sets, it would have been True if ther were nothing common in the sets."
   ]
  },
  {
   "cell_type": "markdown",
   "id": "0628c8d9",
   "metadata": {},
   "source": [
    "#### issuperset"
   ]
  },
  {
   "cell_type": "code",
   "execution_count": 26,
   "id": "8cd91479",
   "metadata": {},
   "outputs": [
    {
     "name": "stdout",
     "output_type": "stream",
     "text": [
      "False\n"
     ]
    }
   ],
   "source": [
    "# Check if items in particular set are presented in orginal set.\n",
    "a={1,2,3,4,5,6,} \n",
    "b={5,6,7,8,9,} \n",
    "print(b.issuperset(a))\n",
    "#output: is false because not all elements in set 'b' are common to set 'a'."
   ]
  },
  {
   "cell_type": "markdown",
   "id": "919a125f",
   "metadata": {},
   "source": [
    "issubset"
   ]
  },
  {
   "cell_type": "code",
   "execution_count": 30,
   "id": "24f895bd",
   "metadata": {},
   "outputs": [
    {
     "name": "stdout",
     "output_type": "stream",
     "text": [
      "True\n"
     ]
    }
   ],
   "source": [
    "# It checks if all the items of the original set are present in the particular set. It returns True if all the items are present, else it returns False.\n",
    "a={1,2,3,4,5,6,} \n",
    "b={5,6,7,8,9,1,2,3,4} \n",
    "print(a.issubset(b))\n",
    "#output: all the elements of set 'a' are present in set 'b'."
   ]
  },
  {
   "cell_type": "markdown",
   "id": "71dc29ef",
   "metadata": {},
   "source": [
    "Add"
   ]
  },
  {
   "cell_type": "code",
   "execution_count": 34,
   "id": "9ae83799",
   "metadata": {},
   "outputs": [
    {
     "name": "stdout",
     "output_type": "stream",
     "text": [
      "{1, 2, 3, 4, 5, 6, 10}\n"
     ]
    }
   ],
   "source": [
    "# it used to add a single items to the set\n",
    "a={1,2,3,4,5,6,} \n",
    "a.add(10)\n",
    "print(a)"
   ]
  },
  {
   "cell_type": "markdown",
   "id": "887df82b",
   "metadata": {},
   "source": [
    "Update"
   ]
  },
  {
   "cell_type": "raw",
   "id": "a06d815e",
   "metadata": {},
   "source": [
    "#If you want to add more than one item, simply create another set or any other iterable object(list, tuple, dictionary), and use the update() method to add it into the existing set"
   ]
  },
  {
   "cell_type": "code",
   "execution_count": 37,
   "id": "f1f09f06",
   "metadata": {},
   "outputs": [
    {
     "name": "stdout",
     "output_type": "stream",
     "text": [
      "{1, 2, 3, 4, 5, 6, 7, 8, 9}\n"
     ]
    }
   ],
   "source": [
    "a={1,2,3,4,} \n",
    "b={5,6,7,8,9,} \n",
    "a.update(b)\n",
    "print(a)\n",
    "#output: both set 'b' is combine to set 'a'"
   ]
  },
  {
   "cell_type": "markdown",
   "id": "febbd449",
   "metadata": {},
   "source": [
    "Remove/Discard"
   ]
  },
  {
   "cell_type": "code",
   "execution_count": 38,
   "id": "7e08c4e8",
   "metadata": {},
   "outputs": [
    {
     "name": "stdout",
     "output_type": "stream",
     "text": [
      "{1, 2, 4}\n"
     ]
    }
   ],
   "source": [
    "# Its use to remove items from set.\n",
    "a={1,2,3,4,} \n",
    "a.remove(3) #remove methond raise error\n",
    "print(a)\n",
    "# output: 3rd number is removed from set"
   ]
  },
  {
   "cell_type": "code",
   "execution_count": 39,
   "id": "f08dcd38",
   "metadata": {},
   "outputs": [
    {
     "name": "stdout",
     "output_type": "stream",
     "text": [
      "{1, 2, 4}\n"
     ]
    }
   ],
   "source": [
    "a={1,2,3,4,} \n",
    "a.discard(3) #discard method does not raise error\n",
    "print(a)\n",
    "# output: 3rd number is removed from set"
   ]
  },
  {
   "cell_type": "markdown",
   "id": "96400ecf",
   "metadata": {},
   "source": [
    "Pop"
   ]
  },
  {
   "cell_type": "raw",
   "id": "989bf148",
   "metadata": {},
   "source": [
    "This method removes the last item of the set but the catch is that we don't know which item gets popped as sets are unordered. However, you can access the popped item if you assign the pop method to a variable"
   ]
  },
  {
   "cell_type": "code",
   "execution_count": 42,
   "id": "e55f2255",
   "metadata": {},
   "outputs": [
    {
     "name": "stdout",
     "output_type": "stream",
     "text": [
      "{2, 3, 4, 5, 6, 7, 8, 9}\n"
     ]
    }
   ],
   "source": [
    "a={1,2,3,4,5,6,7,8,9} \n",
    "a.pop()\n",
    "print(a)\n",
    "#output: by default '1' number is removed"
   ]
  },
  {
   "cell_type": "markdown",
   "id": "9c1a54f5",
   "metadata": {},
   "source": [
    "Del"
   ]
  },
  {
   "cell_type": "code",
   "execution_count": 43,
   "id": "da76a3d8",
   "metadata": {},
   "outputs": [
    {
     "ename": "NameError",
     "evalue": "name 'a' is not defined",
     "output_type": "error",
     "traceback": [
      "\u001b[1;31m---------------------------------------------------------------------------\u001b[0m",
      "\u001b[1;31mNameError\u001b[0m                                 Traceback (most recent call last)",
      "Cell \u001b[1;32mIn[43], line 4\u001b[0m\n\u001b[0;32m      2\u001b[0m a\u001b[38;5;241m=\u001b[39m{\u001b[38;5;241m1\u001b[39m,\u001b[38;5;241m2\u001b[39m,\u001b[38;5;241m3\u001b[39m,\u001b[38;5;241m4\u001b[39m,\u001b[38;5;241m5\u001b[39m,\u001b[38;5;241m6\u001b[39m,\u001b[38;5;241m7\u001b[39m,\u001b[38;5;241m8\u001b[39m,\u001b[38;5;241m9\u001b[39m} \n\u001b[0;32m      3\u001b[0m \u001b[38;5;28;01mdel\u001b[39;00m a\n\u001b[1;32m----> 4\u001b[0m \u001b[38;5;28mprint\u001b[39m(a)\n",
      "\u001b[1;31mNameError\u001b[0m: name 'a' is not defined"
     ]
    }
   ],
   "source": [
    "# to delete the set\n",
    "a={1,2,3,4,5,6,7,8,9} \n",
    "del a\n",
    "print(a)\n",
    "#output: set 'a' is deleted"
   ]
  },
  {
   "cell_type": "markdown",
   "id": "53ea36f3",
   "metadata": {},
   "source": [
    "Clear"
   ]
  },
  {
   "cell_type": "code",
   "execution_count": 45,
   "id": "edc85b5d",
   "metadata": {},
   "outputs": [
    {
     "name": "stdout",
     "output_type": "stream",
     "text": [
      "set()\n"
     ]
    }
   ],
   "source": [
    "# This method clears all items in the set and prints an empty set.\n",
    "b={'sadiya', 123, 'you', 6}\n",
    "b.clear()\n",
    "print(b)\n",
    "#output: set 'b' has been cleared"
   ]
  },
  {
   "cell_type": "markdown",
   "id": "ea1b78ed",
   "metadata": {},
   "source": [
    "Check if Item exist"
   ]
  },
  {
   "cell_type": "code",
   "execution_count": 51,
   "id": "c24ea4b5",
   "metadata": {},
   "outputs": [
    {
     "name": "stdout",
     "output_type": "stream",
     "text": [
      "sadiya is present\n"
     ]
    }
   ],
   "source": [
    "# to check if an item exists in the set or not.\n",
    "c={'sadiya', 124, 'you', 7}\n",
    "if 'sadiya' in c:\n",
    "    print(\"sadiya is present\")\n",
    "else:\n",
    "    print(\"sadiya is absent \")\n",
    "#output: according to set 'c' 'sadiya' is ther there in set so it shopws present."
   ]
  },
  {
   "cell_type": "markdown",
   "id": "9a4349ca",
   "metadata": {},
   "source": [
    "copy() "
   ]
  },
  {
   "cell_type": "code",
   "execution_count": 1,
   "id": "8aaa5dc3",
   "metadata": {},
   "outputs": [
    {
     "data": {
      "text/plain": [
       "{1, 2, 3, 4, 5, 6}"
      ]
     },
     "execution_count": 1,
     "metadata": {},
     "output_type": "execute_result"
    }
   ],
   "source": [
    "# The copy() method copies the set.\n",
    "\n",
    "a={1,2,3,4,5,6} \n",
    "x=a.copy()\n",
    "x\n",
    "# output: copys the function."
   ]
  },
  {
   "cell_type": "code",
   "execution_count": null,
   "id": "de915adb",
   "metadata": {},
   "outputs": [],
   "source": []
  }
 ],
 "metadata": {
  "kernelspec": {
   "display_name": "Python 3 (ipykernel)",
   "language": "python",
   "name": "python3"
  },
  "language_info": {
   "codemirror_mode": {
    "name": "ipython",
    "version": 3
   },
   "file_extension": ".py",
   "mimetype": "text/x-python",
   "name": "python",
   "nbconvert_exporter": "python",
   "pygments_lexer": "ipython3",
   "version": "3.11.5"
  }
 },
 "nbformat": 4,
 "nbformat_minor": 5
}
