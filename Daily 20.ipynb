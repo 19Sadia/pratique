{
 "cells": [
  {
   "cell_type": "code",
   "execution_count": 10,
   "id": "9a7ebe5c",
   "metadata": {},
   "outputs": [
    {
     "name": "stdout",
     "output_type": "stream",
     "text": [
      "999\n"
     ]
    }
   ],
   "source": [
    "num = []\n",
    "for n in range(1000):\n",
    "    n = str(n).zfill(3)\n",
    "print(n)\n",
    "num.append(n)"
   ]
  },
  {
   "cell_type": "code",
   "execution_count": 12,
   "id": "fe50a624",
   "metadata": {},
   "outputs": [
    {
     "name": "stdout",
     "output_type": "stream",
     "text": [
      "2024-01-14 00:23:01\n"
     ]
    }
   ],
   "source": [
    "# Write a Python program to drop microseconds from datetime.\n",
    "\n",
    "import datetime\n",
    "dt = datetime.datetime.today().replace(microsecond=0)\n",
    "print(dt)\n",
    "\n"
   ]
  },
  {
   "cell_type": "code",
   "execution_count": 13,
   "id": "ecbb659d",
   "metadata": {},
   "outputs": [
    {
     "name": "stdout",
     "output_type": "stream",
     "text": [
      "Sun Jan 14 00:23:20 2024\n"
     ]
    }
   ],
   "source": [
    "# Write a Python program to display the date and time in a human-friendly string.\n",
    "\n",
    "import time\n",
    "print(time.ctime())\n"
   ]
  },
  {
   "cell_type": "code",
   "execution_count": 15,
   "id": "a18e9e7d",
   "metadata": {},
   "outputs": [
    {
     "name": "stdout",
     "output_type": "stream",
     "text": [
      "['as', 'em', 'erferes', 'aracters', 'etting', 'at', 'ey', 'ant']\n"
     ]
    }
   ],
   "source": [
    "# Write a Python program to find all words starting with 'a' or 'e' in a given string.\n",
    "\n",
    "import re\n",
    "# Input.\n",
    "text = \"Also known as the problem, the conflict of the story interferes with the characters getting what they want\"\n",
    "list = re.findall(\"[ae]\\w+\", text)\n",
    "# Print result.\n",
    "print(list)"
   ]
  },
  {
   "cell_type": "code",
   "execution_count": null,
   "id": "9c941a2c",
   "metadata": {},
   "outputs": [],
   "source": [
    "# Write a Python program to replace maximum 2 occurrences of space, comma, or dot with a colon\n",
    "\n",
    "text = 'Python Exercises, PHP exercises.'\n",
    "print(re.sub(\"[ ,.]\", \":\", text, 2))"
   ]
  }
 ],
 "metadata": {
  "kernelspec": {
   "display_name": "Python 3 (ipykernel)",
   "language": "python",
   "name": "python3"
  },
  "language_info": {
   "codemirror_mode": {
    "name": "ipython",
    "version": 3
   },
   "file_extension": ".py",
   "mimetype": "text/x-python",
   "name": "python",
   "nbconvert_exporter": "python",
   "pygments_lexer": "ipython3",
   "version": "3.11.5"
  }
 },
 "nbformat": 4,
 "nbformat_minor": 5
}
