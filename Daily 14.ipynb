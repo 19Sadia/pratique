{
 "cells": [
  {
   "cell_type": "code",
   "execution_count": 1,
   "id": "998266d9",
   "metadata": {},
   "outputs": [
    {
     "data": {
      "text/plain": [
       "array([[0, 1, 2],\n",
       "       [3, 4, 5],\n",
       "       [6, 7, 8]])"
      ]
     },
     "execution_count": 1,
     "metadata": {},
     "output_type": "execute_result"
    }
   ],
   "source": [
    "import numpy as np\n",
    "# create a matrix 3 * 3 with value ranging from 0 to 8\n",
    "\n",
    "f=np.arange(0,9).reshape(3,3)\n",
    "f"
   ]
  },
  {
   "cell_type": "code",
   "execution_count": 2,
   "id": "2fc0e47e",
   "metadata": {},
   "outputs": [
    {
     "data": {
      "text/plain": [
       "array([ 38, 141,  73, 138, 134,  80, 145, 130,  72, 135,  26,  21, 102,\n",
       "       147, 140, 143,  51,  69,  97,  87])"
      ]
     },
     "execution_count": 2,
     "metadata": {},
     "output_type": "execute_result"
    }
   ],
   "source": [
    "# describe the example of seed() function? and how to use it ? why seed()?\n",
    "\n",
    "np.random.seed(1)\n",
    "a=np.random.randint(1,150,20)\n",
    "a"
   ]
  },
  {
   "cell_type": "code",
   "execution_count": 3,
   "id": "97d0a5d6",
   "metadata": {},
   "outputs": [
    {
     "name": "stdout",
     "output_type": "stream",
     "text": [
      "How many numbers: 4\n",
      "Enter number: 2\n",
      "Enter number: 5\n",
      "Enter number: 8\n",
      "Enter number: 5\n",
      "Sum of numbers in the given list is : 20\n"
     ]
    }
   ],
   "source": [
    "# Python program to display the sum of n numbers using a list\n",
    "\n",
    "number=[]\n",
    "num=int(input('How many numbers: '))\n",
    "for x in range(num):\n",
    "    n=int(input('Enter number: '))\n",
    "    number.append(n)\n",
    "print(\"Sum of numbers in the given list is :\", sum(number))"
   ]
  },
  {
   "cell_type": "code",
   "execution_count": 4,
   "id": "b67714fb",
   "metadata": {},
   "outputs": [
    {
     "name": "stdout",
     "output_type": "stream",
     "text": [
      "Enter an integer: 5\n",
      "Sum of digits is:  5\n"
     ]
    }
   ],
   "source": [
    "# Python program to find the sum of the digits of an integer using a while loop\n",
    "\n",
    "s=0\n",
    "number = int(input(\"Enter an integer: \"))\n",
    "while(number!=0):\n",
    "    digit=number%10\n",
    "    s=s+digit\n",
    "    number=number//10\n",
    "print(\"Sum of digits is: \", s)"
   ]
  },
  {
   "cell_type": "code",
   "execution_count": 5,
   "id": "39f66239",
   "metadata": {},
   "outputs": [
    {
     "name": "stdout",
     "output_type": "stream",
     "text": [
      "Enter numbers: 4\n",
      "The average is:  1.0\n",
      "Enter numbers: 5\n",
      "The average is:  1.8\n",
      "Enter numbers: 6\n",
      "The average is:  2.5\n",
      "Enter numbers: 4\n",
      "The average is:  4.75\n"
     ]
    }
   ],
   "source": [
    "# Python program to find out the average of a set of integers\n",
    "\n",
    "\n",
    "count=0\n",
    "i=0\n",
    "for count in range(num):\n",
    "    count=int(input(\"Enter numbers: \"))\n",
    "    i=i+count\n",
    "    avg=i/count\n",
    "    print(\"The average is: \", avg)"
   ]
  },
  {
   "cell_type": "markdown",
   "id": "f0defd85",
   "metadata": {},
   "source": [
    "### "
   ]
  },
  {
   "cell_type": "code",
   "execution_count": 6,
   "id": "4cf60161",
   "metadata": {},
   "outputs": [
    {
     "name": "stdout",
     "output_type": "stream",
     "text": [
      "\n",
      " * \n",
      " *  * \n",
      " *  *  * \n",
      " *  *  *  * \n",
      " *  *  *  *  * \n",
      " *  *  *  *  *  * \n"
     ]
    }
   ],
   "source": [
    "# Building a Pyramid in Python\n",
    "\n",
    "for x in range(0,7):\n",
    "    if (x%2==0):\n",
    "        print(' * '*x )\n",
    "    elif (x%3==0):\n",
    "        print(' * '*x )\n",
    "    else:\n",
    "        print(\" * \"*x)"
   ]
  },
  {
   "cell_type": "code",
   "execution_count": null,
   "id": "b4feabb9",
   "metadata": {},
   "outputs": [],
   "source": []
  }
 ],
 "metadata": {
  "kernelspec": {
   "display_name": "Python 3 (ipykernel)",
   "language": "python",
   "name": "python3"
  },
  "language_info": {
   "codemirror_mode": {
    "name": "ipython",
    "version": 3
   },
   "file_extension": ".py",
   "mimetype": "text/x-python",
   "name": "python",
   "nbconvert_exporter": "python",
   "pygments_lexer": "ipython3",
   "version": "3.11.5"
  }
 },
 "nbformat": 4,
 "nbformat_minor": 5
}
