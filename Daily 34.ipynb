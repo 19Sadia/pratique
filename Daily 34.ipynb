{
 "cells": [
  {
   "cell_type": "code",
   "execution_count": 4,
   "id": "050f6de6",
   "metadata": {},
   "outputs": [
    {
     "name": "stdout",
     "output_type": "stream",
     "text": [
      "enter:sadiya\n",
      "s\n",
      "a\n",
      "d\n",
      "i\n",
      "y\n",
      "a\n"
     ]
    }
   ],
   "source": [
    "# Python program to separate characters in a given string.\n",
    "\n",
    "strg=input('enter:')\n",
    "for x in strg:\n",
    "    print(x)"
   ]
  },
  {
   "cell_type": "code",
   "execution_count": 26,
   "id": "ab32a4b5",
   "metadata": {},
   "outputs": [
    {
     "name": "stdout",
     "output_type": "stream",
     "text": [
      "enter:hey there\n",
      " heythere\n"
     ]
    }
   ],
   "source": [
    "# Python program to remove blank space from string.\n",
    "strg=input('enter:')\n",
    "sp=\" \"\n",
    "for x in strg:\n",
    "    if x !=\" \":\n",
    "        sp=sp+x\n",
    "print(sp)"
   ]
  },
  {
   "cell_type": "code",
   "execution_count": 17,
   "id": "d52fa5ad",
   "metadata": {},
   "outputs": [
    {
     "name": "stdout",
     "output_type": "stream",
     "text": [
      "enter:hey\n",
      "enter:there\n",
      "heythere\n",
      "\t\n"
     ]
    }
   ],
   "source": [
    "# Python program to concatenate two strings using join() method.\n",
    "\n",
    "strg=input('enter:')\n",
    "strg1=input('enter:')\n",
    "print(\"\".join([strg,strg1]))"
   ]
  },
  {
   "cell_type": "code",
   "execution_count": 19,
   "id": "731443a8",
   "metadata": {},
   "outputs": [
    {
     "name": "stdout",
     "output_type": "stream",
     "text": [
      "enter:hello\n",
      "enter:there \n",
      "hellothere \n"
     ]
    }
   ],
   "source": [
    "# Python program to concatenate two strings without using join() method.\n",
    "\n",
    "strg=input('enter:')\n",
    "strg1=input('enter:')\n",
    "print(strg+strg1)"
   ]
  },
  {
   "cell_type": "code",
   "execution_count": 3,
   "id": "9d817c9d",
   "metadata": {},
   "outputs": [
    {
     "name": "stdout",
     "output_type": "stream",
     "text": [
      "enter:missing\n",
      "misng\n"
     ]
    }
   ],
   "source": [
    "# Python program to remove repeated character from string.\n",
    "\n",
    "strg=input('enter:')\n",
    "r=\"\"\n",
    "for x in strg:\n",
    "    if x not in r:\n",
    "        r=r+x\n",
    "print(r)\n",
    "        "
   ]
  },
  {
   "cell_type": "code",
   "execution_count": null,
   "id": "5c2900dc",
   "metadata": {},
   "outputs": [],
   "source": []
  }
 ],
 "metadata": {
  "kernelspec": {
   "display_name": "Python 3 (ipykernel)",
   "language": "python",
   "name": "python3"
  },
  "language_info": {
   "codemirror_mode": {
    "name": "ipython",
    "version": 3
   },
   "file_extension": ".py",
   "mimetype": "text/x-python",
   "name": "python",
   "nbconvert_exporter": "python",
   "pygments_lexer": "ipython3",
   "version": "3.10.13"
  }
 },
 "nbformat": 4,
 "nbformat_minor": 5
}
