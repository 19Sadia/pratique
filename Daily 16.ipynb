{
 "cells": [
  {
   "cell_type": "code",
   "execution_count": null,
   "id": "033c9eb8",
   "metadata": {},
   "outputs": [],
   "source": [
    "# Counting Vowels in a Given Word\n",
    "\n",
    "vowel=['a','e','i','o','u']\n",
    "count=0\n",
    "strng='programming'\n",
    "for x in 'programming':\n",
    "    if x in vowel:\n",
    "        count=count+1\n",
    "print(count)"
   ]
  },
  {
   "cell_type": "code",
   "execution_count": null,
   "id": "edcb1a61",
   "metadata": {},
   "outputs": [],
   "source": [
    "# Write a Python program to create a calculator class. Include methods for basic arithmetic operations\n",
    "\n",
    "class calculator:\n",
    "    def add(x,y):\n",
    "        return (x+y)\n",
    "    def sub(x,y):\n",
    "        return x-y\n",
    "    def mul(x,y):\n",
    "        return x*y\n",
    "    def dic(x,y):\n",
    "        if x==0:\n",
    "            return \"cannot be divided\"\n",
    "        else:\n",
    "            return x/y\n",
    "cal=calculator()\n",
    "result=calculator.add(3,4)\n",
    "print(result)\n",
    "\n",
    "result=calculator.sub(3,4)\n",
    "print(result)\n",
    "\n",
    "result=calculator.mul(3,4)\n",
    "print(result)\n",
    "\n",
    "result=calculator.dic(0,3)\n",
    "print(result)"
   ]
  },
  {
   "cell_type": "code",
   "execution_count": null,
   "id": "1b9d1b6d",
   "metadata": {},
   "outputs": [],
   "source": [
    "# Write a Python program to get all possible two-digit letter combinations from a 1-9 digit string.\n",
    "\n",
    "def two(digit):\n",
    "    if digit == '':\n",
    "        return []\n",
    "    string_maps = {\n",
    "        \"1\": \"abc\",\n",
    "        \"2\": \"def\",\n",
    "        \"3\": \"ghi\",\n",
    "        \"4\": \"jkl\",\n",
    "        \"5\": \"mno\",\n",
    "        \"6\": \"pqrs\",\n",
    "        \"7\": \"tuv\",\n",
    "        \"8\": \"wxy\",\n",
    "        \"9\": \"z\"\n",
    "    }\n",
    "    result=['']\n",
    "    for x in digit:\n",
    "        num=[]\n",
    "        for tem in result:\n",
    "            for a in  string_maps[x]:\n",
    "                num.append(tem+a)\n",
    "            result=num\n",
    "    return result\n",
    "    \n",
    "digit_string = \"47\"\n",
    "print(two(digit_string))\n",
    "digit_string = \"29\"\n",
    "print(two(digit_string))\n"
   ]
  },
  {
   "cell_type": "code",
   "execution_count": null,
   "id": "e4f81a6c",
   "metadata": {},
   "outputs": [],
   "source": []
  },
  {
   "cell_type": "code",
   "execution_count": null,
   "id": "ffe526de",
   "metadata": {},
   "outputs": [],
   "source": []
  }
 ],
 "metadata": {
  "kernelspec": {
   "display_name": "Python 3 (ipykernel)",
   "language": "python",
   "name": "python3"
  },
  "language_info": {
   "codemirror_mode": {
    "name": "ipython",
    "version": 3
   },
   "file_extension": ".py",
   "mimetype": "text/x-python",
   "name": "python",
   "nbconvert_exporter": "python",
   "pygments_lexer": "ipython3",
   "version": "3.11.5"
  }
 },
 "nbformat": 4,
 "nbformat_minor": 5
}
