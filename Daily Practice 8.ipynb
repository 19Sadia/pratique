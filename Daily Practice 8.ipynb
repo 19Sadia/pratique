{
 "cells": [
  {
   "cell_type": "code",
   "execution_count": 12,
   "id": "cb85e4a9",
   "metadata": {},
   "outputs": [
    {
     "name": "stdout",
     "output_type": "stream",
     "text": [
      "2014-01-01 02:43:56\n"
     ]
    }
   ],
   "source": [
    "# Write a Python program to convert a string to datetime.Jan 1 2014 2:43PM\n",
    "\n",
    "from datetime import datetime\n",
    "date_time=datetime.strptime('Jan 1 2014 2:43:56PM', '%b %d %Y %H:%M:%S%p')\n",
    "print(date_time)\n"
   ]
  },
  {
   "cell_type": "code",
   "execution_count": 3,
   "id": "9f1be5b0",
   "metadata": {},
   "outputs": [
    {
     "name": "stdout",
     "output_type": "stream",
     "text": [
      "2022-12-26 00:00:00\n",
      "2023-01-02 00:00:00\n",
      "2023-01-09 00:00:00\n",
      "2023-01-16 00:00:00\n",
      "2023-01-23 00:00:00\n",
      "2023-01-30 00:00:00\n",
      "2023-02-06 00:00:00\n",
      "2023-02-13 00:00:00\n",
      "2023-02-20 00:00:00\n",
      "2023-02-27 00:00:00\n",
      "2023-03-06 00:00:00\n",
      "2023-03-13 00:00:00\n",
      "2023-03-20 00:00:00\n",
      "2023-03-27 00:00:00\n",
      "2023-04-03 00:00:00\n",
      "2023-04-10 00:00:00\n",
      "2023-04-17 00:00:00\n",
      "2023-04-24 00:00:00\n",
      "2023-05-01 00:00:00\n",
      "2023-05-08 00:00:00\n",
      "2023-05-15 00:00:00\n",
      "2023-05-22 00:00:00\n",
      "2023-05-29 00:00:00\n",
      "2023-06-05 00:00:00\n",
      "2023-06-12 00:00:00\n",
      "2023-06-19 00:00:00\n",
      "2023-06-26 00:00:00\n",
      "2023-07-03 00:00:00\n",
      "2023-07-10 00:00:00\n",
      "2023-07-17 00:00:00\n",
      "2023-07-24 00:00:00\n",
      "2023-07-31 00:00:00\n",
      "2023-08-07 00:00:00\n",
      "2023-08-14 00:00:00\n",
      "2023-08-21 00:00:00\n",
      "2023-08-28 00:00:00\n",
      "2023-09-04 00:00:00\n",
      "2023-09-11 00:00:00\n",
      "2023-09-18 00:00:00\n",
      "2023-09-25 00:00:00\n",
      "2023-10-02 00:00:00\n",
      "2023-10-09 00:00:00\n",
      "2023-10-16 00:00:00\n",
      "2023-10-23 00:00:00\n",
      "2023-10-30 00:00:00\n",
      "2023-11-06 00:00:00\n",
      "2023-11-13 00:00:00\n",
      "2023-11-20 00:00:00\n",
      "2023-11-27 00:00:00\n",
      "2023-12-04 00:00:00\n",
      "2023-12-11 00:00:00\n",
      "2023-12-18 00:00:00\n",
      "2023-12-25 00:00:00\n"
     ]
    }
   ],
   "source": [
    "# Write a Python program to select all the Sundays in a specified year.\n",
    "\n",
    "\n",
    "year = '2023'\n",
    "for week in range(53):\n",
    "    print(datetime.datetime.strptime(year+str(week)+'1','%Y%W%w'))\n",
    "    #'0' indicates index number of week days"
   ]
  },
  {
   "cell_type": "code",
   "execution_count": 6,
   "id": "e89488d6",
   "metadata": {},
   "outputs": [
    {
     "name": "stdout",
     "output_type": "stream",
     "text": [
      "2023-12-22 18:44:20.211966\n",
      "2023-12-22 18:44:25.211966\n"
     ]
    }
   ],
   "source": [
    "# Write a Python program to add 5 seconds to the current time.\n",
    "\n",
    "x=datetime.datetime.now()\n",
    "y=x+datetime.timedelta(0,5)\n",
    "print(x)\n",
    "print(y)"
   ]
  },
  {
   "cell_type": "code",
   "execution_count": 8,
   "id": "ba0efb96",
   "metadata": {},
   "outputs": [
    {
     "name": "stdout",
     "output_type": "stream",
     "text": [
      "today: 2023-12-22\n",
      "yesterday: 2023-12-21\n",
      "tom: 2023-12-23\n"
     ]
    }
   ],
   "source": [
    "#Write a Python program to print yesterday, today, tomorrow.\n",
    "\n",
    "today=datetime.date.today()\n",
    "yesterday=today-datetime.timedelta(days=1)\n",
    "tom=today+datetime.timedelta(days=1)\n",
    "print('today:', today)\n",
    "print('yesterday:', yesterday)\n",
    "print('tom:', tom)"
   ]
  },
  {
   "cell_type": "code",
   "execution_count": 9,
   "id": "a7897f9f",
   "metadata": {},
   "outputs": [
    {
     "name": "stdout",
     "output_type": "stream",
     "text": [
      "2023-12-22\n",
      "2023-12-23\n",
      "2023-12-24\n",
      "2023-12-25\n",
      "2023-12-26\n",
      "2023-12-27\n"
     ]
    }
   ],
   "source": [
    "# Write a Python program to print the next 5 days starting today.\n",
    "\n",
    "today=datetime.date.today()\n",
    "for x in range(0,6):\n",
    "    print(today+datetime.timedelta(days=x))"
   ]
  },
  {
   "cell_type": "code",
   "execution_count": 10,
   "id": "b377846c",
   "metadata": {},
   "outputs": [
    {
     "name": "stdout",
     "output_type": "stream",
     "text": [
      "2023-12-22\n",
      "2023-12-23\n",
      "2023-12-24\n",
      "2023-12-25\n",
      "2023-12-26\n",
      "2023-12-27\n"
     ]
    }
   ],
   "source": [
    "# Write a Python program to print the next 5 days starting today.\n",
    "\n",
    "today=datetime.date.today()\n",
    "for x in range(0,6):\n",
    "    print(today+datetime.timedelta(days=x))"
   ]
  },
  {
   "cell_type": "code",
   "execution_count": null,
   "id": "2e4cac35",
   "metadata": {},
   "outputs": [],
   "source": []
  }
 ],
 "metadata": {
  "kernelspec": {
   "display_name": "Python 3 (ipykernel)",
   "language": "python",
   "name": "python3"
  },
  "language_info": {
   "codemirror_mode": {
    "name": "ipython",
    "version": 3
   },
   "file_extension": ".py",
   "mimetype": "text/x-python",
   "name": "python",
   "nbconvert_exporter": "python",
   "pygments_lexer": "ipython3",
   "version": "3.11.5"
  }
 },
 "nbformat": 4,
 "nbformat_minor": 5
}
