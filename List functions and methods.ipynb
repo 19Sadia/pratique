{
 "cells": [
  {
   "cell_type": "markdown",
   "id": "fe42c3df",
   "metadata": {},
   "source": [
    "### Data Structure\n",
    "It include collection which inclue list,tupe,set,dictionary,array,string"
   ]
  },
  {
   "cell_type": "markdown",
   "id": "0eaa75ae",
   "metadata": {},
   "source": [
    "### List"
   ]
  },
  {
   "cell_type": "code",
   "execution_count": 2,
   "id": "80d7089f",
   "metadata": {},
   "outputs": [
    {
     "name": "stdout",
     "output_type": "stream",
     "text": [
      "[10, 20, 30, 40, 80]\n",
      "[10, 'ram', 'pune', 97, 80]\n"
     ]
    }
   ],
   "source": [
    "#lis1 is a function\n",
    "lis1=[10,20,30,40,80] #hetrogenous \n",
    "lis2=[10,\"ram\",\"pune\",97,80] #hemogenous \n",
    "#print function\n",
    "print(lis1)\n",
    "print(lis2)"
   ]
  },
  {
   "cell_type": "code",
   "execution_count": 8,
   "id": "d5ed5340",
   "metadata": {},
   "outputs": [
    {
     "data": {
      "text/plain": [
       "[8, 7, 6, 5, 4, 3, 2]"
      ]
     },
     "execution_count": 8,
     "metadata": {},
     "output_type": "execute_result"
    }
   ],
   "source": [
    "# WAP to define the list between 1-10\n",
    "#lis1 is a function\n",
    "lis1=[1,2,3,4,5,6,7,8,9,10]\n",
    "#slicing method\n",
    "lis1[7:0:-1]"
   ]
  },
  {
   "cell_type": "raw",
   "id": "5a588eb6",
   "metadata": {},
   "source": [
    "Slicing method"
   ]
  },
  {
   "cell_type": "code",
   "execution_count": 9,
   "id": "5f358447",
   "metadata": {},
   "outputs": [
    {
     "data": {
      "text/plain": [
       "[2, 3]"
      ]
     },
     "execution_count": 9,
     "metadata": {},
     "output_type": "execute_result"
    }
   ],
   "source": [
    "# lis1 is a function\n",
    "lis1=[1,2,3,4,5,6,7,8,9,10]\n",
    "#slicing method\n",
    "lis1[1:3]"
   ]
  },
  {
   "cell_type": "code",
   "execution_count": 13,
   "id": "f89d23b4",
   "metadata": {},
   "outputs": [
    {
     "data": {
      "text/plain": [
       "[10, 9, 8, 7, 6, 5, 4, 3, 2, 1]"
      ]
     },
     "execution_count": 13,
     "metadata": {},
     "output_type": "execute_result"
    }
   ],
   "source": [
    "#lis1 is a function\n",
    "lis1=[1,2,3,4,5,6,7,8,9,10]\n",
    "#slicing method ::\n",
    "lis1[::-1]"
   ]
  },
  {
   "cell_type": "code",
   "execution_count": 15,
   "id": "1e0c24ed",
   "metadata": {},
   "outputs": [
    {
     "data": {
      "text/plain": [
       "[]"
      ]
     },
     "execution_count": 15,
     "metadata": {},
     "output_type": "execute_result"
    }
   ],
   "source": [
    "#lis1 is a function\n",
    "lis1=[1,2,3,4,5,6,7,8,9,10]\n",
    "#slicing method ::\n",
    "lis1[0:8:-1]"
   ]
  },
  {
   "cell_type": "markdown",
   "id": "43a5228b",
   "metadata": {},
   "source": [
    "Append Method"
   ]
  },
  {
   "cell_type": "code",
   "execution_count": 18,
   "id": "5f27d9d6",
   "metadata": {},
   "outputs": [
    {
     "name": "stdout",
     "output_type": "stream",
     "text": [
      "[1, 2, 3, 4, 5, 6, 7, 8, 9, 10, 2]\n"
     ]
    }
   ],
   "source": [
    "#lis1 is a function\n",
    "lis1=[1,2,3,4,5,6,7,8,9,10]\n",
    "# append method\n",
    "lis1.append(2)\n",
    "print(lis1)"
   ]
  },
  {
   "cell_type": "markdown",
   "id": "6c787b08",
   "metadata": {},
   "source": [
    "Insert Method"
   ]
  },
  {
   "cell_type": "code",
   "execution_count": 20,
   "id": "80f10e19",
   "metadata": {
    "scrolled": true
   },
   "outputs": [
    {
     "name": "stdout",
     "output_type": "stream",
     "text": [
      "[1, 2, 3, 4, 11, 5, 6, 7, 8, 9, 10]\n"
     ]
    }
   ],
   "source": [
    "#lis1 is a function\n",
    "lis1=[1,2,3,4,5,6,7,8,9,10]\n",
    "# insert method\n",
    "lis1.insert(4,11)\n",
    "print(lis1)"
   ]
  },
  {
   "cell_type": "markdown",
   "id": "172319b6",
   "metadata": {},
   "source": [
    "Extend Method"
   ]
  },
  {
   "cell_type": "code",
   "execution_count": 24,
   "id": "571b11ba",
   "metadata": {
    "scrolled": true
   },
   "outputs": [
    {
     "name": "stdout",
     "output_type": "stream",
     "text": [
      "[1, 2, 3, 4, 5, 6, 7, 8, 9, 10, 'cow', 'pink', 33, 87, 'hulk', 40, 'buzz']\n"
     ]
    }
   ],
   "source": [
    "#lis1 and lis2 are a function\n",
    "lis1=[1,2,3,4,5,6,7,8,9,10]\n",
    "lis2=['cow','pink',33,87,'hulk',40,'buzz']\n",
    "# extend method\n",
    "lis1.extend(lis2)\n",
    "print(lis1)"
   ]
  },
  {
   "cell_type": "markdown",
   "id": "53683fd5",
   "metadata": {},
   "source": [
    "Length Method"
   ]
  },
  {
   "cell_type": "code",
   "execution_count": 25,
   "id": "dd1b0819",
   "metadata": {},
   "outputs": [
    {
     "data": {
      "text/plain": [
       "7"
      ]
     },
     "execution_count": 25,
     "metadata": {},
     "output_type": "execute_result"
    }
   ],
   "source": [
    "#lis2 is a function\n",
    "lis2=['cow','pink',33,87,'hulk',40,'buzz']\n",
    "#length is a method\n",
    "len(lis2)"
   ]
  },
  {
   "cell_type": "markdown",
   "id": "7a25a995",
   "metadata": {},
   "source": [
    "Removing elements "
   ]
  },
  {
   "cell_type": "markdown",
   "id": "5118265a",
   "metadata": {},
   "source": [
    "Pop Method"
   ]
  },
  {
   "cell_type": "code",
   "execution_count": 26,
   "id": "b5bb19df",
   "metadata": {},
   "outputs": [
    {
     "data": {
      "text/plain": [
       "'buzz'"
      ]
     },
     "execution_count": 26,
     "metadata": {},
     "output_type": "execute_result"
    }
   ],
   "source": [
    "lis2=['cow','pink',33,87,'hulk',40,'buzz']\n",
    "#pop method\n",
    "lis2.pop()"
   ]
  },
  {
   "cell_type": "code",
   "execution_count": 27,
   "id": "79100a57",
   "metadata": {},
   "outputs": [
    {
     "data": {
      "text/plain": [
       "87"
      ]
     },
     "execution_count": 27,
     "metadata": {},
     "output_type": "execute_result"
    }
   ],
   "source": [
    "lis2=['cow','pink',33,87,'hulk',40,'buzz']\n",
    "#pop method\n",
    "lis2.pop(3)"
   ]
  },
  {
   "cell_type": "markdown",
   "id": "3aba88ed",
   "metadata": {},
   "source": [
    "Remove Method"
   ]
  },
  {
   "cell_type": "code",
   "execution_count": 32,
   "id": "738ecc78",
   "metadata": {},
   "outputs": [
    {
     "name": "stdout",
     "output_type": "stream",
     "text": [
      "['cow', 'pink', 87, 'hulk', 40, 'buzz']\n"
     ]
    }
   ],
   "source": [
    "lis2=['cow','pink',33,87,'hulk',40,'buzz']\n",
    "#remove method\n",
    "lis2.remove(33)\n",
    "print(lis2)"
   ]
  },
  {
   "cell_type": "markdown",
   "id": "ca23d46a",
   "metadata": {},
   "source": [
    "Delete method"
   ]
  },
  {
   "cell_type": "code",
   "execution_count": 34,
   "id": "1773d54b",
   "metadata": {},
   "outputs": [
    {
     "name": "stdout",
     "output_type": "stream",
     "text": [
      "['cow', 'pink', 33, 'hulk', 40, 'buzz']\n"
     ]
    }
   ],
   "source": [
    "lis2=['cow','pink',33,87,'hulk',40,'buzz']\n",
    "#Delete method\n",
    "del lis2[3]\n",
    "print(lis2)"
   ]
  },
  {
   "cell_type": "code",
   "execution_count": 37,
   "id": "4518ce3d",
   "metadata": {},
   "outputs": [
    {
     "ename": "NameError",
     "evalue": "name 'lis2' is not defined",
     "output_type": "error",
     "traceback": [
      "\u001b[1;31m---------------------------------------------------------------------------\u001b[0m",
      "\u001b[1;31mNameError\u001b[0m                                 Traceback (most recent call last)",
      "Cell \u001b[1;32mIn[37], line 4\u001b[0m\n\u001b[0;32m      2\u001b[0m \u001b[38;5;66;03m#Delete method\u001b[39;00m\n\u001b[0;32m      3\u001b[0m \u001b[38;5;28;01mdel\u001b[39;00m lis2\n\u001b[1;32m----> 4\u001b[0m \u001b[38;5;28mprint\u001b[39m(lis2)\n",
      "\u001b[1;31mNameError\u001b[0m: name 'lis2' is not defined"
     ]
    }
   ],
   "source": [
    "lis2=['cow','pink',33,87,'hulk',40,'buzz']\n",
    "#Delete method\n",
    "del lis2\n",
    "print(lis2)"
   ]
  },
  {
   "cell_type": "markdown",
   "id": "d7850877",
   "metadata": {},
   "source": [
    "clear method"
   ]
  },
  {
   "cell_type": "code",
   "execution_count": 39,
   "id": "6cba755a",
   "metadata": {},
   "outputs": [
    {
     "ename": "NameError",
     "evalue": "name 'lis2' is not defined",
     "output_type": "error",
     "traceback": [
      "\u001b[1;31m---------------------------------------------------------------------------\u001b[0m",
      "\u001b[1;31mNameError\u001b[0m                                 Traceback (most recent call last)",
      "Cell \u001b[1;32mIn[39], line 2\u001b[0m\n\u001b[0;32m      1\u001b[0m \u001b[38;5;66;03m#clear method\u001b[39;00m\n\u001b[1;32m----> 2\u001b[0m lis2\u001b[38;5;241m.\u001b[39mclear()\n\u001b[0;32m      3\u001b[0m \u001b[38;5;28mprint\u001b[39m(lis2)\n",
      "\u001b[1;31mNameError\u001b[0m: name 'lis2' is not defined"
     ]
    }
   ],
   "source": [
    "#clear method\n",
    "lis2.clear()\n",
    "print(lis2)"
   ]
  },
  {
   "cell_type": "markdown",
   "id": "f4687a28",
   "metadata": {},
   "source": [
    "Sort method"
   ]
  },
  {
   "cell_type": "code",
   "execution_count": 42,
   "id": "07c27fc6",
   "metadata": {},
   "outputs": [
    {
     "name": "stdout",
     "output_type": "stream",
     "text": [
      "[1, 2, 3, 16, 21, 30, 45, 50, 100]\n"
     ]
    }
   ],
   "source": [
    "# Sort method\n",
    "# sorts the list in to ascending and descending order.\n",
    "a=[45,21,1,2,3,16,50,100,30]\n",
    "a.sort()\n",
    "# output: the list is sort into smaller to bigger number\n",
    "print(a)"
   ]
  },
  {
   "cell_type": "code",
   "execution_count": 44,
   "id": "8df3fdaf",
   "metadata": {},
   "outputs": [
    {
     "name": "stdout",
     "output_type": "stream",
     "text": [
      "['bird', 'cat', 'cow', 'dog']\n"
     ]
    }
   ],
   "source": [
    "# with characters\n",
    "b=['cow','dog','cat','bird']\n",
    "b.sort()\n",
    "print(b)\n",
    "# output: this methon can even be used with characters"
   ]
  },
  {
   "cell_type": "code",
   "execution_count": 48,
   "id": "17b1befb",
   "metadata": {},
   "outputs": [
    {
     "name": "stdout",
     "output_type": "stream",
     "text": [
      "[100, 50, 45, 30, 21, 16, 3, 2, 1]\n"
     ]
    }
   ],
   "source": [
    "# sort method with decreasing order\n",
    "a=[45,21,1,2,3,16,50,100,30]\n",
    "# with using reverse=True we can print the list in decresing order.\n",
    "a.sort(reverse=True) \n",
    "print(a)\n",
    "# output: the result is print in desending to ascending order."
   ]
  },
  {
   "cell_type": "code",
   "execution_count": 49,
   "id": "6300a68d",
   "metadata": {},
   "outputs": [
    {
     "name": "stdout",
     "output_type": "stream",
     "text": [
      "[30, 100, 50, 16, 3, 2, 1, 21, 45]\n"
     ]
    }
   ],
   "source": [
    "# Reverser method\n",
    "# reverse the orginal list\n",
    "a=[45,21,1,2,3,16,50,100,30]\n",
    "a.reverse()\n",
    "# output: the list starts from the last element and goes up to the first element.\n",
    "print(a)"
   ]
  },
  {
   "cell_type": "markdown",
   "id": "d6f9aab5",
   "metadata": {},
   "source": [
    "Index Method"
   ]
  },
  {
   "cell_type": "code",
   "execution_count": 50,
   "id": "cb4aca4e",
   "metadata": {},
   "outputs": [
    {
     "name": "stdout",
     "output_type": "stream",
     "text": [
      "4\n"
     ]
    }
   ],
   "source": [
    "# Index Method\n",
    "# give the index value of the element\n",
    "a=[45,21,1,2,3,16,50,100,30]\n",
    "print(a.index(3))\n",
    "# output: it gives the index value of the given input, in this case the input is '3' and index value of 3 is '4'."
   ]
  },
  {
   "cell_type": "markdown",
   "id": "f02a8caf",
   "metadata": {},
   "source": [
    "Count Method"
   ]
  },
  {
   "cell_type": "code",
   "execution_count": 51,
   "id": "48337a1e",
   "metadata": {},
   "outputs": [
    {
     "name": "stdout",
     "output_type": "stream",
     "text": [
      "2\n"
     ]
    }
   ],
   "source": [
    "# Count Method\n",
    "# count repeated element in the list\n",
    "a=[45,21,1,2,3,16,50,100,30,1,2,3,16,50]\n",
    "print(a.count(1))\n",
    "# output: count how many time the elements are repeated in the list, '1' is repeated twice so the result is '2'."
   ]
  },
  {
   "cell_type": "markdown",
   "id": "5735bc7f",
   "metadata": {},
   "source": [
    "Copy Method"
   ]
  },
  {
   "cell_type": "code",
   "execution_count": 57,
   "id": "773b35df",
   "metadata": {},
   "outputs": [
    {
     "name": "stdout",
     "output_type": "stream",
     "text": [
      "[45, 21, 1, 2, 3, 16, 50, 100, 30]\n"
     ]
    }
   ],
   "source": [
    "# Copy Method\n",
    "# Returns copy of the list, to perform function of copied list without changing the orginal list.\n",
    "a=[45,21,1,2,3,16,50,100,30]\n",
    "l=a.copy()\n",
    "# output: copied the 'a' list into 'l' list.\n",
    "print(l)"
   ]
  },
  {
   "cell_type": "code",
   "execution_count": 61,
   "id": "f8a9e235",
   "metadata": {},
   "outputs": [
    {
     "name": "stdout",
     "output_type": "stream",
     "text": [
      "[45, 21, 1, 2, 3, 16, 50, 100, 30, 23]\n"
     ]
    }
   ],
   "source": [
    "# change made in 'l' list\n",
    "l=[45, 21, 1, 2, 3, 16, 50, 100, 30]\n",
    "l.append(23)\n",
    "# output: 23 is added to \"l\" list at end.\n",
    "print(l)"
   ]
  },
  {
   "cell_type": "code",
   "execution_count": 62,
   "id": "7a90db31",
   "metadata": {},
   "outputs": [
    {
     "data": {
      "text/plain": [
       "[45, 21, 1, 2, 3, 16, 50, 100, 30]"
      ]
     },
     "execution_count": 62,
     "metadata": {},
     "output_type": "execute_result"
    }
   ],
   "source": [
    "a\n",
    "#output: not change is made to teh orginal."
   ]
  },
  {
   "cell_type": "markdown",
   "id": "9f4ca1e0",
   "metadata": {},
   "source": [
    "Concatenating 2 list"
   ]
  },
  {
   "cell_type": "code",
   "execution_count": 65,
   "id": "a2067eaf",
   "metadata": {},
   "outputs": [
    {
     "name": "stdout",
     "output_type": "stream",
     "text": [
      "[45, 21, 1, 2, 3, 16, 50, 100, 30, 500, 530, 98, 7, 9]\n"
     ]
    }
   ],
   "source": [
    "# Joining two list\n",
    "a=[45,21,1,2,3,16,50,100,30]\n",
    "b=[500,530,98,7,9]\n",
    "#output: 'a'and 'b' list are joint together (a list )\n",
    "print(a+b) # a list come before b list"
   ]
  },
  {
   "cell_type": "code",
   "execution_count": 66,
   "id": "b9eca6b5",
   "metadata": {},
   "outputs": [
    {
     "name": "stdout",
     "output_type": "stream",
     "text": [
      "[500, 530, 98, 7, 9, 45, 21, 1, 2, 3, 16, 50, 100, 30]\n"
     ]
    }
   ],
   "source": [
    "a=[45,21,1,2,3,16,50,100,30]\n",
    "b=[500,530,98,7,9]\n",
    "#output: 'a'and 'b' list are joint together (a list )\n",
    "print(b+a) # 'b' list come before 'a' list"
   ]
  },
  {
   "cell_type": "markdown",
   "id": "7cad730f",
   "metadata": {},
   "source": [
    "Reverse "
   ]
  },
  {
   "cell_type": "code",
   "execution_count": 2,
   "id": "9e673fc8",
   "metadata": {},
   "outputs": [
    {
     "name": "stdout",
     "output_type": "stream",
     "text": [
      "[9, 8, 7, 6, 5, 4, 3, 2, 1]\n"
     ]
    }
   ],
   "source": [
    "# Reverse the order of the list.\n",
    "n=[1,2,3,4,5,6,7,8,9]\n",
    "n.reverse()\n",
    "print(n)\n",
    "# output: reverse the order of the list 'n'."
   ]
  },
  {
   "cell_type": "markdown",
   "id": "521d9002",
   "metadata": {},
   "source": [
    "Maxsimum"
   ]
  },
  {
   "cell_type": "code",
   "execution_count": null,
   "id": "453fedc8",
   "metadata": {},
   "outputs": [],
   "source": []
  }
 ],
 "metadata": {
  "kernelspec": {
   "display_name": "Python 3 (ipykernel)",
   "language": "python",
   "name": "python3"
  },
  "language_info": {
   "codemirror_mode": {
    "name": "ipython",
    "version": 3
   },
   "file_extension": ".py",
   "mimetype": "text/x-python",
   "name": "python",
   "nbconvert_exporter": "python",
   "pygments_lexer": "ipython3",
   "version": "3.11.5"
  }
 },
 "nbformat": 4,
 "nbformat_minor": 5
}
