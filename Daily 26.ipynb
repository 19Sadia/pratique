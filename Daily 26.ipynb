{
 "cells": [
  {
   "cell_type": "code",
   "execution_count": 19,
   "id": "13c06672",
   "metadata": {},
   "outputs": [
    {
     "name": "stdout",
     "output_type": "stream",
     "text": [
      "enter:0\n"
     ]
    }
   ],
   "source": [
    "# Write a program in Python to check if a number is binary?\n",
    "num=int(input('enter:'))\n",
    "while (num>0):\n",
    "    j=num%10\n",
    "    if j!=0 and j!=1:\n",
    "        print(\"num is not binary\")\n",
    "        break\n",
    "    num=num//10\n",
    "    if num==0:\n",
    "        print(\"num is binary\") \n",
    "        "
   ]
  },
  {
   "cell_type": "code",
   "execution_count": 23,
   "id": "70776905",
   "metadata": {},
   "outputs": [
    {
     "name": "stdout",
     "output_type": "stream",
     "text": [
      "enter A:2\n",
      "enter B:3\n",
      "value of a: 3\n",
      "value of b: 2\n"
     ]
    }
   ],
   "source": [
    "# Swap two variables without using the third variable in Python\n",
    "\n",
    "a=int(input('enter A:'))\n",
    "b=int(input('enter B:'))\n",
    "a=a-b\n",
    "b=b+a\n",
    "a=b-a\n",
    "print('value of a:',a)\n",
    "print('value of b:',b)"
   ]
  },
  {
   "cell_type": "code",
   "execution_count": 24,
   "id": "a3f2ef60",
   "metadata": {},
   "outputs": [
    {
     "name": "stdout",
     "output_type": "stream",
     "text": [
      "enter A:3\n",
      "enter B:4\n",
      "value of a: 4\n",
      "value of b: 3\n"
     ]
    }
   ],
   "source": [
    "# Write a program in Python to swap two numbers using third variable?\n",
    "a=int(input('enter A:'))\n",
    "b=int(input('enter B:'))\n",
    "tem=a\n",
    "a=b\n",
    "b=tem\n",
    "print('value of a:',a)\n",
    "print('value of b:',b)"
   ]
  },
  {
   "cell_type": "code",
   "execution_count": 29,
   "id": "00ee7a34",
   "metadata": {},
   "outputs": [
    {
     "name": "stdout",
     "output_type": "stream",
     "text": [
      "25\n"
     ]
    }
   ],
   "source": [
    "# Write a program in Python to add two integer without using arithmetic operator?\n",
    "def add(num,num1):\n",
    "    while num1!=0:\n",
    "        tem=num&num1\n",
    "        num=num^num1\n",
    "        num1=tem<<1\n",
    "    return num\n",
    "num = 10\n",
    "num1 = 15\n",
    "result = add(num, num1)\n",
    "print(result)\n",
    "        "
   ]
  },
  {
   "cell_type": "code",
   "execution_count": 30,
   "id": "94a85f59",
   "metadata": {},
   "outputs": [
    {
     "name": "stdout",
     "output_type": "stream",
     "text": [
      "enter:6\n",
      "Prefect number\n"
     ]
    }
   ],
   "source": [
    "num=int(input('enter:'))\n",
    "s=0\n",
    "for x in range(1,(num//2)+1):\n",
    "    rem=num%x\n",
    "    if rem ==0:\n",
    "        s=s+x\n",
    "if s==num:\n",
    "    print('Prefect number')\n",
    "else:\n",
    "    print('Not a prefect number')"
   ]
  },
  {
   "cell_type": "code",
   "execution_count": null,
   "id": "f95e44e5",
   "metadata": {},
   "outputs": [],
   "source": []
  }
 ],
 "metadata": {
  "kernelspec": {
   "display_name": "Python 3 (ipykernel)",
   "language": "python",
   "name": "python3"
  },
  "language_info": {
   "codemirror_mode": {
    "name": "ipython",
    "version": 3
   },
   "file_extension": ".py",
   "mimetype": "text/x-python",
   "name": "python",
   "nbconvert_exporter": "python",
   "pygments_lexer": "ipython3",
   "version": "3.10.13"
  }
 },
 "nbformat": 4,
 "nbformat_minor": 5
}
