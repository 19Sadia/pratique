{
 "cells": [
  {
   "cell_type": "code",
   "execution_count": 1,
   "id": "d74ecee3",
   "metadata": {},
   "outputs": [
    {
     "name": "stdout",
     "output_type": "stream",
     "text": [
      "Red\n",
      "Purple\n",
      " "
     ]
    }
   ],
   "source": [
    "# Write a Python program to display the first and last colors from the following list.\n",
    "a = [\"Red\",\"Green\",\"White\" ,\"Black\",\"Purple\"]\n",
    "print(a[0])\n",
    "print(a[-1])\n",
    "print(\" \",end='')"
   ]
  },
  {
   "cell_type": "code",
   "execution_count": 2,
   "id": "6b6c97c0",
   "metadata": {},
   "outputs": [
    {
     "name": "stdout",
     "output_type": "stream",
     "text": [
      "  *       *   \n",
      "  *       *   \n",
      "  * *   * *   \n",
      "  *   *   *   \n",
      "  *       *   \n",
      "  *       *   \n",
      "  *       *   \n",
      "\n"
     ]
    }
   ],
   "source": [
    "# Write a Python program to print the alphabet pattern 'M'.\n",
    "resul=\"\";\n",
    "for x in range(0,7):\n",
    "    for y in range(0,7):\n",
    "        if (y==1 or y==5 or (x==2 and (y==2 or y==4)) or (x==3 and y==3)):\n",
    "            resul=resul+'* '\n",
    "        else:\n",
    "            resul=resul+'  '\n",
    "    resul=resul+'\\n'\n",
    "print(resul);"
   ]
  },
  {
   "cell_type": "code",
   "execution_count": 3,
   "id": "5ef88e0c",
   "metadata": {},
   "outputs": [
    {
     "name": "stdout",
     "output_type": "stream",
     "text": [
      "120\n"
     ]
    }
   ],
   "source": [
    "# Write a Python function to multiply all the numbers in a list.\n",
    "def mul(l):\n",
    "    s=1\n",
    "    for x in (l):\n",
    "        s=s*x\n",
    "    return s\n",
    "col=[1,2,3,4,5]\n",
    "result=mul(col)\n",
    "print(result)"
   ]
  },
  {
   "cell_type": "code",
   "execution_count": 5,
   "id": "dfac71a8",
   "metadata": {},
   "outputs": [
    {
     "name": "stdout",
     "output_type": "stream",
     "text": [
      "entersadiyamankat\n",
      "Upper Case Letters:- 0\n",
      "Lower Case Letters:- 12\n"
     ]
    }
   ],
   "source": [
    "# Write a Python function that accepts a string and counts the number of upper and lower case letters.\n",
    "def st(a):\n",
    "    c1=0\n",
    "    c2=0\n",
    "    for i in a:\n",
    "        if i.isupper():\n",
    "            c1+=1\n",
    "        elif i.islower():\n",
    "            c2+=1\n",
    "    print(\"Upper Case Letters:-\",c1)\n",
    "    print(\"Lower Case Letters:-\",c2)\n",
    "\n",
    "b=input(\"enter\")\n",
    "st(b)"
   ]
  },
  {
   "cell_type": "code",
   "execution_count": 6,
   "id": "236bb386",
   "metadata": {},
   "outputs": [
    {
     "name": "stdout",
     "output_type": "stream",
     "text": [
      "enter4\n"
     ]
    },
    {
     "data": {
      "text/plain": [
       "24"
      ]
     },
     "execution_count": 6,
     "metadata": {},
     "output_type": "execute_result"
    }
   ],
   "source": [
    "# Write a Python function to calculate the factorial of a number. The function accepts the number as an argument.\n",
    "\n",
    "def f(a):\n",
    "    if a==0:\n",
    "        return 1\n",
    "    else:\n",
    "        return a * f(a-1)\n",
    "b=int(input(\"enter\"))\n",
    "f(b)"
   ]
  },
  {
   "cell_type": "code",
   "execution_count": null,
   "id": "077ada5c",
   "metadata": {},
   "outputs": [],
   "source": []
  }
 ],
 "metadata": {
  "kernelspec": {
   "display_name": "Python 3 (ipykernel)",
   "language": "python",
   "name": "python3"
  },
  "language_info": {
   "codemirror_mode": {
    "name": "ipython",
    "version": 3
   },
   "file_extension": ".py",
   "mimetype": "text/x-python",
   "name": "python",
   "nbconvert_exporter": "python",
   "pygments_lexer": "ipython3",
   "version": "3.11.5"
  }
 },
 "nbformat": 4,
 "nbformat_minor": 5
}
