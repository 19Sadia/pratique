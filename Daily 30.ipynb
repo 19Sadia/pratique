{
 "cells": [
  {
   "cell_type": "code",
   "execution_count": 7,
   "id": "df2c6dbe",
   "metadata": {},
   "outputs": [
    {
     "name": "stdout",
     "output_type": "stream",
     "text": [
      "Please Enter a decimal number: 234\n",
      "352\n"
     ]
    }
   ],
   "source": [
    "# Python Program to convert Decimal number to Octal number.\n",
    "\n",
    "def octal(decimal):\n",
    "    if decimal==0:\n",
    "        return \"\"\n",
    "    remainder = decimal % 8\n",
    "    quotient = decimal // 8\n",
    "    return octal(quotient) + str(remainder)\n",
    "decimal = int(input(\"Please Enter a decimal number: \"))\n",
    "octal = octal(decimal)\n",
    "print(octal)"
   ]
  },
  {
   "cell_type": "code",
   "execution_count": 10,
   "id": "1dcfa2c6",
   "metadata": {},
   "outputs": [
    {
     "name": "stdout",
     "output_type": "stream",
     "text": [
      "enter: 34\n",
      "100010\n"
     ]
    }
   ],
   "source": [
    "# Python Program to Convert Decimal Number into Binary.\n",
    "\n",
    "tem=int(input('enter: '))\n",
    "binary=''\n",
    "while tem > 0:\n",
    "    rem=tem%2\n",
    "    tem=tem//2\n",
    "    binary=str(rem)+binary\n",
    "print(binary)"
   ]
  },
  {
   "cell_type": "code",
   "execution_count": 18,
   "id": "a78b7a9f",
   "metadata": {},
   "outputs": [
    {
     "name": "stdout",
     "output_type": "stream",
     "text": [
      "enter: 34\n",
      "100010\n"
     ]
    }
   ],
   "source": [
    "tem=int(input('enter: '))\n",
    "binary=bin(tem)\n",
    "print(binary[2:])"
   ]
  },
  {
   "cell_type": "code",
   "execution_count": 22,
   "id": "b482363a",
   "metadata": {},
   "outputs": [
    {
     "name": "stdout",
     "output_type": "stream",
     "text": [
      "Year: 2023\n",
      "A not leap year\n"
     ]
    }
   ],
   "source": [
    "# Python Program to check the given year is a leap year or not.\n",
    "\n",
    "year=int(input('Year: '))\n",
    "if (year%4==0):\n",
    "    print('A leap year')\n",
    "elif (year%400==0):\n",
    "    print('A leap year')\n",
    "elif year%100==0:\n",
    "    print('A leap year')\n",
    "else:\n",
    "    print('A not leap year')"
   ]
  },
  {
   "cell_type": "code",
   "execution_count": 24,
   "id": "c88cd6d5",
   "metadata": {},
   "outputs": [
    {
     "name": "stdout",
     "output_type": "stream",
     "text": [
      "Celsius to Fahrenheit: 34\n",
      "93.2\n"
     ]
    }
   ],
   "source": [
    "# Python Program to convert Celsius to Fahrenheit.\n",
    "C=int(input('Celsius to Fahrenheit: '))\n",
    "F=(C*1.8)+32\n",
    "print(F)"
   ]
  },
  {
   "cell_type": "code",
   "execution_count": 26,
   "id": "7466e8fd",
   "metadata": {},
   "outputs": [
    {
     "name": "stdout",
     "output_type": "stream",
     "text": [
      "Fahrenheit to Celsius: 45\n",
      "7.222222222222222\n"
     ]
    }
   ],
   "source": [
    "# Python Program to convert Fahrenheit to Celsius.\n",
    "F=int(input('Fahrenheit to Celsius: '))\n",
    "C=((F-32)*5)/9\n",
    "print(C)"
   ]
  },
  {
   "cell_type": "code",
   "execution_count": 29,
   "id": "8a4a2d72",
   "metadata": {},
   "outputs": [
    {
     "name": "stdout",
     "output_type": "stream",
     "text": [
      "Princpal Amt: 2000\n",
      "Interest Rate: 3\n",
      "Time: 4\n",
      "240.0\n"
     ]
    }
   ],
   "source": [
    "# Python program to calculate Simple Interest with explanation.\n",
    "P=int(input('Princpal Amt: '))\n",
    "IR=int(input('Interest Rate: '))\n",
    "T=int(input('Time: '))\n",
    "SI=(P*IR*T)/100\n",
    "print(SI)"
   ]
  },
  {
   "cell_type": "code",
   "execution_count": null,
   "id": "db954f4c",
   "metadata": {},
   "outputs": [],
   "source": []
  }
 ],
 "metadata": {
  "kernelspec": {
   "display_name": "Python 3 (ipykernel)",
   "language": "python",
   "name": "python3"
  },
  "language_info": {
   "codemirror_mode": {
    "name": "ipython",
    "version": 3
   },
   "file_extension": ".py",
   "mimetype": "text/x-python",
   "name": "python",
   "nbconvert_exporter": "python",
   "pygments_lexer": "ipython3",
   "version": "3.10.13"
  }
 },
 "nbformat": 4,
 "nbformat_minor": 5
}
