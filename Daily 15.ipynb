{
 "cells": [
  {
   "cell_type": "code",
   "execution_count": 2,
   "id": "f6ed0b91",
   "metadata": {},
   "outputs": [
    {
     "name": "stdout",
     "output_type": "stream",
     "text": [
      "8\n"
     ]
    }
   ],
   "source": [
    "import re\n",
    "# Counting Special Characters in a String\n",
    "\n",
    "sp='@#$%^&*%'\n",
    "\n",
    "sccount=re.findall(\"[\\W]\",sp)\n",
    "\n",
    "print(len(sccount))"
   ]
  },
  {
   "cell_type": "code",
   "execution_count": 3,
   "id": "0001023c",
   "metadata": {},
   "outputs": [
    {
     "name": "stdout",
     "output_type": "stream",
     "text": [
      "6\n",
      "14\n",
      "3\n"
     ]
    }
   ],
   "source": [
    "word='kharadi pinco de 411014'\n",
    "\n",
    "digit=re.findall('[0-9]',word)\n",
    "letter=re.findall('[a-zA-Z]',word)\n",
    "space=re.findall(\"[ \\n]\", word)\n",
    "\n",
    "print(len(digit))\n",
    "print(len(letter))\n",
    "print(len(space))"
   ]
  },
  {
   "cell_type": "code",
   "execution_count": 4,
   "id": "2f15b901",
   "metadata": {},
   "outputs": [
    {
     "name": "stdout",
     "output_type": "stream",
     "text": [
      "False\n"
     ]
    }
   ],
   "source": [
    "# Comparing Two Strings for Anagrams\n",
    "\n",
    "str1='listen'\n",
    "str2='rain'\n",
    "\n",
    "str1=list(str1)\n",
    "str2=list(str2)\n",
    "str1.sort(), str2.sort()\n",
    "\n",
    "if (str1==str2):\n",
    "    print(True)\n",
    "    \n",
    "else:\n",
    "    print(False)\n"
   ]
  },
  {
   "cell_type": "code",
   "execution_count": 5,
   "id": "39a0e40b",
   "metadata": {},
   "outputs": [
    {
     "name": "stdout",
     "output_type": "stream",
     "text": [
      "55\n"
     ]
    }
   ],
   "source": [
    "# Finding the Middle Element in a List\n",
    "\n",
    "list1=[1,2,3,4,5,55,66,100,47,90]\n",
    "middle=int(len(list1)/2)\n",
    "print(list1[middle])"
   ]
  },
  {
   "cell_type": "code",
   "execution_count": null,
   "id": "e4db8f26",
   "metadata": {},
   "outputs": [],
   "source": []
  }
 ],
 "metadata": {
  "kernelspec": {
   "display_name": "Python 3 (ipykernel)",
   "language": "python",
   "name": "python3"
  },
  "language_info": {
   "codemirror_mode": {
    "name": "ipython",
    "version": 3
   },
   "file_extension": ".py",
   "mimetype": "text/x-python",
   "name": "python",
   "nbconvert_exporter": "python",
   "pygments_lexer": "ipython3",
   "version": "3.11.5"
  }
 },
 "nbformat": 4,
 "nbformat_minor": 5
}
