{
 "cells": [
  {
   "cell_type": "code",
   "execution_count": 1,
   "id": "dd3eafdd",
   "metadata": {},
   "outputs": [
    {
     "name": "stdout",
     "output_type": "stream",
     "text": [
      "[1, 4, 9, 16, 25, 36, 49, 64, 81, 100]\n",
      "[1, 8, 27, 64, 125, 216, 343, 512, 729, 1000]\n"
     ]
    }
   ],
   "source": [
    "# Write a Python program to square and cube every number in a given list of integers using Lambda.\n",
    "\n",
    "a=[1,2,3,4,5,6,7,8,9,10]\n",
    "result=map(lambda a: a**2,a)\n",
    "print(list(result))\n",
    "\n",
    "result=map(lambda a: a**3,a)\n",
    "print(list(result))"
   ]
  },
  {
   "cell_type": "code",
   "execution_count": 7,
   "id": "ca04c9c7",
   "metadata": {},
   "outputs": [
    {
     "name": "stdout",
     "output_type": "stream",
     "text": [
      "* * * * * * * \n",
      "          *   \n",
      "        *     \n",
      "      *       \n",
      "    *         \n",
      "  *           \n",
      "* * * * * * * \n",
      "\n"
     ]
    }
   ],
   "source": [
    "# Write a Python program to print the alphabet pattern 'Z'.\n",
    "\n",
    "resul='';\n",
    "for x in range(0,7):\n",
    "    for y in range (0,7):\n",
    "        if x==0 or x==6 and y>=0 and y<=6 or x+y==6:\n",
    "            resul=resul+'* '\n",
    "        else:\n",
    "            resul=resul+'  '\n",
    "    resul=resul+'\\n'\n",
    "print(resul);"
   ]
  },
  {
   "cell_type": "code",
   "execution_count": 8,
   "id": "a45de669",
   "metadata": {},
   "outputs": [
    {
     "name": "stdout",
     "output_type": "stream",
     "text": [
      "* * * * *     \n",
      "*         *   \n",
      "*         *   \n",
      "* * * * *     \n",
      "*             \n",
      "*             \n",
      "*             \n",
      "\n"
     ]
    }
   ],
   "source": [
    "# Write a Python program to print the alphabet pattern 'P'.\n",
    "\n",
    "resul='';\n",
    "for x in range(0,7):\n",
    "    for y in range (0,7):\n",
    "        if (y==0 or ((x==0 or x==3) and y>0 and y<5) or ((y==5 or y==0) and (x==1 or x==2))):\n",
    "            resul=resul+'* '\n",
    "        else:\n",
    "            resul=resul+'  '\n",
    "    resul=resul+'\\n'\n",
    "print(resul);"
   ]
  },
  {
   "cell_type": "code",
   "execution_count": 14,
   "id": "2a5a0e55",
   "metadata": {},
   "outputs": [
    {
     "name": "stdout",
     "output_type": "stream",
     "text": [
      "Monday\n",
      "Friday\n",
      "Sunday\n"
     ]
    }
   ],
   "source": [
    "# Write a Python program to filter a given list to determine if the values in the list have a length of 6 using Lambda.\n",
    "\n",
    "weekdays = ['Monday', 'Tuesday', 'Wednesday', 'Thursday', 'Friday', 'Saturday', 'Sunday']\n",
    "days = filter(lambda day: len(day)==6,weekdays)\n",
    "for d in days:\n",
    "    print(d)"
   ]
  },
  {
   "cell_type": "code",
   "execution_count": 17,
   "id": "c29ab04f",
   "metadata": {},
   "outputs": [
    {
     "name": "stdout",
     "output_type": "stream",
     "text": [
      "enter45\n",
      "Amount to pay : 0\n"
     ]
    }
   ],
   "source": [
    "#Write a program to calculate the electricity bill (accept number of unit from user) according to the following criteria : Unit Price\n",
    "#First 100 units no charge Next 100 units Rs 5 per unit After 200 units Rs 10 per unit (For example if input unit is 350 than total bill amount is Rs2000)\n",
    "\n",
    "amt=0\n",
    "num=int(input(\"enter\"))\n",
    "if num<100:\n",
    "    amt=0\n",
    "if num>100 and num<200:\n",
    "    amt=(num-100)*5\n",
    "if num>200:\n",
    "    amt=500+(num-200)*10\n",
    "print(\"Amount to pay :\",amt)"
   ]
  },
  {
   "cell_type": "code",
   "execution_count": null,
   "id": "223bf215",
   "metadata": {},
   "outputs": [],
   "source": []
  }
 ],
 "metadata": {
  "kernelspec": {
   "display_name": "Python 3 (ipykernel)",
   "language": "python",
   "name": "python3"
  },
  "language_info": {
   "codemirror_mode": {
    "name": "ipython",
    "version": 3
   },
   "file_extension": ".py",
   "mimetype": "text/x-python",
   "name": "python",
   "nbconvert_exporter": "python",
   "pygments_lexer": "ipython3",
   "version": "3.11.5"
  }
 },
 "nbformat": 4,
 "nbformat_minor": 5
}
