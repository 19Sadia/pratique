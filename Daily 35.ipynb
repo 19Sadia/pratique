{
 "cells": [
  {
   "cell_type": "code",
   "execution_count": 9,
   "id": "524d4008",
   "metadata": {},
   "outputs": [
    {
     "name": "stdout",
     "output_type": "stream",
     "text": [
      "enter:sadiya0112\n",
      "4\n"
     ]
    }
   ],
   "source": [
    "# Python program to calculate sum of integers in string.\n",
    "\n",
    "strg=input('enter:')\n",
    "s=0\n",
    "for x in strg:\n",
    "    if x.isdigit():\n",
    "        s=s+int(x)\n",
    "print(s)"
   ]
  },
  {
   "cell_type": "code",
   "execution_count": null,
   "id": "50fb4975",
   "metadata": {},
   "outputs": [],
   "source": [
    "# Python Program to sort character of string in descending order.\n",
    "\n"
   ]
  },
  {
   "cell_type": "code",
   "execution_count": 3,
   "id": "60d960cc",
   "metadata": {},
   "outputs": [
    {
     "name": "stdout",
     "output_type": "stream",
     "text": [
      "enter:sadiya\n",
      "sdiy\n"
     ]
    }
   ],
   "source": [
    "strg=input('enter:')\n",
    "e={}\n",
    "for x in strg:\n",
    "    if x in e:\n",
    "        e[x]+=1\n",
    "    else:\n",
    "        e[x]=1\n",
    "non=''\n",
    "for x in strg:\n",
    "    if e[x]==1:\n",
    "        non+=x\n",
    "print(non)\n",
    "    "
   ]
  },
  {
   "cell_type": "code",
   "execution_count": 1,
   "id": "8c9c59c2",
   "metadata": {},
   "outputs": [
    {
     "name": "stdout",
     "output_type": "stream",
     "text": [
      "Please enter a string: sadiya\n",
      "Non-repeating characters: sdiy\n"
     ]
    }
   ],
   "source": [
    "# Python program to print all non repeating character in string\n",
    "\n",
    "string = input('Please enter a string: ')\n",
    "freq_dict = {}\n",
    "for char in string:\n",
    "    if char in freq_dict:\n",
    "        freq_dict[char] += 1\n",
    "    else:\n",
    "        freq_dict[char] = 1\n",
    "non_repeating_chars = \"\"\n",
    "for char in string:\n",
    "    if freq_dict[char] == 1:\n",
    "        non_repeating_chars += char\n",
    "print(\"Non-repeating characters:\", non_repeating_chars)"
   ]
  },
  {
   "cell_type": "code",
   "execution_count": 9,
   "id": "9c20493b",
   "metadata": {},
   "outputs": [
    {
     "name": "stdout",
     "output_type": "stream",
     "text": [
      "Please enter a string: hi\n",
      "New string: hi\n"
     ]
    }
   ],
   "source": [
    "# Python program to copy one string to another string.\n",
    "\n",
    "strg=input('Please enter a string: ')\n",
    "new=\"\"\n",
    "for x in strg:\n",
    "    new+=x\n",
    "print(\"New string:\", new)"
   ]
  },
  {
   "cell_type": "code",
   "execution_count": 10,
   "id": "f5e6256b",
   "metadata": {},
   "outputs": [
    {
     "name": "stdout",
     "output_type": "stream",
     "text": [
      "Please enter a string: you\n",
      "New string: you\n"
     ]
    }
   ],
   "source": [
    "strg=input('Please enter a string: ')\n",
    "new=strg[:]\n",
    "print(\"New string:\", new)"
   ]
  },
  {
   "cell_type": "code",
   "execution_count": 11,
   "id": "5fbd1af2",
   "metadata": {},
   "outputs": [
    {
     "name": "stdout",
     "output_type": "stream",
     "text": [
      "Please enter a string: there\n",
      "New string: there\n"
     ]
    }
   ],
   "source": [
    "strg=input('Please enter a string: ')\n",
    "new=str(strg)\n",
    "print(\"New string:\", new)"
   ]
  },
  {
   "cell_type": "code",
   "execution_count": null,
   "id": "a598a543",
   "metadata": {},
   "outputs": [],
   "source": [
    "# Python Program to sort characters of string in ascending order.\n",
    "\n",
    "strg=input('Please enter a string: ')\n",
    "strg1=list(strg)\n",
    "print(''.join(sorted(strg1)))"
   ]
  },
  {
   "cell_type": "code",
   "execution_count": null,
   "id": "b4ab9d99",
   "metadata": {},
   "outputs": [],
   "source": []
  }
 ],
 "metadata": {
  "kernelspec": {
   "display_name": "Python 3 (ipykernel)",
   "language": "python",
   "name": "python3"
  },
  "language_info": {
   "codemirror_mode": {
    "name": "ipython",
    "version": 3
   },
   "file_extension": ".py",
   "mimetype": "text/x-python",
   "name": "python",
   "nbconvert_exporter": "python",
   "pygments_lexer": "ipython3",
   "version": "3.10.13"
  }
 },
 "nbformat": 4,
 "nbformat_minor": 5
}
