{
 "cells": [
  {
   "cell_type": "code",
   "execution_count": 1,
   "id": "13190e67",
   "metadata": {},
   "outputs": [
    {
     "name": "stdout",
     "output_type": "stream",
     "text": [
      "7\n",
      "-1\n",
      "12\n",
      "cannot be divided\n"
     ]
    }
   ],
   "source": [
    "# Write a Python program to create a calculator class. Include methods for basic arithmetic operations\n",
    "\n",
    "class calculator:\n",
    "    def add(x,y):\n",
    "        return (x+y)\n",
    "    def sub(x,y):\n",
    "        return x-y\n",
    "    def mul(x,y):\n",
    "        return x*y\n",
    "    def dic(x,y):\n",
    "        if x==0:\n",
    "            return \"cannot be divided\"\n",
    "        else:\n",
    "            return x/y\n",
    "cal=calculator()\n",
    "result=calculator.add(3,4)\n",
    "print(result)\n",
    "\n",
    "result=calculator.sub(3,4)\n",
    "print(result)\n",
    "\n",
    "result=calculator.mul(3,4)\n",
    "print(result)\n",
    "\n",
    "result=calculator.dic(0,3)\n",
    "print(result)"
   ]
  },
  {
   "cell_type": "code",
   "execution_count": 4,
   "id": "416f8874",
   "metadata": {},
   "outputs": [
    {
     "name": "stdout",
     "output_type": "stream",
     "text": [
      "['jt', 'ju', 'jv', 'kt', 'ku', 'kv', 'lt', 'lu', 'lv']\n",
      "['dz', 'ez', 'fz']\n"
     ]
    }
   ],
   "source": [
    "# Write a Python program to get all possible two-digit letter combinations from a 1-9 digit string.\n",
    "\n",
    "def two(digit):\n",
    "    if digit == '':\n",
    "        return []\n",
    "    string_maps = {\n",
    "        \"1\": \"abc\",\n",
    "        \"2\": \"def\",\n",
    "        \"3\": \"ghi\",\n",
    "        \"4\": \"jkl\",\n",
    "        \"5\": \"mno\",\n",
    "        \"6\": \"pqrs\",\n",
    "        \"7\": \"tuv\",\n",
    "        \"8\": \"wxy\",\n",
    "        \"9\": \"z\"\n",
    "    }\n",
    "    result=['']\n",
    "    for x in digit:\n",
    "        num=[]\n",
    "        for tem in result:\n",
    "            for a in  string_maps[x]:\n",
    "                num.append(tem+a)\n",
    "            result=num\n",
    "    return result\n",
    "    \n",
    "digit_string = \"47\"\n",
    "print(two(digit_string))\n",
    "digit_string = \"29\"\n",
    "print(two(digit_string))\n"
   ]
  },
  {
   "cell_type": "code",
   "execution_count": 5,
   "id": "dda24e1d",
   "metadata": {},
   "outputs": [
    {
     "name": "stdout",
     "output_type": "stream",
     "text": [
      "0\n",
      "0\n",
      "0\n"
     ]
    }
   ],
   "source": [
    "# Write a Python program to add two positive integers without using the '+' operator.\n",
    "\n",
    "def add(a,b):\n",
    "    while b!=0:\n",
    "        c= a&b\n",
    "        a=a^b\n",
    "        b=c<<1\n",
    "    return c\n",
    "print(add(2, 10))\n",
    "print(add(-20, 10))\n",
    "print(add(-10, -20))"
   ]
  },
  {
   "cell_type": "code",
   "execution_count": 6,
   "id": "3cb6cf0e",
   "metadata": {},
   "outputs": [
    {
     "name": "stdout",
     "output_type": "stream",
     "text": [
      "Input a number: 56\n",
      "672\n",
      "18.666666666666668\n",
      "0.010606060606060607\n"
     ]
    }
   ],
   "source": [
    "# Write a Python program to convert the distance (in feet) to inches, yards, and miles.\n",
    "\n",
    "a=int(input(\"Input a number: \"))\n",
    "dt_inches=a*12\n",
    "dt_yards=a/3\n",
    "dt_miles=a/5280\n",
    "\n",
    "print(dt_inches)\n",
    "print(dt_yards)\n",
    "print(dt_miles)"
   ]
  },
  {
   "cell_type": "code",
   "execution_count": 8,
   "id": "3c0397a8",
   "metadata": {},
   "outputs": [
    {
     "name": "stdout",
     "output_type": "stream",
     "text": [
      "Input a number: 4.5\n",
      "Input a number: 80\n",
      "3.95\n"
     ]
    }
   ],
   "source": [
    "# Write a Python program to calculate the body mass index.\n",
    "\n",
    "height=float(input(\"Input a number: \"))\n",
    "weight=float(input(\"Input a number: \"))\n",
    "\n",
    "bmi = weight / (height * height)\n",
    "rounded_bmi = round(bmi, 2)\n",
    "print(rounded_bmi)"
   ]
  },
  {
   "cell_type": "code",
   "execution_count": null,
   "id": "4168c646",
   "metadata": {},
   "outputs": [
    {
     "name": "stdout",
     "output_type": "stream",
     "text": [
      "Input a number: 10\n",
      "Input a number: 5\n"
     ]
    }
   ],
   "source": [
    "# Write a Python program to sort three integers without using conditional statements and loops.\n",
    "\n",
    "a=int(input(\"Input a number: \"))\n",
    "b=int(input(\"Input a number: \"))\n",
    "c=int(input(\"Input a number: \"))\n",
    "\n",
    "x=min(a,b,c)\n",
    "y=max(a,b,c)\n",
    "z=(a+b+c)-x-y\n",
    "print(\"Numbers in sorted order: \", a,b,c)"
   ]
  },
  {
   "cell_type": "code",
   "execution_count": null,
   "id": "fc13ebdc",
   "metadata": {},
   "outputs": [],
   "source": []
  }
 ],
 "metadata": {
  "kernelspec": {
   "display_name": "Python 3 (ipykernel)",
   "language": "python",
   "name": "python3"
  },
  "language_info": {
   "codemirror_mode": {
    "name": "ipython",
    "version": 3
   },
   "file_extension": ".py",
   "mimetype": "text/x-python",
   "name": "python",
   "nbconvert_exporter": "python",
   "pygments_lexer": "ipython3",
   "version": "3.11.5"
  }
 },
 "nbformat": 4,
 "nbformat_minor": 5
}
