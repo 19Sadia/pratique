{
 "cells": [
  {
   "cell_type": "code",
   "execution_count": 5,
   "id": "b8e4e487-df79-410d-b8c2-d8f0dbc31efd",
   "metadata": {},
   "outputs": [
    {
     "name": "stdout",
     "output_type": "stream",
     "text": [
      "enter: 5\n",
      "Please give value for index 0: 2\n",
      "Please give value for index 1: 3\n",
      "Please give value for index 2: 4\n",
      "Please give value for index 3: 5\n",
      "Please give value for index 4: 6\n",
      "4.0\n"
     ]
    }
   ],
   "source": [
    "# Python program to find the average \n",
    "\n",
    "num=int(input('enter: '))\n",
    "avg=[]\n",
    "for x in range (0,num):\n",
    "    elem=int(input(\"Please give value for index \"+str(x)+\": \"))\n",
    "    avg.append(elem)\n",
    "average=sum(avg)/num\n",
    "print(average)\n"
   ]
  },
  {
   "cell_type": "code",
   "execution_count": 10,
   "id": "d9a48cb2",
   "metadata": {},
   "outputs": [
    {
     "name": "stdout",
     "output_type": "stream",
     "text": [
      "enter: 5\n",
      "120\n"
     ]
    }
   ],
   "source": [
    "# Python Program to calculate factorial using iterative method.\n",
    "\n",
    "num=int(input('enter: '))\n",
    "fac=1\n",
    "if (num<0):\n",
    "    print('cannot be calculated')\n",
    "elif (num==1):\n",
    "    print('1')\n",
    "else:\n",
    "    for i in range (1,num+1):\n",
    "        fac=fac*i\n",
    "    print(fac)"
   ]
  },
  {
   "cell_type": "code",
   "execution_count": 14,
   "id": "de704a09",
   "metadata": {},
   "outputs": [
    {
     "name": "stdout",
     "output_type": "stream",
     "text": [
      "enter: 5\n",
      "120\n"
     ]
    }
   ],
   "source": [
    "# Python Program to calculate factorial using recursion.\n",
    "def fac(num):\n",
    "    if num==1:\n",
    "        return num\n",
    "    else:\n",
    "        return num*fac(num-1)\n",
    "num=int(input('enter: '))\n",
    "result=fac(num)\n",
    "print(result)"
   ]
  },
  {
   "cell_type": "code",
   "execution_count": 17,
   "id": "de8ab3c7",
   "metadata": {},
   "outputs": [
    {
     "name": "stdout",
     "output_type": "stream",
     "text": [
      "enter: 4\n",
      "Even\n"
     ]
    }
   ],
   "source": [
    "# Python Program to check a given number is even or odd.\n",
    "\n",
    "num=int(input('enter: '))\n",
    "if (num%2==0):\n",
    "    print('Even')\n",
    "else:\n",
    "    print('odd')"
   ]
  },
  {
   "cell_type": "code",
   "execution_count": 25,
   "id": "59a69854",
   "metadata": {},
   "outputs": [
    {
     "name": "stdout",
     "output_type": "stream",
     "text": [
      "enter: 10\n",
      "2\n",
      "3\n",
      "5\n",
      "7\n"
     ]
    }
   ],
   "source": [
    "# Python program to print first n Prime Number.\n",
    "\n",
    "num=int(input('enter: '))\n",
    "for x in range(2,num):\n",
    "    for i in range(2,x):\n",
    "        if(x%i==0):\n",
    "            break\n",
    "    else:\n",
    "        print(x)"
   ]
  },
  {
   "cell_type": "code",
   "execution_count": null,
   "id": "a80f2ea9",
   "metadata": {},
   "outputs": [],
   "source": []
  }
 ],
 "metadata": {
  "kernelspec": {
   "display_name": "Python 3 (ipykernel)",
   "language": "python",
   "name": "python3"
  },
  "language_info": {
   "codemirror_mode": {
    "name": "ipython",
    "version": 3
   },
   "file_extension": ".py",
   "mimetype": "text/x-python",
   "name": "python",
   "nbconvert_exporter": "python",
   "pygments_lexer": "ipython3",
   "version": "3.10.13"
  }
 },
 "nbformat": 4,
 "nbformat_minor": 5
}
