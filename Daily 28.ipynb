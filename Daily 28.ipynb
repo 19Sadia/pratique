{
 "cells": [
  {
   "cell_type": "code",
   "execution_count": 7,
   "id": "5545cf60",
   "metadata": {},
   "outputs": [
    {
     "name": "stdout",
     "output_type": "stream",
     "text": [
      "enter no. A:1\n",
      "enter no. B:1\n",
      "enter no. C:1\n",
      "All are equal\n"
     ]
    }
   ],
   "source": [
    "# Python Program to find Smallest number among three.\n",
    "a=int(input('enter no. A:'))\n",
    "b=int(input('enter no. B:'))\n",
    "c=int(input('enter no. C:'))\n",
    "if a<b<c:\n",
    "    print('a is smallest')\n",
    "elif b<a<c:\n",
    "     print('b is smallest')\n",
    "elif c<b<a:\n",
    "     print('c is smallest')\n",
    "else:\n",
    "    print('All are equal')"
   ]
  },
  {
   "cell_type": "code",
   "execution_count": 10,
   "id": "300227c8",
   "metadata": {},
   "outputs": [
    {
     "name": "stdout",
     "output_type": "stream",
     "text": [
      "enter:5\n",
      "enter:5\n",
      "3125\n"
     ]
    }
   ],
   "source": [
    "# Python program to calculate the power using the POW method.\n",
    "base=int(input('enter:'))\n",
    "ex=int(input('enter:'))\n",
    "print(pow(base,ex))"
   ]
  },
  {
   "cell_type": "code",
   "execution_count": 1,
   "id": "df59c078",
   "metadata": {},
   "outputs": [
    {
     "name": "stdout",
     "output_type": "stream",
     "text": [
      "enter:5\n",
      "enter:5\n",
      "5\n",
      "25\n",
      "125\n",
      "625\n",
      "3125\n"
     ]
    }
   ],
   "source": [
    "# Python Program to calculate the power without using POW function.(using for loop).\n",
    "base=int(input('enter:'))\n",
    "ex=int(input('enter:'))\n",
    "result=1\n",
    "for ex in range (ex,0,-1):\n",
    "    result=result*base\n",
    "print(result)"
   ]
  },
  {
   "cell_type": "code",
   "execution_count": 3,
   "id": "b3ac418f",
   "metadata": {
    "scrolled": true
   },
   "outputs": [
    {
     "name": "stdout",
     "output_type": "stream",
     "text": [
      "enter:5\n",
      "enter:5\n",
      "3125\n"
     ]
    }
   ],
   "source": [
    "# Python Program to calculate the power without using POW function.(using while loop).\n",
    "base=int(input('enter:'))\n",
    "ex=int(input('enter:'))\n",
    "result=1\n",
    "while ex!=0:\n",
    "    result=result*base\n",
    "    ex=ex-1\n",
    "print(result)"
   ]
  },
  {
   "cell_type": "code",
   "execution_count": 6,
   "id": "b021c5df",
   "metadata": {},
   "outputs": [
    {
     "name": "stdout",
     "output_type": "stream",
     "text": [
      "enter:5\n",
      "2.23606797749979\n"
     ]
    }
   ],
   "source": [
    "# Python Program to calculate the square root of a given number.\n",
    "import math\n",
    "num=int(input('enter:'))\n",
    "if num<0:\n",
    "    print('Negative numbers can’t have square roots')\n",
    "else:\n",
    "    print(math.sqrt(num))"
   ]
  },
  {
   "cell_type": "code",
   "execution_count": null,
   "id": "03d6a2bb",
   "metadata": {},
   "outputs": [],
   "source": []
  }
 ],
 "metadata": {
  "kernelspec": {
   "display_name": "Python 3 (ipykernel)",
   "language": "python",
   "name": "python3"
  },
  "language_info": {
   "codemirror_mode": {
    "name": "ipython",
    "version": 3
   },
   "file_extension": ".py",
   "mimetype": "text/x-python",
   "name": "python",
   "nbconvert_exporter": "python",
   "pygments_lexer": "ipython3",
   "version": "3.10.13"
  }
 },
 "nbformat": 4,
 "nbformat_minor": 5
}
