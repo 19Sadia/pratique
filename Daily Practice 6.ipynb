{
 "cells": [
  {
   "cell_type": "code",
   "execution_count": 1,
   "id": "7eba86cc",
   "metadata": {},
   "outputs": [
    {
     "name": "stdout",
     "output_type": "stream",
     "text": [
      "  ***  \n",
      " *   * \n",
      " *   * \n",
      " *   * \n",
      " *   * \n",
      " *   * \n",
      "  ***  \n",
      "\n"
     ]
    }
   ],
   "source": [
    "#Write a Python program to print the alphabet pattern 'O'.\n",
    "resul=\"\";\n",
    "for x in range(0,7):\n",
    "    for y in range(0,7):\n",
    "        if (((y==1 or y==5) and x!=0 and x!=6) or (x==0 or x==6) and (y>1 and y<5)):\n",
    "            resul=resul+'*'\n",
    "        else:\n",
    "            resul=resul+' '\n",
    "    resul=resul+'\\n'\n",
    "print(resul);"
   ]
  },
  {
   "cell_type": "code",
   "execution_count": 2,
   "id": "cdc86ef7",
   "metadata": {},
   "outputs": [
    {
     "name": "stdout",
     "output_type": "stream",
     "text": [
      "enter4\n",
      "50.26548245743669\n"
     ]
    }
   ],
   "source": [
    "# Write a Python program that calculates the area of a circle based on the radius entered by the user\n",
    "from math import pi\n",
    "num=float(input(\"enter\"))\n",
    "area=pi*num**2\n",
    "print(area)"
   ]
  },
  {
   "cell_type": "code",
   "execution_count": 3,
   "id": "dbe294b6",
   "metadata": {},
   "outputs": [
    {
     "name": "stdout",
     "output_type": "stream",
     "text": [
      "Red\n",
      "Purple\n",
      " "
     ]
    }
   ],
   "source": [
    "# Write a Python program to display the first and last colors from the following list.\n",
    "a = [\"Red\",\"Green\",\"White\" ,\"Black\",\"Purple\"]\n",
    "print(a[0])\n",
    "print(a[-1])\n",
    "print(\" \",end='')"
   ]
  },
  {
   "cell_type": "code",
   "execution_count": 4,
   "id": "5d6b8753",
   "metadata": {},
   "outputs": [
    {
     "name": "stdout",
     "output_type": "stream",
     "text": [
      "49\n"
     ]
    }
   ],
   "source": [
    "#Write a Python program to solve (x + y) * (x + y).\n",
    "x=3\n",
    "y=4\n",
    "print((x+y)**2)"
   ]
  },
  {
   "cell_type": "code",
   "execution_count": 5,
   "id": "8369c63d",
   "metadata": {},
   "outputs": [
    {
     "name": "stdout",
     "output_type": "stream",
     "text": [
      "1\n",
      "4\n",
      "9\n",
      "16\n",
      "25\n",
      "36\n",
      "49\n",
      "64\n",
      "81\n"
     ]
    }
   ],
   "source": [
    "#Turn every item of a list into its square\n",
    "a=[1,2,3,4,5,6,7,8,9]\n",
    "result=[]\n",
    "for x in a:\n",
    "    result=x*x\n",
    "    print(result)"
   ]
  },
  {
   "cell_type": "code",
   "execution_count": null,
   "id": "0cc62bf4",
   "metadata": {},
   "outputs": [],
   "source": []
  }
 ],
 "metadata": {
  "kernelspec": {
   "display_name": "Python 3 (ipykernel)",
   "language": "python",
   "name": "python3"
  },
  "language_info": {
   "codemirror_mode": {
    "name": "ipython",
    "version": 3
   },
   "file_extension": ".py",
   "mimetype": "text/x-python",
   "name": "python",
   "nbconvert_exporter": "python",
   "pygments_lexer": "ipython3",
   "version": "3.11.5"
  }
 },
 "nbformat": 4,
 "nbformat_minor": 5
}
