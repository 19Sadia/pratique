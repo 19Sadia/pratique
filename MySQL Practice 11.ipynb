{
 "cells": [
  {
   "cell_type": "code",
   "execution_count": 9,
   "id": "301084ad",
   "metadata": {},
   "outputs": [],
   "source": [
    "import os\n",
    "import mysql.connector\n",
    "import numpy as np\n",
    "import pandas as pd\n",
    "import warnings\n",
    "warnings.filterwarnings('ignore')"
   ]
  },
  {
   "cell_type": "code",
   "execution_count": 4,
   "id": "d990f1a2",
   "metadata": {},
   "outputs": [],
   "source": [
    "connection=mysql.connector.connect(host='localhost',\n",
    "                                  username='root',\n",
    "                                  password='black123')"
   ]
  },
  {
   "cell_type": "code",
   "execution_count": 5,
   "id": "c1cb01fa",
   "metadata": {},
   "outputs": [
    {
     "name": "stdout",
     "output_type": "stream",
     "text": [
      "('cds10',)\n",
      "('classicmodels',)\n",
      "('information_schema',)\n",
      "('mysql',)\n",
      "('mysqlpractice',)\n",
      "('mysqlpractice1',)\n",
      "('performance_schema',)\n",
      "('productorders',)\n",
      "('sakila',)\n",
      "('sm100',)\n",
      "('sys',)\n"
     ]
    }
   ],
   "source": [
    "cursor=connection.cursor()\n",
    "cursor.execute('show databases')\n",
    "for i in cursor:\n",
    "    print (i)"
   ]
  },
  {
   "cell_type": "code",
   "execution_count": 7,
   "id": "f4fede35",
   "metadata": {},
   "outputs": [],
   "source": [
    "connection=mysql.connector.connect(host='localhost',\n",
    "                                  username='root',\n",
    "                                  password='black123',\n",
    "                                  database='productorders')"
   ]
  },
  {
   "cell_type": "code",
   "execution_count": 10,
   "id": "5688f7bc",
   "metadata": {},
   "outputs": [
    {
     "name": "stdout",
     "output_type": "stream",
     "text": [
      "  Tables_in_productorders\n",
      "0         customerdetails\n",
      "1         employeesdetail\n",
      "2            orderdetails\n"
     ]
    }
   ],
   "source": [
    "tabels=pd.read_sql_query('show tables', connection)\n",
    "print(tabels)"
   ]
  },
  {
   "cell_type": "code",
   "execution_count": 14,
   "id": "1f2512a8",
   "metadata": {
    "scrolled": true
   },
   "outputs": [
    {
     "name": "stdout",
     "output_type": "stream",
     "text": [
      "   CustomerID Firstname  Lastname                Email        Address  \\\n",
      "0           1   Michael     Brown  michael@example.com    123 Main St   \n",
      "1           2      Emma   Johnson     emma@example.com     456 Elm St   \n",
      "2           3    Oliver     Smith   oliver@example.com     789 Oak St   \n",
      "3           4    Sophia  Williams   sophia@example.com  101 Maple Ave   \n",
      "4           5     James       Lee    james@example.com    222 Pine St   \n",
      "\n",
      "            City Country  \n",
      "0       New York     USA  \n",
      "1    Los Angeles     USA  \n",
      "2        Chicago     USA  \n",
      "3        Houston     USA  \n",
      "4  San Francisco     USA  \n"
     ]
    }
   ],
   "source": [
    "query=\"select * from customerdetails\"\n",
    "output=pd.read_sql_query(query,connection)\n",
    "print(output)"
   ]
  },
  {
   "cell_type": "code",
   "execution_count": 15,
   "id": "e961ce66",
   "metadata": {},
   "outputs": [
    {
     "name": "stdout",
     "output_type": "stream",
     "text": [
      "   EmpID Firstname  Lastname       Dpart   Salary    HireDate\n",
      "0      1      John       Doe          HR  50000.0  2020-01-15\n",
      "1      2      Jane     Smith   Marketing  55000.0  2019-05-20\n",
      "2      3      Mike   Johnson          IT  60000.0  2018-09-10\n",
      "3      4     Emily  Williams     Finance  58000.0  2021-03-12\n",
      "4      5     David       Lee  Operations  52000.0  2017-11-25\n"
     ]
    }
   ],
   "source": [
    "query=\"select * from employeesdetail\"\n",
    "output=pd.read_sql_query(query,connection)\n",
    "print(output)"
   ]
  },
  {
   "cell_type": "code",
   "execution_count": 16,
   "id": "81bae94f",
   "metadata": {},
   "outputs": [
    {
     "name": "stdout",
     "output_type": "stream",
     "text": [
      "   OrderID  CustomerID   OrderDate  TotalAmount  IsShipped\n",
      "0        1           3  2023-07-01        100.0          1\n",
      "1        2           1  2023-07-05        250.0          1\n",
      "2        3           4  2023-07-10        180.0          0\n",
      "3        4           2  2023-07-15        300.0          1\n",
      "4        5           5  2023-07-20        120.0          1\n"
     ]
    }
   ],
   "source": [
    "query=\"select * from orderdetails\"\n",
    "output=pd.read_sql_query(query,connection)\n",
    "print(output)"
   ]
  },
  {
   "cell_type": "code",
   "execution_count": 22,
   "id": "7a2ab0b7",
   "metadata": {
    "collapsed": true
   },
   "outputs": [
    {
     "name": "stdout",
     "output_type": "stream",
     "text": [
      "   EmpID Firstname  Lastname      Dpart   Salary    HireDate\n",
      "0      3      Mike   Johnson         IT  60000.0  2018-09-10\n",
      "1      4     Emily  Williams    Finance  58000.0  2021-03-12\n",
      "2      2      Jane     Smith  Marketing  55000.0  2019-05-20\n",
      "   EmpID Firstname  Lastname      Dpart   Salary    HireDate\n",
      "0      3      Mike   Johnson         IT  60000.0  2018-09-10\n",
      "1      4     Emily  Williams    Finance  58000.0  2021-03-12\n",
      "2      2      Jane     Smith  Marketing  55000.0  2019-05-20\n"
     ]
    }
   ],
   "source": [
    "# Retrieve the top 3 highest-paid employees.\n",
    "query=\"select * from employeesdetail order by Salary desc limit 3\"\n",
    "output=pd.read_sql_query(query,connection)\n",
    "print(output)\n",
    "\n",
    "querys=\"select topp 3 * from employeesdetail order by salary desc\"\n",
    "outputs=pd.read_sql_query(query,connection)\n",
    "print(outputs)"
   ]
  },
  {
   "cell_type": "code",
   "execution_count": 23,
   "id": "6219aaf4",
   "metadata": {
    "collapsed": true
   },
   "outputs": [
    {
     "name": "stdout",
     "output_type": "stream",
     "text": [
      "   CustomerID Firstname  Lastname\n",
      "0           3    Oliver     Smith\n",
      "1           1   Michael     Brown\n",
      "2           4    Sophia  Williams\n",
      "3           2      Emma   Johnson\n",
      "4           5     James       Lee\n"
     ]
    }
   ],
   "source": [
    "#  Find the customers who have placed orders.\n",
    "query=\"select distinct C.CustomerID,C.Firstname,C.Lastname from customerdetails C inner join orderdetails O On O.CustomerID = C.CustomerID \"\n",
    "output=pd.read_sql_query(query,connection)\n",
    "print(output)"
   ]
  },
  {
   "cell_type": "code",
   "execution_count": 26,
   "id": "b5687d19",
   "metadata": {
    "collapsed": true
   },
   "outputs": [
    {
     "name": "stdout",
     "output_type": "stream",
     "text": [
      "   EmpID Firstname  Lastname       Dpart   Salary    HireDate\n",
      "0      5     David       Lee  Operations  52000.0  2017-11-25\n",
      "1      4     Emily  Williams     Finance  58000.0  2021-03-12\n",
      "2      2      Jane     Smith   Marketing  55000.0  2019-05-20\n",
      "3      1      John       Doe          HR  50000.0  2020-01-15\n",
      "4      3      Mike   Johnson          IT  60000.0  2018-09-10\n"
     ]
    }
   ],
   "source": [
    "# Show employees and their department names in alphabetical order.\n",
    "query=\"select * from employeesdetail order by Firstname asc\"\n",
    "output=pd.read_sql_query(query,connection)\n",
    "print(output)"
   ]
  },
  {
   "cell_type": "code",
   "execution_count": 27,
   "id": "a2c0bf98",
   "metadata": {},
   "outputs": [
    {
     "name": "stdout",
     "output_type": "stream",
     "text": [
      "  Firstname  lastname\n",
      "0    Oliver     Smith\n",
      "1   Michael     Brown\n",
      "2    Sophia  Williams\n",
      "3      Emma   Johnson\n",
      "4     James       Lee\n"
     ]
    }
   ],
   "source": [
    "# Display orders with the customer's first name and last name.\n",
    "query=\"select C.Firstname, C.lastname from customerdetails C inner join Orderdetails O on C.CustomerID=O.CustomerID;\"\n",
    "output=pd.read_sql_query(query,connection)\n",
    "print(output)\n"
   ]
  },
  {
   "cell_type": "code",
   "execution_count": 34,
   "id": "e9ebcee7",
   "metadata": {},
   "outputs": [
    {
     "name": "stdout",
     "output_type": "stream",
     "text": [
      "Empty DataFrame\n",
      "Columns: [EmpID, Firstname, Lastname, Dpart, Salary, HireDate]\n",
      "Index: []\n"
     ]
    }
   ],
   "source": [
    "# Retrieve employees hired in the year 2022.\n",
    "query=\"select * from employeesdetail where year(hiredate)=2022;\"\n",
    "output=pd.read_sql_query(query,connection)\n",
    "print(output)\n"
   ]
  },
  {
   "cell_type": "code",
   "execution_count": 35,
   "id": "0a94f36f",
   "metadata": {},
   "outputs": [
    {
     "name": "stdout",
     "output_type": "stream",
     "text": [
      "Empty DataFrame\n",
      "Columns: [CustomerID, Firstname, Lastname, Email, Address, City, Country]\n",
      "Index: []\n"
     ]
    }
   ],
   "source": [
    "# Show customers who have placed orders on different dates.\n",
    "query=\"SELECT DISTINCT customerdetails.* FROM customerdetails INNER JOIN orderdetails ON customerdetails.CustomerID = orderdetails.CustomerID GROUP BY customerdetails.CustomerID, FirstName, LastName HAVING COUNT(DISTINCT orderdetails.OrderDate) > 1;\"\n",
    "output=pd.read_sql_query(query,connection)\n",
    "print(output)\n"
   ]
  },
  {
   "cell_type": "code",
   "execution_count": 40,
   "id": "25ad133b",
   "metadata": {},
   "outputs": [
    {
     "name": "stdout",
     "output_type": "stream",
     "text": [
      "   CustomerID FirstName  LastName  TotalOrders\n",
      "0           1   Michael     Brown            1\n",
      "1           2      Emma   Johnson            1\n",
      "2           3    Oliver     Smith            1\n",
      "3           4    Sophia  Williams            1\n",
      "4           5     James       Lee            1\n"
     ]
    }
   ],
   "source": [
    "# Find the total number of orders placed by each customer.\n",
    "query=\"SELECT C.CustomerID, C.FirstName, C.LastName, COUNT(O.OrderID) AS TotalOrders FROM Customerdetails C LEFT JOIN Orderdetails O ON C.CustomerID = O.CustomerID GROUP BY C.CustomerID, C.FirstName, C.LastName;\"\n",
    "output=pd.read_sql_query(query,connection)\n",
    "print(output)\n"
   ]
  },
  {
   "cell_type": "code",
   "execution_count": 39,
   "id": "fb86b661",
   "metadata": {},
   "outputs": [
    {
     "name": "stdout",
     "output_type": "stream",
     "text": [
      "   EmpID Firstname Lastname Dpart   Salary    HireDate\n",
      "0      3      Mike  Johnson    IT  60000.0  2018-09-10\n"
     ]
    }
   ],
   "source": [
    "# Retrieve employees who work in the IT department.\n",
    "query=\"select * from employeesdetail where Dpart='IT';\"\n",
    "output=pd.read_sql_query(query,connection)\n",
    "print(output)"
   ]
  },
  {
   "cell_type": "code",
   "execution_count": 41,
   "id": "b92bb511",
   "metadata": {},
   "outputs": [
    {
     "name": "stdout",
     "output_type": "stream",
     "text": [
      "Empty DataFrame\n",
      "Columns: [CustomerID, Firstname, Lastname, Email, Address, City, Country]\n",
      "Index: []\n"
     ]
    }
   ],
   "source": [
    "# Find the customers who have placed orders for more than once.\n",
    "query=\"SELECT customerdetails.* FROM customerdetails INNER JOIN orderdetails ON customerdetails.CustomerID = orderdetails.CustomerID GROUP BY customerdetails.CustomerID, FirstName, LastName HAVING COUNT(orderdetails.OrderID) > 1;;\"\n",
    "output=pd.read_sql_query(query,connection)\n",
    "print(output)"
   ]
  },
  {
   "cell_type": "code",
   "execution_count": 44,
   "id": "2e7b658f",
   "metadata": {},
   "outputs": [
    {
     "ename": "DatabaseError",
     "evalue": "Execution failed on sql 'select TOP 2* from employeesdetailorder by salary desc;': 1064 (42000): You have an error in your SQL syntax; check the manual that corresponds to your MySQL server version for the right syntax to use near '2* from employeesdetailorder by salary desc' at line 1",
     "output_type": "error",
     "traceback": [
      "\u001b[1;31m---------------------------------------------------------------------------\u001b[0m",
      "\u001b[1;31mMySQLInterfaceError\u001b[0m                       Traceback (most recent call last)",
      "File \u001b[1;32m~\\anaconda3\\Lib\\site-packages\\mysql\\connector\\connection_cext.py:661\u001b[0m, in \u001b[0;36mCMySQLConnection.cmd_query\u001b[1;34m(self, query, raw, buffered, raw_as_string)\u001b[0m\n\u001b[0;32m    660\u001b[0m         query \u001b[38;5;241m=\u001b[39m query\u001b[38;5;241m.\u001b[39mencode(\u001b[38;5;124m\"\u001b[39m\u001b[38;5;124mutf-8\u001b[39m\u001b[38;5;124m\"\u001b[39m)\n\u001b[1;32m--> 661\u001b[0m     \u001b[38;5;28mself\u001b[39m\u001b[38;5;241m.\u001b[39m_cmysql\u001b[38;5;241m.\u001b[39mquery(\n\u001b[0;32m    662\u001b[0m         query,\n\u001b[0;32m    663\u001b[0m         raw\u001b[38;5;241m=\u001b[39mraw,\n\u001b[0;32m    664\u001b[0m         buffered\u001b[38;5;241m=\u001b[39mbuffered,\n\u001b[0;32m    665\u001b[0m         raw_as_string\u001b[38;5;241m=\u001b[39mraw_as_string,\n\u001b[0;32m    666\u001b[0m         query_attrs\u001b[38;5;241m=\u001b[39m\u001b[38;5;28mself\u001b[39m\u001b[38;5;241m.\u001b[39mquery_attrs,\n\u001b[0;32m    667\u001b[0m     )\n\u001b[0;32m    668\u001b[0m \u001b[38;5;28;01mexcept\u001b[39;00m MySQLInterfaceError \u001b[38;5;28;01mas\u001b[39;00m err:\n",
      "\u001b[1;31mMySQLInterfaceError\u001b[0m: You have an error in your SQL syntax; check the manual that corresponds to your MySQL server version for the right syntax to use near '2* from employeesdetailorder by salary desc' at line 1",
      "\nThe above exception was the direct cause of the following exception:\n",
      "\u001b[1;31mProgrammingError\u001b[0m                          Traceback (most recent call last)",
      "File \u001b[1;32m~\\anaconda3\\Lib\\site-packages\\pandas\\io\\sql.py:2202\u001b[0m, in \u001b[0;36mSQLiteDatabase.execute\u001b[1;34m(self, sql, params)\u001b[0m\n\u001b[0;32m   2201\u001b[0m \u001b[38;5;28;01mtry\u001b[39;00m:\n\u001b[1;32m-> 2202\u001b[0m     cur\u001b[38;5;241m.\u001b[39mexecute(sql, \u001b[38;5;241m*\u001b[39margs)\n\u001b[0;32m   2203\u001b[0m     \u001b[38;5;28;01mreturn\u001b[39;00m cur\n",
      "File \u001b[1;32m~\\anaconda3\\Lib\\site-packages\\mysql\\connector\\cursor_cext.py:374\u001b[0m, in \u001b[0;36mCMySQLCursor.execute\u001b[1;34m(self, operation, params, multi)\u001b[0m\n\u001b[0;32m    373\u001b[0m \u001b[38;5;28;01mtry\u001b[39;00m:\n\u001b[1;32m--> 374\u001b[0m     result \u001b[38;5;241m=\u001b[39m \u001b[38;5;28mself\u001b[39m\u001b[38;5;241m.\u001b[39m_cnx\u001b[38;5;241m.\u001b[39mcmd_query(\n\u001b[0;32m    375\u001b[0m         stmt,\n\u001b[0;32m    376\u001b[0m         raw\u001b[38;5;241m=\u001b[39m\u001b[38;5;28mself\u001b[39m\u001b[38;5;241m.\u001b[39m_raw,\n\u001b[0;32m    377\u001b[0m         buffered\u001b[38;5;241m=\u001b[39m\u001b[38;5;28mself\u001b[39m\u001b[38;5;241m.\u001b[39m_buffered,\n\u001b[0;32m    378\u001b[0m         raw_as_string\u001b[38;5;241m=\u001b[39m\u001b[38;5;28mself\u001b[39m\u001b[38;5;241m.\u001b[39m_raw_as_string,\n\u001b[0;32m    379\u001b[0m     )\n\u001b[0;32m    380\u001b[0m \u001b[38;5;28;01mexcept\u001b[39;00m MySQLInterfaceError \u001b[38;5;28;01mas\u001b[39;00m err:\n",
      "File \u001b[1;32m~\\anaconda3\\Lib\\site-packages\\mysql\\connector\\opentelemetry\\context_propagation.py:74\u001b[0m, in \u001b[0;36mwith_context_propagation.<locals>.wrapper\u001b[1;34m(cnx, *args, **kwargs)\u001b[0m\n\u001b[0;32m     73\u001b[0m \u001b[38;5;28;01mif\u001b[39;00m \u001b[38;5;129;01mnot\u001b[39;00m OTEL_ENABLED \u001b[38;5;129;01mor\u001b[39;00m \u001b[38;5;129;01mnot\u001b[39;00m cnx\u001b[38;5;241m.\u001b[39motel_context_propagation:\n\u001b[1;32m---> 74\u001b[0m     \u001b[38;5;28;01mreturn\u001b[39;00m method(cnx, \u001b[38;5;241m*\u001b[39margs, \u001b[38;5;241m*\u001b[39m\u001b[38;5;241m*\u001b[39mkwargs)\n\u001b[0;32m     76\u001b[0m current_span \u001b[38;5;241m=\u001b[39m trace\u001b[38;5;241m.\u001b[39mget_current_span()\n",
      "File \u001b[1;32m~\\anaconda3\\Lib\\site-packages\\mysql\\connector\\connection_cext.py:669\u001b[0m, in \u001b[0;36mCMySQLConnection.cmd_query\u001b[1;34m(self, query, raw, buffered, raw_as_string)\u001b[0m\n\u001b[0;32m    668\u001b[0m \u001b[38;5;28;01mexcept\u001b[39;00m MySQLInterfaceError \u001b[38;5;28;01mas\u001b[39;00m err:\n\u001b[1;32m--> 669\u001b[0m     \u001b[38;5;28;01mraise\u001b[39;00m get_mysql_exception(\n\u001b[0;32m    670\u001b[0m         err\u001b[38;5;241m.\u001b[39merrno, msg\u001b[38;5;241m=\u001b[39merr\u001b[38;5;241m.\u001b[39mmsg, sqlstate\u001b[38;5;241m=\u001b[39merr\u001b[38;5;241m.\u001b[39msqlstate\n\u001b[0;32m    671\u001b[0m     ) \u001b[38;5;28;01mfrom\u001b[39;00m \u001b[38;5;21;01merr\u001b[39;00m\n\u001b[0;32m    672\u001b[0m \u001b[38;5;28;01mexcept\u001b[39;00m \u001b[38;5;167;01mAttributeError\u001b[39;00m \u001b[38;5;28;01mas\u001b[39;00m err:\n",
      "\u001b[1;31mProgrammingError\u001b[0m: 1064 (42000): You have an error in your SQL syntax; check the manual that corresponds to your MySQL server version for the right syntax to use near '2* from employeesdetailorder by salary desc' at line 1",
      "\nThe above exception was the direct cause of the following exception:\n",
      "\u001b[1;31mDatabaseError\u001b[0m                             Traceback (most recent call last)",
      "Cell \u001b[1;32mIn[44], line 2\u001b[0m\n\u001b[0;32m      1\u001b[0m query\u001b[38;5;241m=\u001b[39m\u001b[38;5;124m\"\u001b[39m\u001b[38;5;124mselect TOP 2* from employeesdetailorder by salary desc;\u001b[39m\u001b[38;5;124m\"\u001b[39m\n\u001b[1;32m----> 2\u001b[0m output\u001b[38;5;241m=\u001b[39mpd\u001b[38;5;241m.\u001b[39mread_sql_query(query,connection)\n\u001b[0;32m      3\u001b[0m \u001b[38;5;28mprint\u001b[39m(output)\n",
      "File \u001b[1;32m~\\anaconda3\\Lib\\site-packages\\pandas\\io\\sql.py:469\u001b[0m, in \u001b[0;36mread_sql_query\u001b[1;34m(sql, con, index_col, coerce_float, params, parse_dates, chunksize, dtype, dtype_backend)\u001b[0m\n\u001b[0;32m    466\u001b[0m     dtype_backend \u001b[38;5;241m=\u001b[39m \u001b[38;5;124m\"\u001b[39m\u001b[38;5;124mnumpy\u001b[39m\u001b[38;5;124m\"\u001b[39m  \u001b[38;5;66;03m# type: ignore[assignment]\u001b[39;00m\n\u001b[0;32m    468\u001b[0m \u001b[38;5;28;01mwith\u001b[39;00m pandasSQL_builder(con) \u001b[38;5;28;01mas\u001b[39;00m pandas_sql:\n\u001b[1;32m--> 469\u001b[0m     \u001b[38;5;28;01mreturn\u001b[39;00m pandas_sql\u001b[38;5;241m.\u001b[39mread_query(\n\u001b[0;32m    470\u001b[0m         sql,\n\u001b[0;32m    471\u001b[0m         index_col\u001b[38;5;241m=\u001b[39mindex_col,\n\u001b[0;32m    472\u001b[0m         params\u001b[38;5;241m=\u001b[39mparams,\n\u001b[0;32m    473\u001b[0m         coerce_float\u001b[38;5;241m=\u001b[39mcoerce_float,\n\u001b[0;32m    474\u001b[0m         parse_dates\u001b[38;5;241m=\u001b[39mparse_dates,\n\u001b[0;32m    475\u001b[0m         chunksize\u001b[38;5;241m=\u001b[39mchunksize,\n\u001b[0;32m    476\u001b[0m         dtype\u001b[38;5;241m=\u001b[39mdtype,\n\u001b[0;32m    477\u001b[0m         dtype_backend\u001b[38;5;241m=\u001b[39mdtype_backend,\n\u001b[0;32m    478\u001b[0m     )\n",
      "File \u001b[1;32m~\\anaconda3\\Lib\\site-packages\\pandas\\io\\sql.py:2266\u001b[0m, in \u001b[0;36mSQLiteDatabase.read_query\u001b[1;34m(self, sql, index_col, coerce_float, parse_dates, params, chunksize, dtype, dtype_backend)\u001b[0m\n\u001b[0;32m   2255\u001b[0m \u001b[38;5;28;01mdef\u001b[39;00m \u001b[38;5;21mread_query\u001b[39m(\n\u001b[0;32m   2256\u001b[0m     \u001b[38;5;28mself\u001b[39m,\n\u001b[0;32m   2257\u001b[0m     sql,\n\u001b[1;32m   (...)\u001b[0m\n\u001b[0;32m   2264\u001b[0m     dtype_backend: DtypeBackend \u001b[38;5;241m|\u001b[39m Literal[\u001b[38;5;124m\"\u001b[39m\u001b[38;5;124mnumpy\u001b[39m\u001b[38;5;124m\"\u001b[39m] \u001b[38;5;241m=\u001b[39m \u001b[38;5;124m\"\u001b[39m\u001b[38;5;124mnumpy\u001b[39m\u001b[38;5;124m\"\u001b[39m,\n\u001b[0;32m   2265\u001b[0m ) \u001b[38;5;241m-\u001b[39m\u001b[38;5;241m>\u001b[39m DataFrame \u001b[38;5;241m|\u001b[39m Iterator[DataFrame]:\n\u001b[1;32m-> 2266\u001b[0m     cursor \u001b[38;5;241m=\u001b[39m \u001b[38;5;28mself\u001b[39m\u001b[38;5;241m.\u001b[39mexecute(sql, params)\n\u001b[0;32m   2267\u001b[0m     columns \u001b[38;5;241m=\u001b[39m [col_desc[\u001b[38;5;241m0\u001b[39m] \u001b[38;5;28;01mfor\u001b[39;00m col_desc \u001b[38;5;129;01min\u001b[39;00m cursor\u001b[38;5;241m.\u001b[39mdescription]\n\u001b[0;32m   2269\u001b[0m     \u001b[38;5;28;01mif\u001b[39;00m chunksize \u001b[38;5;129;01mis\u001b[39;00m \u001b[38;5;129;01mnot\u001b[39;00m \u001b[38;5;28;01mNone\u001b[39;00m:\n",
      "File \u001b[1;32m~\\anaconda3\\Lib\\site-packages\\pandas\\io\\sql.py:2214\u001b[0m, in \u001b[0;36mSQLiteDatabase.execute\u001b[1;34m(self, sql, params)\u001b[0m\n\u001b[0;32m   2211\u001b[0m     \u001b[38;5;28;01mraise\u001b[39;00m ex \u001b[38;5;28;01mfrom\u001b[39;00m \u001b[38;5;21;01minner_exc\u001b[39;00m\n\u001b[0;32m   2213\u001b[0m ex \u001b[38;5;241m=\u001b[39m DatabaseError(\u001b[38;5;124mf\u001b[39m\u001b[38;5;124m\"\u001b[39m\u001b[38;5;124mExecution failed on sql \u001b[39m\u001b[38;5;124m'\u001b[39m\u001b[38;5;132;01m{\u001b[39;00msql\u001b[38;5;132;01m}\u001b[39;00m\u001b[38;5;124m'\u001b[39m\u001b[38;5;124m: \u001b[39m\u001b[38;5;132;01m{\u001b[39;00mexc\u001b[38;5;132;01m}\u001b[39;00m\u001b[38;5;124m\"\u001b[39m)\n\u001b[1;32m-> 2214\u001b[0m \u001b[38;5;28;01mraise\u001b[39;00m ex \u001b[38;5;28;01mfrom\u001b[39;00m \u001b[38;5;21;01mexc\u001b[39;00m\n",
      "\u001b[1;31mDatabaseError\u001b[0m: Execution failed on sql 'select TOP 2* from employeesdetailorder by salary desc;': 1064 (42000): You have an error in your SQL syntax; check the manual that corresponds to your MySQL server version for the right syntax to use near '2* from employeesdetailorder by salary desc' at line 1"
     ]
    }
   ],
   "source": [
    "query=\"select TOP 2* from employeesdetailorder by salary desc;\"\n",
    "output=pd.read_sql_query(query,connection)\n",
    "print(output)"
   ]
  },
  {
   "cell_type": "code",
   "execution_count": null,
   "id": "2ad052e0",
   "metadata": {},
   "outputs": [],
   "source": []
  }
 ],
 "metadata": {
  "kernelspec": {
   "display_name": "Python 3 (ipykernel)",
   "language": "python",
   "name": "python3"
  },
  "language_info": {
   "codemirror_mode": {
    "name": "ipython",
    "version": 3
   },
   "file_extension": ".py",
   "mimetype": "text/x-python",
   "name": "python",
   "nbconvert_exporter": "python",
   "pygments_lexer": "ipython3",
   "version": "3.11.5"
  }
 },
 "nbformat": 4,
 "nbformat_minor": 5
}
