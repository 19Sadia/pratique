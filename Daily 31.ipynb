{
 "cells": [
  {
   "cell_type": "code",
   "execution_count": 6,
   "id": "d5ca4cab",
   "metadata": {},
   "outputs": [
    {
     "name": "stdout",
     "output_type": "stream",
     "text": [
      "String: sadiya\n",
      "remove character: y\n",
      "sadia\n",
      "sadia\n"
     ]
    }
   ],
   "source": [
    "# Python program to remove given character from String.\n",
    "\n",
    "string=(input('String: '))\n",
    "remove=(input('remove character: '))\n",
    "print(string.replace(remove,\"\"))\n",
    "\n",
    "string='sadiya'\n",
    "re='y'\n",
    "print(string.replace('y',\"\"))\n"
   ]
  },
  {
   "cell_type": "code",
   "execution_count": 7,
   "id": "2bfde566",
   "metadata": {},
   "outputs": [
    {
     "name": "stdout",
     "output_type": "stream",
     "text": [
      "String: sadiya\n",
      "remove character: y\n",
      "sadia\n"
     ]
    }
   ],
   "source": [
    "def re(st1,st2):\n",
    "    print(st1.replace(st2,\"\"))\n",
    "st1=(input('String: '))\n",
    "st2=(input('remove character: '))\n",
    "re(st1,st2)"
   ]
  },
  {
   "cell_type": "code",
   "execution_count": 12,
   "id": "b88936dc",
   "metadata": {},
   "outputs": [
    {
     "name": "stdout",
     "output_type": "stream",
     "text": [
      "String: sadiya\n",
      "count character: a\n",
      "2\n"
     ]
    }
   ],
   "source": [
    "# Python Program to count occurrence of a given characters in string.\n",
    "\n",
    "string=(input('String: '))\n",
    "c=(input('count character: '))\n",
    "count=0\n",
    "for x in range(len(string)):\n",
    "    if (string[x]==c):\n",
    "        count=count+1\n",
    "print(count)\n"
   ]
  },
  {
   "cell_type": "code",
   "execution_count": 19,
   "id": "c1849d00",
   "metadata": {},
   "outputs": [
    {
     "name": "stdout",
     "output_type": "stream",
     "text": [
      "String 1: sadiya\n",
      "string 2: sadia\n",
      "Not an anagram\n"
     ]
    }
   ],
   "source": [
    "# Python Program to check if two Strings are Anagram.\n",
    "\n",
    "def ana(st1,st2):\n",
    "    if (sorted(st1) == sorted(st2)) :  \n",
    "         return True \n",
    "    else :  \n",
    "        return False \n",
    "st1=(input('String 1: '))\n",
    "st2=(input('string 2: '))\n",
    "if ana(st1,st2):\n",
    "    print(\"Anagram\")\n",
    "else:\n",
    "    print(\"Not an anagram\")"
   ]
  },
  {
   "cell_type": "code",
   "execution_count": 21,
   "id": "536f07b0",
   "metadata": {},
   "outputs": [
    {
     "name": "stdout",
     "output_type": "stream",
     "text": [
      "String: level\n",
      "palindrome\n"
     ]
    }
   ],
   "source": [
    "# Python program to check a String is palindrome or not.\n",
    "\n",
    "string=(input('String: '))\n",
    "if (string == string[::-1]):\n",
    "    print('palindrome')\n",
    "else:\n",
    "    print('not a palindrome')"
   ]
  },
  {
   "cell_type": "code",
   "execution_count": 25,
   "id": "61d7b8fc",
   "metadata": {},
   "outputs": [
    {
     "name": "stdout",
     "output_type": "stream",
     "text": [
      "Char:b\n",
      "Consonant\n"
     ]
    }
   ],
   "source": [
    "# Python program to check given character is vowel or consonant.\n",
    "\n",
    "c=(input('Char:'))\n",
    "if (c=='a' or c=='e' or c=='i' or c=='o' or c=='u' or c=='A' or c=='E' or c=='I' or c=='O' or c=='U' ):\n",
    "    print('vowel')\n",
    "else:\n",
    "    print('Consonant')\n"
   ]
  },
  {
   "cell_type": "code",
   "execution_count": null,
   "id": "c735e399",
   "metadata": {},
   "outputs": [],
   "source": []
  }
 ],
 "metadata": {
  "kernelspec": {
   "display_name": "Python 3 (ipykernel)",
   "language": "python",
   "name": "python3"
  },
  "language_info": {
   "codemirror_mode": {
    "name": "ipython",
    "version": 3
   },
   "file_extension": ".py",
   "mimetype": "text/x-python",
   "name": "python",
   "nbconvert_exporter": "python",
   "pygments_lexer": "ipython3",
   "version": "3.10.13"
  }
 },
 "nbformat": 4,
 "nbformat_minor": 5
}
