{
 "cells": [
  {
   "cell_type": "code",
   "execution_count": 5,
   "id": "8e2ca069",
   "metadata": {},
   "outputs": [
    {
     "name": "stdout",
     "output_type": "stream",
     "text": [
      "square of 6\n",
      "36\n"
     ]
    }
   ],
   "source": [
    "# Python Program to calculate the square of a given number.\n",
    "\n",
    "num=int(input('square of '))\n",
    "print(num**2)"
   ]
  },
  {
   "cell_type": "code",
   "execution_count": 8,
   "id": "bb384f2f",
   "metadata": {},
   "outputs": [
    {
     "name": "stdout",
     "output_type": "stream",
     "text": [
      "cube of 5\n",
      "125\n"
     ]
    }
   ],
   "source": [
    "# Python Program to calculate the cube of a given number.\n",
    "num=int(input('cube of '))\n",
    "print(num**3)"
   ]
  },
  {
   "cell_type": "code",
   "execution_count": 3,
   "id": "ac258000",
   "metadata": {},
   "outputs": [
    {
     "name": "stdout",
     "output_type": "stream",
     "text": [
      "number 1: 5\n",
      "number 2: 6\n",
      "30\n"
     ]
    }
   ],
   "source": [
    "# Python program to calculate LCM of given two numbers.\n",
    "\n",
    "num=int(input('number 1: '))\n",
    "num1=int(input('number 2: '))\n",
    "if num>num1:\n",
    "    greater=num\n",
    "else:\n",
    "    greater=num1\n",
    "while (True):\n",
    "    if ((greater%num==0) & (greater%num1==0)):\n",
    "        lcm=greater\n",
    "        break\n",
    "    greater += 1  \n",
    "print(greater)"
   ]
  },
  {
   "cell_type": "code",
   "execution_count": 25,
   "id": "e2a46aeb",
   "metadata": {},
   "outputs": [
    {
     "name": "stdout",
     "output_type": "stream",
     "text": [
      "number 1: 5\n",
      "number 2: 6\n",
      "1\n"
     ]
    }
   ],
   "source": [
    "# Python Program to find GCD or HCF of two numbers.\n",
    "\n",
    "num=int(input('number 1: '))\n",
    "num1=int(input('number 2: '))\n",
    "\n",
    "if num>num1:\n",
    "    minimum=num\n",
    "else:\n",
    "    minimum=num1\n",
    "for x in range(1,minimum+1):\n",
    "    if ((num%x==0) & (num1%x==0)):\n",
    "        hcf = x\n",
    "print(hcf)"
   ]
  },
  {
   "cell_type": "code",
   "execution_count": 39,
   "id": "7ae1c1e9",
   "metadata": {},
   "outputs": [
    {
     "name": "stdout",
     "output_type": "stream",
     "text": [
      "number 1: 4\n",
      "number 2: 0\n",
      "4\n"
     ]
    }
   ],
   "source": [
    "# Python Program to find GCD or HCF of two numbers.\n",
    "\n",
    "def gcd(num,num1):\n",
    "    if num1==0:\n",
    "        return num\n",
    "    return gcd(num1, num%num1)\n",
    "\n",
    "num=int(input('number 1: '))\n",
    "num1=int(input('number 2: '))\n",
    "result=gcd(num,num1)\n",
    "print(result)"
   ]
  },
  {
   "cell_type": "code",
   "execution_count": null,
   "id": "c5c94d1c",
   "metadata": {},
   "outputs": [],
   "source": []
  }
 ],
 "metadata": {
  "kernelspec": {
   "display_name": "Python 3 (ipykernel)",
   "language": "python",
   "name": "python3"
  },
  "language_info": {
   "codemirror_mode": {
    "name": "ipython",
    "version": 3
   },
   "file_extension": ".py",
   "mimetype": "text/x-python",
   "name": "python",
   "nbconvert_exporter": "python",
   "pygments_lexer": "ipython3",
   "version": "3.10.13"
  }
 },
 "nbformat": 4,
 "nbformat_minor": 5
}
