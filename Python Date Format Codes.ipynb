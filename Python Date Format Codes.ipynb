{
 "cells": [
  {
   "cell_type": "raw",
   "id": "b9e1e40c",
   "metadata": {},
   "source": [
    "Data Format Codes\n",
    "\n",
    "A reference of all the legal format codes:"
   ]
  },
  {
   "cell_type": "raw",
   "id": "09b1a042",
   "metadata": {},
   "source": [
    "%a\tWeekday, short version\tWed\t\n",
    "%A\tWeekday, full version\tWednesday\t\n",
    "%w\tWeekday as a number 0-6, 0 is Sunday\t3\t\n",
    "%d\tDay of month 01-31\t31\t\n",
    "%b\tMonth name, short version\tDec\t\n",
    "%B\tMonth name, full version\tDecember\t\n",
    "%m\tMonth as a number 01-12\t12\t\n",
    "%y\tYear, short version, without century\t18\t\n",
    "%Y\tYear, full version\t2018\t\n",
    "%H\tHour 00-23\t17\t\n",
    "%I\tHour 01-12\t05\t\n",
    "%p\tAM/PM\tPM\t\n",
    "%M\tMinute 00-59\t41\t\n",
    "%S\tSecond 00-59\t08\t\n",
    "%f\tMicrosecond 000000-999999\t548513\t\n",
    "%z\tUTC offset\t+0100\t\n",
    "%Z\tTimezone\tCST\t\n",
    "%j\tDay number of year 001-366\t365\t\n",
    "%U\tWeek number of year, Sunday as the first day of week, 00-53\t52\t\n",
    "%W\tWeek number of year, Monday as the first day of week, 00-53\t52\t\n",
    "%c\tLocal version of date and time\tMon Dec 31 17:41:00 2018\t\n",
    "%x\tLocal version of date\t12/31/18\t\n",
    "%X\tLocal version of time\t17:41:00\t\n",
    "%%\tA % character\t%"
   ]
  },
  {
   "cell_type": "code",
   "execution_count": 2,
   "id": "1a5f8d99",
   "metadata": {},
   "outputs": [],
   "source": [
    "import datetime"
   ]
  },
  {
   "cell_type": "code",
   "execution_count": 15,
   "id": "f4bb77ed",
   "metadata": {},
   "outputs": [
    {
     "name": "stdout",
     "output_type": "stream",
     "text": [
      "November\n"
     ]
    }
   ],
   "source": [
    "now=datetime.datetime.now()\n",
    "print(now.strftime('%B'))\n",
    "# Output: %B is full form of month"
   ]
  },
  {
   "cell_type": "code",
   "execution_count": 16,
   "id": "39b72b06",
   "metadata": {},
   "outputs": [
    {
     "name": "stdout",
     "output_type": "stream",
     "text": [
      "Nov\n"
     ]
    }
   ],
   "source": [
    "now=datetime.datetime.now()\n",
    "print(now.strftime('%b'))\n",
    "# Output: %B is short form of month"
   ]
  },
  {
   "cell_type": "code",
   "execution_count": 17,
   "id": "421c5c25",
   "metadata": {},
   "outputs": [
    {
     "name": "stdout",
     "output_type": "stream",
     "text": [
      "Monday\n"
     ]
    }
   ],
   "source": [
    "now=datetime.datetime.now()\n",
    "print(now.strftime('%A'))\n",
    "# Output: %A is full form of day"
   ]
  },
  {
   "cell_type": "code",
   "execution_count": 18,
   "id": "ae27ca2b",
   "metadata": {},
   "outputs": [
    {
     "name": "stdout",
     "output_type": "stream",
     "text": [
      "Mon\n"
     ]
    }
   ],
   "source": [
    "now=datetime.datetime.now()\n",
    "print(now.strftime('%a'))\n",
    "# Output: %a is short form of day"
   ]
  },
  {
   "cell_type": "code",
   "execution_count": 19,
   "id": "db397b37",
   "metadata": {},
   "outputs": [
    {
     "name": "stdout",
     "output_type": "stream",
     "text": [
      "20\n"
     ]
    }
   ],
   "source": [
    "now=datetime.datetime.now()\n",
    "print(now.strftime('%d'))\n",
    "#ourput: todays date"
   ]
  },
  {
   "cell_type": "code",
   "execution_count": 20,
   "id": "fbc6dfa6",
   "metadata": {},
   "outputs": [
    {
     "name": "stdout",
     "output_type": "stream",
     "text": [
      "11\n"
     ]
    }
   ],
   "source": [
    "now=datetime.datetime.now()\n",
    "print(now.strftime('%m'))\n",
    "#ourput: current month number"
   ]
  },
  {
   "cell_type": "code",
   "execution_count": 21,
   "id": "1f6b19aa",
   "metadata": {},
   "outputs": [
    {
     "name": "stdout",
     "output_type": "stream",
     "text": [
      "23\n"
     ]
    }
   ],
   "source": [
    "now=datetime.datetime.now()\n",
    "print(now.strftime('%y'))\n",
    "#ourput: current year short form"
   ]
  },
  {
   "cell_type": "code",
   "execution_count": 22,
   "id": "bd51455b",
   "metadata": {},
   "outputs": [
    {
     "name": "stdout",
     "output_type": "stream",
     "text": [
      "2023\n"
     ]
    }
   ],
   "source": [
    "now=datetime.datetime.now()\n",
    "print(now.strftime('%Y'))\n",
    "#ourput: current year full form"
   ]
  },
  {
   "cell_type": "code",
   "execution_count": 23,
   "id": "a9405044",
   "metadata": {},
   "outputs": [
    {
     "name": "stdout",
     "output_type": "stream",
     "text": [
      "19\n"
     ]
    }
   ],
   "source": [
    "now=datetime.datetime.now()\n",
    "print(now.strftime('%H'))\n",
    "# Output: current hour according to 24-format"
   ]
  },
  {
   "cell_type": "code",
   "execution_count": 24,
   "id": "1b3bc241",
   "metadata": {},
   "outputs": [
    {
     "name": "stdout",
     "output_type": "stream",
     "text": [
      "Nov\n"
     ]
    }
   ],
   "source": [
    "now=datetime.datetime.now()\n",
    "print(now.strftime('%h'))\n",
    "# Output: current also give current month in short form"
   ]
  },
  {
   "cell_type": "code",
   "execution_count": 25,
   "id": "6660ded8",
   "metadata": {},
   "outputs": [
    {
     "name": "stdout",
     "output_type": "stream",
     "text": [
      "07\n"
     ]
    }
   ],
   "source": [
    "now=datetime.datetime.now()\n",
    "print(now.strftime('%I'))\n",
    "# Output: current hour not according to 24-format\n"
   ]
  },
  {
   "cell_type": "code",
   "execution_count": 27,
   "id": "82ee68f9",
   "metadata": {},
   "outputs": [
    {
     "name": "stdout",
     "output_type": "stream",
     "text": [
      "PM\n"
     ]
    }
   ],
   "source": [
    "now=datetime.datetime.now()\n",
    "print(now.strftime('%p'))\n",
    "# Output: gives current am and pm"
   ]
  },
  {
   "cell_type": "code",
   "execution_count": 28,
   "id": "95f8c7b2",
   "metadata": {},
   "outputs": [
    {
     "name": "stdout",
     "output_type": "stream",
     "text": [
      "53\n"
     ]
    }
   ],
   "source": [
    "now=datetime.datetime.now()\n",
    "print(now.strftime('%M'))\n",
    "# Output: current mintue"
   ]
  },
  {
   "cell_type": "code",
   "execution_count": 29,
   "id": "d1875bd8",
   "metadata": {},
   "outputs": [
    {
     "name": "stdout",
     "output_type": "stream",
     "text": [
      "42\n"
     ]
    }
   ],
   "source": [
    "now=datetime.datetime.now()\n",
    "print(now.strftime('%S'))\n",
    "# Output: current second"
   ]
  },
  {
   "cell_type": "code",
   "execution_count": 32,
   "id": "25d22b57",
   "metadata": {},
   "outputs": [
    {
     "name": "stdout",
     "output_type": "stream",
     "text": [
      "921193\n"
     ]
    }
   ],
   "source": [
    "now=datetime.datetime.now()\n",
    "print(now.strftime('%f'))\n",
    "# Output: current micro seconds"
   ]
  },
  {
   "cell_type": "code",
   "execution_count": 25,
   "id": "8c138b0f",
   "metadata": {},
   "outputs": [
    {
     "name": "stdout",
     "output_type": "stream",
     "text": [
      "325\n"
     ]
    }
   ],
   "source": [
    "now=datetime.datetime.now()\n",
    "print(now.strftime('%j'))\n",
    "# Output: current date in the calendre of 365 days"
   ]
  },
  {
   "cell_type": "code",
   "execution_count": 37,
   "id": "d683b955",
   "metadata": {},
   "outputs": [
    {
     "name": "stdout",
     "output_type": "stream",
     "text": [
      "47\n"
     ]
    }
   ],
   "source": [
    "now=datetime.datetime.now()\n",
    "print(now.strftime('%U'))\n",
    "# Output: current week accordding to the calender Sunday as the first day of week,"
   ]
  },
  {
   "cell_type": "code",
   "execution_count": 27,
   "id": "bb3cd188",
   "metadata": {},
   "outputs": [
    {
     "name": "stdout",
     "output_type": "stream",
     "text": [
      "47\n"
     ]
    }
   ],
   "source": [
    "now=datetime.datetime.now()\n",
    "print(now.strftime('%W'))\n",
    "# Output: urrent week accordding to the calender Monday as the first day of week,"
   ]
  },
  {
   "cell_type": "code",
   "execution_count": 39,
   "id": "c0ef3d08",
   "metadata": {},
   "outputs": [
    {
     "name": "stdout",
     "output_type": "stream",
     "text": [
      "Mon Nov 20 19:57:23 2023\n"
     ]
    }
   ],
   "source": [
    "now=datetime.datetime.now()\n",
    "print(now.strftime('%c'))\n",
    "# Output: local version of date and time"
   ]
  },
  {
   "cell_type": "code",
   "execution_count": 40,
   "id": "81aaf4f3",
   "metadata": {},
   "outputs": [
    {
     "name": "stdout",
     "output_type": "stream",
     "text": [
      "11/20/23\n"
     ]
    }
   ],
   "source": [
    "now=datetime.datetime.now()\n",
    "print(now.strftime('%x'))\n",
    "# Output: date as month/day/years format"
   ]
  },
  {
   "cell_type": "code",
   "execution_count": 41,
   "id": "b4570521",
   "metadata": {},
   "outputs": [
    {
     "name": "stdout",
     "output_type": "stream",
     "text": [
      "19:58:51\n"
     ]
    }
   ],
   "source": [
    "now=datetime.datetime.now()\n",
    "print(now.strftime('%X'))\n",
    "# Output: time as hours/mintue/seconds format"
   ]
  },
  {
   "cell_type": "code",
   "execution_count": null,
   "id": "8e5eae7a",
   "metadata": {},
   "outputs": [],
   "source": [
    "now=datetime.datetime.now()\n",
    "print(now.strftime('%W'))\n",
    "# Output: urrent week accordding to the calender Monday as the first day of week,"
   ]
  },
  {
   "cell_type": "code",
   "execution_count": 48,
   "id": "f53f03ad",
   "metadata": {},
   "outputs": [
    {
     "name": "stdout",
     "output_type": "stream",
     "text": [
      "enter1992\n"
     ]
    },
    {
     "data": {
      "text/plain": [
       "True"
      ]
     },
     "execution_count": 48,
     "metadata": {},
     "output_type": "execute_result"
    }
   ],
   "source": [
    "# Write a Python program to determine whether a given year is a leap year.\n",
    "\n",
    "def year(x):\n",
    "    if x%4==0:\n",
    "        return True\n",
    "    if x%400==0:\n",
    "        return True\n",
    "    else:\n",
    "        return False\n",
    "\n",
    "x=int(input(\"enter\"))\n",
    "year(x)"
   ]
  },
  {
   "cell_type": "code",
   "execution_count": 67,
   "id": "878645c4",
   "metadata": {},
   "outputs": [
    {
     "name": "stdout",
     "output_type": "stream",
     "text": [
      "2014-01-01 02:43:56\n"
     ]
    }
   ],
   "source": [
    "# Write a Python program to convert a string to datetime.Jan 1 2014 2:43PM\n",
    "\n",
    "from datetime import datetime\n",
    "date_time=datetime.strptime('Jan 1 2014 2:43:56PM', '%b %d %Y %H:%M:%S%p')\n",
    "print(date_time)\n"
   ]
  },
  {
   "cell_type": "code",
   "execution_count": 75,
   "id": "cc0cd366",
   "metadata": {},
   "outputs": [
    {
     "name": "stdout",
     "output_type": "stream",
     "text": [
      "2010 10 September 13:31:22\n"
     ]
    }
   ],
   "source": [
    "# Write a Python program to convert a Unix timestamp string to a readable date.\n",
    "\n",
    "print(datetime.datetime.fromtimestamp(int(\"1284105682\")).strftime('%Y %d %B %H:%M:%S'))"
   ]
  },
  {
   "cell_type": "markdown",
   "id": "f261a8ec",
   "metadata": {},
   "source": [
    "Python timedelta() function is present under datetime library which is generally used for calculating differences in dates and also can be used for date manipulations in Python"
   ]
  },
  {
   "cell_type": "code",
   "execution_count": 83,
   "id": "56464a25",
   "metadata": {},
   "outputs": [
    {
     "name": "stdout",
     "output_type": "stream",
     "text": [
      "today: 2023-11-20\n",
      "yesterday: 2023-11-19\n",
      "tom: 2023-11-21\n"
     ]
    }
   ],
   "source": [
    "#Write a Python program to print yesterday, today, tomorrow.\n",
    "\n",
    "today=datetime.date.today()\n",
    "yesterday=today-datetime.timedelta(days=1)\n",
    "tom=today+datetime.timedelta(days=1)\n",
    "print('today:', today)\n",
    "print('yesterday:', yesterday)\n",
    "print('tom:', tom)"
   ]
  },
  {
   "cell_type": "code",
   "execution_count": 85,
   "id": "014e1555",
   "metadata": {},
   "outputs": [
    {
     "name": "stdout",
     "output_type": "stream",
     "text": [
      "2023-11-20\n",
      "2023-11-21\n",
      "2023-11-22\n",
      "2023-11-23\n",
      "2023-11-24\n",
      "2023-11-25\n"
     ]
    }
   ],
   "source": [
    "# Write a Python program to print the next 5 days starting today.\n",
    "\n",
    "today=datetime.date.today()\n",
    "for x in range(0,6):\n",
    "    print(today+datetime.timedelta(days=x))"
   ]
  },
  {
   "cell_type": "code",
   "execution_count": 87,
   "id": "85238d3d",
   "metadata": {},
   "outputs": [
    {
     "name": "stdout",
     "output_type": "stream",
     "text": [
      "2023-11-20 20:57:05.445717\n",
      "2023-11-20 20:57:10.445717\n"
     ]
    }
   ],
   "source": [
    "# Write a Python program to add 5 seconds to the current time.\n",
    "\n",
    "x=datetime.datetime.now()\n",
    "y=x+datetime.timedelta(0,5)\n",
    "print(x)\n",
    "print(y)"
   ]
  },
  {
   "cell_type": "code",
   "execution_count": 89,
   "id": "52a441cf",
   "metadata": {
    "scrolled": true
   },
   "outputs": [
    {
     "name": "stdout",
     "output_type": "stream",
     "text": [
      "324\n"
     ]
    }
   ],
   "source": [
    "# Write a Python program to convert Year/Month/Day to Day of Year in Python.\n",
    "today = datetime.datetime.now()\n",
    "print(now.strftime('%j'))"
   ]
  },
  {
   "cell_type": "markdown",
   "id": "778d7096",
   "metadata": {},
   "source": [
    "The Weekday() function"
   ]
  },
  {
   "cell_type": "raw",
   "id": "68567a3a",
   "metadata": {},
   "source": [
    "The weekday() function of date class in datetime module, returns an integer corresponding to the day of the week"
   ]
  },
  {
   "cell_type": "code",
   "execution_count": 98,
   "id": "c8cd4fa3",
   "metadata": {},
   "outputs": [
    {
     "name": "stdout",
     "output_type": "stream",
     "text": [
      "This year's Christmas is on a Monday\n"
     ]
    }
   ],
   "source": [
    "# Example:\n",
    "\n",
    "import datetime\n",
    "weekday = (\"Monday\",\"Tuesday\",\"Wednesday\",\"Thursday\",\"Friday\",\"Saturday\",\"Sunday\")\n",
    "thisXMas = datetime.date(2017,12,25)\n",
    "Xmas=thisXMas.weekday()\n",
    "X=weekDays[Xmas]\n",
    "print(\"This year's Christmas is on a {}\".format(X))"
   ]
  },
  {
   "cell_type": "code",
   "execution_count": 21,
   "id": "86bd6459",
   "metadata": {},
   "outputs": [
    {
     "name": "stdout",
     "output_type": "stream",
     "text": [
      "2022-12-26 00:00:00\n",
      "2023-01-02 00:00:00\n",
      "2023-01-09 00:00:00\n",
      "2023-01-16 00:00:00\n",
      "2023-01-23 00:00:00\n",
      "2023-01-30 00:00:00\n",
      "2023-02-06 00:00:00\n",
      "2023-02-13 00:00:00\n",
      "2023-02-20 00:00:00\n",
      "2023-02-27 00:00:00\n",
      "2023-03-06 00:00:00\n",
      "2023-03-13 00:00:00\n",
      "2023-03-20 00:00:00\n",
      "2023-03-27 00:00:00\n",
      "2023-04-03 00:00:00\n",
      "2023-04-10 00:00:00\n",
      "2023-04-17 00:00:00\n",
      "2023-04-24 00:00:00\n",
      "2023-05-01 00:00:00\n",
      "2023-05-08 00:00:00\n",
      "2023-05-15 00:00:00\n",
      "2023-05-22 00:00:00\n",
      "2023-05-29 00:00:00\n",
      "2023-06-05 00:00:00\n",
      "2023-06-12 00:00:00\n",
      "2023-06-19 00:00:00\n",
      "2023-06-26 00:00:00\n",
      "2023-07-03 00:00:00\n",
      "2023-07-10 00:00:00\n",
      "2023-07-17 00:00:00\n",
      "2023-07-24 00:00:00\n",
      "2023-07-31 00:00:00\n",
      "2023-08-07 00:00:00\n",
      "2023-08-14 00:00:00\n",
      "2023-08-21 00:00:00\n",
      "2023-08-28 00:00:00\n",
      "2023-09-04 00:00:00\n",
      "2023-09-11 00:00:00\n",
      "2023-09-18 00:00:00\n",
      "2023-09-25 00:00:00\n",
      "2023-10-02 00:00:00\n",
      "2023-10-09 00:00:00\n",
      "2023-10-16 00:00:00\n",
      "2023-10-23 00:00:00\n",
      "2023-10-30 00:00:00\n",
      "2023-11-06 00:00:00\n",
      "2023-11-13 00:00:00\n",
      "2023-11-20 00:00:00\n",
      "2023-11-27 00:00:00\n",
      "2023-12-04 00:00:00\n",
      "2023-12-11 00:00:00\n",
      "2023-12-18 00:00:00\n",
      "2023-12-25 00:00:00\n"
     ]
    }
   ],
   "source": [
    "# Write a Python program to select all the Sundays in a specified year.\n",
    "\n",
    "\n",
    "year = '2023'\n",
    "for week in range(53):\n",
    "    print(datetime.datetime.strptime(year+str(week)+'1','%Y%W%w'))\n",
    "    #'0' indicates index number of week days"
   ]
  },
  {
   "cell_type": "code",
   "execution_count": 6,
   "id": "d8e32015",
   "metadata": {},
   "outputs": [
    {
     "name": "stdout",
     "output_type": "stream",
     "text": [
      "Mon Dec  4 00:00:00 2023\n"
     ]
    }
   ],
   "source": [
    "# Write a Python program to find the date of the first Monday of a given week.\n",
    "\n",
    "import time\n",
    "print(time.asctime(time.strptime('2023 49 1', '%Y %W %w')))"
   ]
  },
  {
   "cell_type": "code",
   "execution_count": 24,
   "id": "c852e02a",
   "metadata": {},
   "outputs": [
    {
     "name": "stdout",
     "output_type": "stream",
     "text": [
      "2023-11-28\n"
     ]
    }
   ],
   "source": [
    "# Write a Python program to get the date of the last Tuesday\n",
    "\n",
    "from datetime import date\n",
    "from datetime import timedelta\n",
    "today=date.today()\n",
    "offset=(today.weekday()-1) % 7\n",
    "\n",
    "last_tuesday=today-timedelta(offset)\n",
    "print(last_tuesday)\n"
   ]
  },
  {
   "cell_type": "code",
   "execution_count": 31,
   "id": "3b41a639",
   "metadata": {},
   "outputs": [
    {
     "name": "stdout",
     "output_type": "stream",
     "text": [
      "(3, 29)\n"
     ]
    }
   ],
   "source": [
    "# Write a Python program to get the number of days in a given month and year.\n",
    "\n",
    "from calendar import monthrange\n",
    "year=2024\n",
    "month=2\n",
    "print(monthrange(year, month))"
   ]
  },
  {
   "cell_type": "code",
   "execution_count": 38,
   "id": "0d23c543",
   "metadata": {},
   "outputs": [
    {
     "name": "stdout",
     "output_type": "stream",
     "text": [
      "3\n"
     ]
    }
   ],
   "source": [
    "#Write a Porgram to count the number of Mondays on the 1st day of the month from 2015 to 2016.\n",
    "\n",
    "\n",
    "from datetime import datetime\n",
    "count=0\n",
    "months=range(1,13)\n",
    "for x in range(2015,2016):\n",
    "    for month in months:\n",
    "        if datetime(year, month, 1).weekday() == 0:\n",
    "            count=count+1\n",
    "    print(count)\n"
   ]
  },
  {
   "cell_type": "code",
   "execution_count": 44,
   "id": "2501c33d",
   "metadata": {},
   "outputs": [
    {
     "name": "stdout",
     "output_type": "stream",
     "text": [
      "2013-01-25\n"
     ]
    }
   ],
   "source": [
    "#rite a Python program to add a month to a specified date.\n",
    "\n",
    "from datetime import timedelta\n",
    "import calendar\n",
    "start_date=date(2012, 12, 25)\n",
    "days_in_month=calendar.monthrange(start_date.year,start_date.month)[1]\n",
    "print(start_date+ timedelta(days=days_in_month))\n"
   ]
  },
  {
   "cell_type": "code",
   "execution_count": null,
   "id": "563d6d50",
   "metadata": {},
   "outputs": [],
   "source": []
  }
 ],
 "metadata": {
  "kernelspec": {
   "display_name": "Python 3 (ipykernel)",
   "language": "python",
   "name": "python3"
  },
  "language_info": {
   "codemirror_mode": {
    "name": "ipython",
    "version": 3
   },
   "file_extension": ".py",
   "mimetype": "text/x-python",
   "name": "python",
   "nbconvert_exporter": "python",
   "pygments_lexer": "ipython3",
   "version": "3.11.5"
  }
 },
 "nbformat": 4,
 "nbformat_minor": 5
}
